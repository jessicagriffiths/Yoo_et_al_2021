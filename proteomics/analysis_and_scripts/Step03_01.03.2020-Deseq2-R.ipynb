{
 "cells": [
  {
   "cell_type": "code",
   "execution_count": 2,
   "metadata": {},
   "outputs": [],
   "source": [
    "library(DESeq2)\n",
    "library(ggplot2)\n",
    "library(ggfortify)\n",
    "library(devtools)\n",
    "library(ellipse)\n",
    "library(cluster)\n",
    "library(factoextra)\n",
    "library(EnhancedVolcano)\n",
    "library(grid)\n",
    "library(gridExtra)\n",
    "library(genefilter)"
   ]
  },
  {
   "cell_type": "code",
   "execution_count": 3,
   "metadata": {},
   "outputs": [
    {
     "data": {
      "text/html": [
       "<table>\n",
       "<caption>A data.frame: 6 × 18</caption>\n",
       "<thead>\n",
       "\t<tr><th></th><th scope=col>Cluster</th><th scope=col>1</th><th scope=col>2</th><th scope=col>3</th><th scope=col>4</th><th scope=col>5</th><th scope=col>6</th><th scope=col>7</th><th scope=col>8</th><th scope=col>9</th><th scope=col>10</th><th scope=col>11</th><th scope=col>12</th><th scope=col>13</th><th scope=col>14</th><th scope=col>15</th><th scope=col>16</th><th scope=col>17</th></tr>\n",
       "\t<tr><th></th><th scope=col>&lt;fct&gt;</th><th scope=col>&lt;int&gt;</th><th scope=col>&lt;int&gt;</th><th scope=col>&lt;int&gt;</th><th scope=col>&lt;int&gt;</th><th scope=col>&lt;int&gt;</th><th scope=col>&lt;int&gt;</th><th scope=col>&lt;int&gt;</th><th scope=col>&lt;int&gt;</th><th scope=col>&lt;int&gt;</th><th scope=col>&lt;int&gt;</th><th scope=col>&lt;int&gt;</th><th scope=col>&lt;int&gt;</th><th scope=col>&lt;int&gt;</th><th scope=col>&lt;int&gt;</th><th scope=col>&lt;int&gt;</th><th scope=col>&lt;int&gt;</th><th scope=col>&lt;int&gt;</th></tr>\n",
       "</thead>\n",
       "<tbody>\n",
       "\t<tr><th scope=row>1</th><td>Cluster0</td><td>0</td><td>0</td><td>0</td><td>0</td><td>0</td><td>0</td><td>0</td><td>0</td><td>0</td><td>0</td><td>0</td><td>0</td><td>0</td><td>0</td><td>0</td><td>0</td><td>0</td></tr>\n",
       "\t<tr><th scope=row>2</th><td>Cluster1</td><td>0</td><td>0</td><td>0</td><td>0</td><td>0</td><td>0</td><td>0</td><td>0</td><td>0</td><td>0</td><td>0</td><td>0</td><td>0</td><td>0</td><td>0</td><td>0</td><td>0</td></tr>\n",
       "\t<tr><th scope=row>3</th><td>Cluster2</td><td>0</td><td>0</td><td>0</td><td>0</td><td>0</td><td>0</td><td>0</td><td>0</td><td>0</td><td>0</td><td>0</td><td>0</td><td>0</td><td>0</td><td>0</td><td>0</td><td>0</td></tr>\n",
       "\t<tr><th scope=row>4</th><td>Cluster3</td><td>0</td><td>0</td><td>0</td><td>0</td><td>0</td><td>0</td><td>0</td><td>0</td><td>0</td><td>0</td><td>0</td><td>0</td><td>0</td><td>0</td><td>0</td><td>0</td><td>0</td></tr>\n",
       "\t<tr><th scope=row>5</th><td>Cluster4</td><td>0</td><td>0</td><td>0</td><td>0</td><td>0</td><td>0</td><td>0</td><td>0</td><td>0</td><td>0</td><td>0</td><td>0</td><td>0</td><td>0</td><td>0</td><td>0</td><td>0</td></tr>\n",
       "\t<tr><th scope=row>6</th><td>Cluster5</td><td>0</td><td>0</td><td>0</td><td>0</td><td>0</td><td>0</td><td>0</td><td>0</td><td>0</td><td>0</td><td>0</td><td>0</td><td>0</td><td>0</td><td>0</td><td>0</td><td>0</td></tr>\n",
       "</tbody>\n",
       "</table>\n"
      ],
      "text/latex": [
       "A data.frame: 6 × 18\n",
       "\\begin{tabular}{r|llllllllllllllllll}\n",
       "  & Cluster & 1 & 2 & 3 & 4 & 5 & 6 & 7 & 8 & 9 & 10 & 11 & 12 & 13 & 14 & 15 & 16 & 17\\\\\n",
       "  & <fct> & <int> & <int> & <int> & <int> & <int> & <int> & <int> & <int> & <int> & <int> & <int> & <int> & <int> & <int> & <int> & <int> & <int>\\\\\n",
       "\\hline\n",
       "\t1 & Cluster0 & 0 & 0 & 0 & 0 & 0 & 0 & 0 & 0 & 0 & 0 & 0 & 0 & 0 & 0 & 0 & 0 & 0\\\\\n",
       "\t2 & Cluster1 & 0 & 0 & 0 & 0 & 0 & 0 & 0 & 0 & 0 & 0 & 0 & 0 & 0 & 0 & 0 & 0 & 0\\\\\n",
       "\t3 & Cluster2 & 0 & 0 & 0 & 0 & 0 & 0 & 0 & 0 & 0 & 0 & 0 & 0 & 0 & 0 & 0 & 0 & 0\\\\\n",
       "\t4 & Cluster3 & 0 & 0 & 0 & 0 & 0 & 0 & 0 & 0 & 0 & 0 & 0 & 0 & 0 & 0 & 0 & 0 & 0\\\\\n",
       "\t5 & Cluster4 & 0 & 0 & 0 & 0 & 0 & 0 & 0 & 0 & 0 & 0 & 0 & 0 & 0 & 0 & 0 & 0 & 0\\\\\n",
       "\t6 & Cluster5 & 0 & 0 & 0 & 0 & 0 & 0 & 0 & 0 & 0 & 0 & 0 & 0 & 0 & 0 & 0 & 0 & 0\\\\\n",
       "\\end{tabular}\n"
      ],
      "text/markdown": [
       "\n",
       "A data.frame: 6 × 18\n",
       "\n",
       "| <!--/--> | Cluster &lt;fct&gt; | 1 &lt;int&gt; | 2 &lt;int&gt; | 3 &lt;int&gt; | 4 &lt;int&gt; | 5 &lt;int&gt; | 6 &lt;int&gt; | 7 &lt;int&gt; | 8 &lt;int&gt; | 9 &lt;int&gt; | 10 &lt;int&gt; | 11 &lt;int&gt; | 12 &lt;int&gt; | 13 &lt;int&gt; | 14 &lt;int&gt; | 15 &lt;int&gt; | 16 &lt;int&gt; | 17 &lt;int&gt; |\n",
       "|---|---|---|---|---|---|---|---|---|---|---|---|---|---|---|---|---|---|---|\n",
       "| 1 | Cluster0 | 0 | 0 | 0 | 0 | 0 | 0 | 0 | 0 | 0 | 0 | 0 | 0 | 0 | 0 | 0 | 0 | 0 |\n",
       "| 2 | Cluster1 | 0 | 0 | 0 | 0 | 0 | 0 | 0 | 0 | 0 | 0 | 0 | 0 | 0 | 0 | 0 | 0 | 0 |\n",
       "| 3 | Cluster2 | 0 | 0 | 0 | 0 | 0 | 0 | 0 | 0 | 0 | 0 | 0 | 0 | 0 | 0 | 0 | 0 | 0 |\n",
       "| 4 | Cluster3 | 0 | 0 | 0 | 0 | 0 | 0 | 0 | 0 | 0 | 0 | 0 | 0 | 0 | 0 | 0 | 0 | 0 |\n",
       "| 5 | Cluster4 | 0 | 0 | 0 | 0 | 0 | 0 | 0 | 0 | 0 | 0 | 0 | 0 | 0 | 0 | 0 | 0 | 0 |\n",
       "| 6 | Cluster5 | 0 | 0 | 0 | 0 | 0 | 0 | 0 | 0 | 0 | 0 | 0 | 0 | 0 | 0 | 0 | 0 | 0 |\n",
       "\n"
      ],
      "text/plain": [
       "  Cluster  1 2 3 4 5 6 7 8 9 10 11 12 13 14 15 16 17\n",
       "1 Cluster0 0 0 0 0 0 0 0 0 0 0  0  0  0  0  0  0  0 \n",
       "2 Cluster1 0 0 0 0 0 0 0 0 0 0  0  0  0  0  0  0  0 \n",
       "3 Cluster2 0 0 0 0 0 0 0 0 0 0  0  0  0  0  0  0  0 \n",
       "4 Cluster3 0 0 0 0 0 0 0 0 0 0  0  0  0  0  0  0  0 \n",
       "5 Cluster4 0 0 0 0 0 0 0 0 0 0  0  0  0  0  0  0  0 \n",
       "6 Cluster5 0 0 0 0 0 0 0 0 0 0  0  0  0  0  0  0  0 "
      ]
     },
     "metadata": {},
     "output_type": "display_data"
    },
    {
     "data": {
      "text/html": [
       "<table>\n",
       "<caption>A data.frame: 17 × 4</caption>\n",
       "<thead>\n",
       "\t<tr><th scope=col>id</th><th scope=col>dex</th><th scope=col>celltype</th><th scope=col>geo_id</th></tr>\n",
       "\t<tr><th scope=col>&lt;int&gt;</th><th scope=col>&lt;fct&gt;</th><th scope=col>&lt;fct&gt;</th><th scope=col>&lt;int&gt;</th></tr>\n",
       "</thead>\n",
       "<tbody>\n",
       "\t<tr><td> 1</td><td>control  </td><td>fecal</td><td> 1</td></tr>\n",
       "\t<tr><td> 2</td><td>control  </td><td>fecal</td><td> 2</td></tr>\n",
       "\t<tr><td> 3</td><td>control  </td><td>fecal</td><td> 3</td></tr>\n",
       "\t<tr><td> 4</td><td>control  </td><td>fecal</td><td> 4</td></tr>\n",
       "\t<tr><td> 5</td><td>control  </td><td>fecal</td><td> 5</td></tr>\n",
       "\t<tr><td> 6</td><td>control  </td><td>fecal</td><td> 6</td></tr>\n",
       "\t<tr><td> 7</td><td>control  </td><td>fecal</td><td> 7</td></tr>\n",
       "\t<tr><td> 8</td><td>control  </td><td>fecal</td><td> 8</td></tr>\n",
       "\t<tr><td> 9</td><td>control  </td><td>fecal</td><td> 9</td></tr>\n",
       "\t<tr><td>10</td><td>activated</td><td>fecal</td><td>10</td></tr>\n",
       "\t<tr><td>11</td><td>activated</td><td>fecal</td><td>11</td></tr>\n",
       "\t<tr><td>12</td><td>activated</td><td>fecal</td><td>12</td></tr>\n",
       "\t<tr><td>13</td><td>activated</td><td>fecal</td><td>13</td></tr>\n",
       "\t<tr><td>14</td><td>activated</td><td>fecal</td><td>14</td></tr>\n",
       "\t<tr><td>15</td><td>activated</td><td>fecal</td><td>15</td></tr>\n",
       "\t<tr><td>16</td><td>activated</td><td>fecal</td><td>16</td></tr>\n",
       "\t<tr><td>17</td><td>activated</td><td>fecal</td><td>17</td></tr>\n",
       "</tbody>\n",
       "</table>\n"
      ],
      "text/latex": [
       "A data.frame: 17 × 4\n",
       "\\begin{tabular}{llll}\n",
       " id & dex & celltype & geo\\_id\\\\\n",
       " <int> & <fct> & <fct> & <int>\\\\\n",
       "\\hline\n",
       "\t  1 & control   & fecal &  1\\\\\n",
       "\t  2 & control   & fecal &  2\\\\\n",
       "\t  3 & control   & fecal &  3\\\\\n",
       "\t  4 & control   & fecal &  4\\\\\n",
       "\t  5 & control   & fecal &  5\\\\\n",
       "\t  6 & control   & fecal &  6\\\\\n",
       "\t  7 & control   & fecal &  7\\\\\n",
       "\t  8 & control   & fecal &  8\\\\\n",
       "\t  9 & control   & fecal &  9\\\\\n",
       "\t 10 & activated & fecal & 10\\\\\n",
       "\t 11 & activated & fecal & 11\\\\\n",
       "\t 12 & activated & fecal & 12\\\\\n",
       "\t 13 & activated & fecal & 13\\\\\n",
       "\t 14 & activated & fecal & 14\\\\\n",
       "\t 15 & activated & fecal & 15\\\\\n",
       "\t 16 & activated & fecal & 16\\\\\n",
       "\t 17 & activated & fecal & 17\\\\\n",
       "\\end{tabular}\n"
      ],
      "text/markdown": [
       "\n",
       "A data.frame: 17 × 4\n",
       "\n",
       "| id &lt;int&gt; | dex &lt;fct&gt; | celltype &lt;fct&gt; | geo_id &lt;int&gt; |\n",
       "|---|---|---|---|\n",
       "|  1 | control   | fecal |  1 |\n",
       "|  2 | control   | fecal |  2 |\n",
       "|  3 | control   | fecal |  3 |\n",
       "|  4 | control   | fecal |  4 |\n",
       "|  5 | control   | fecal |  5 |\n",
       "|  6 | control   | fecal |  6 |\n",
       "|  7 | control   | fecal |  7 |\n",
       "|  8 | control   | fecal |  8 |\n",
       "|  9 | control   | fecal |  9 |\n",
       "| 10 | activated | fecal | 10 |\n",
       "| 11 | activated | fecal | 11 |\n",
       "| 12 | activated | fecal | 12 |\n",
       "| 13 | activated | fecal | 13 |\n",
       "| 14 | activated | fecal | 14 |\n",
       "| 15 | activated | fecal | 15 |\n",
       "| 16 | activated | fecal | 16 |\n",
       "| 17 | activated | fecal | 17 |\n",
       "\n"
      ],
      "text/plain": [
       "   id dex       celltype geo_id\n",
       "1   1 control   fecal     1    \n",
       "2   2 control   fecal     2    \n",
       "3   3 control   fecal     3    \n",
       "4   4 control   fecal     4    \n",
       "5   5 control   fecal     5    \n",
       "6   6 control   fecal     6    \n",
       "7   7 control   fecal     7    \n",
       "8   8 control   fecal     8    \n",
       "9   9 control   fecal     9    \n",
       "10 10 activated fecal    10    \n",
       "11 11 activated fecal    11    \n",
       "12 12 activated fecal    12    \n",
       "13 13 activated fecal    13    \n",
       "14 14 activated fecal    14    \n",
       "15 15 activated fecal    15    \n",
       "16 16 activated fecal    16    \n",
       "17 17 activated fecal    17    "
      ]
     },
     "metadata": {},
     "output_type": "display_data"
    },
    {
     "name": "stderr",
     "output_type": "stream",
     "text": [
      "  it appears that the last variable in the design formula, 'dex',\n",
      "  has a factor level, 'control', which is not the reference level. we recommend\n",
      "  to use factor(...,levels=...) or relevel() to set this as the reference level\n",
      "  before proceeding. for more information, please see the 'Note on factor levels'\n",
      "  in vignette('DESeq2').\n",
      "\n"
     ]
    },
    {
     "data": {
      "text/plain": [
       "class: DESeqDataSet \n",
       "dim: 1748 17 \n",
       "metadata(1): version\n",
       "assays(1): counts\n",
       "rownames(1748): Cluster6 Cluster11 ... Cluster36412 Cluster36546\n",
       "rowData names(0):\n",
       "colnames(17): 1 2 ... 16 17\n",
       "colData names(4): id dex celltype geo_id"
      ]
     },
     "metadata": {},
     "output_type": "display_data"
    },
    {
     "name": "stderr",
     "output_type": "stream",
     "text": [
      "estimating size factors\n",
      "\n",
      "estimating dispersions\n",
      "\n",
      "gene-wise dispersion estimates\n",
      "\n",
      "mean-dispersion relationship\n",
      "\n",
      "-- note: fitType='parametric', but the dispersion trend was not well captured by the\n",
      "   function: y = a/x + b, and a local regression fit was automatically substituted.\n",
      "   specify fitType='local' or 'mean' to avoid this message next time.\n",
      "\n",
      "final dispersion estimates\n",
      "\n",
      "fitting model and testing\n",
      "\n",
      "-- replacing outliers and refitting for 13 genes\n",
      "-- DESeq argument 'minReplicatesForReplace' = 7 \n",
      "-- original counts are preserved in counts(dds)\n",
      "\n",
      "estimating dispersions\n",
      "\n",
      "fitting model and testing\n",
      "\n"
     ]
    },
    {
     "data": {
      "text/html": [
       "<table>\n",
       "<caption>A data.frame: 6 × 7</caption>\n",
       "<thead>\n",
       "\t<tr><th></th><th scope=col>row</th><th scope=col>baseMean</th><th scope=col>log2FoldChange</th><th scope=col>lfcSE</th><th scope=col>stat</th><th scope=col>pvalue</th><th scope=col>padj</th></tr>\n",
       "\t<tr><th></th><th scope=col>&lt;chr&gt;</th><th scope=col>&lt;dbl&gt;</th><th scope=col>&lt;dbl&gt;</th><th scope=col>&lt;dbl&gt;</th><th scope=col>&lt;dbl&gt;</th><th scope=col>&lt;dbl&gt;</th><th scope=col>&lt;dbl&gt;</th></tr>\n",
       "</thead>\n",
       "<tbody>\n",
       "\t<tr><th scope=row>1</th><td>Cluster6 </td><td>0.2028573</td><td> 1.2407343</td><td>2.7656958</td><td> 0.4486156</td><td>0.653708963</td><td>        NA</td></tr>\n",
       "\t<tr><th scope=row>2</th><td>Cluster11</td><td>3.6478669</td><td>-2.4742167</td><td>0.8449102</td><td>-2.9283782</td><td>0.003407353</td><td>0.09807251</td></tr>\n",
       "\t<tr><th scope=row>3</th><td>Cluster13</td><td>0.2763997</td><td>-1.7366703</td><td>2.9588186</td><td>-0.5869472</td><td>0.557239155</td><td>        NA</td></tr>\n",
       "\t<tr><th scope=row>4</th><td>Cluster19</td><td>0.5109991</td><td> 2.4039341</td><td>2.4327627</td><td> 0.9881499</td><td>0.323079264</td><td>        NA</td></tr>\n",
       "\t<tr><th scope=row>5</th><td>Cluster22</td><td>0.3550002</td><td> 1.8908143</td><td>3.0339021</td><td> 0.6232285</td><td>0.533134361</td><td>        NA</td></tr>\n",
       "\t<tr><th scope=row>6</th><td>Cluster24</td><td>0.1014286</td><td> 0.5995539</td><td>1.0541899</td><td> 0.5687342</td><td>0.569536540</td><td>        NA</td></tr>\n",
       "</tbody>\n",
       "</table>\n"
      ],
      "text/latex": [
       "A data.frame: 6 × 7\n",
       "\\begin{tabular}{r|lllllll}\n",
       "  & row & baseMean & log2FoldChange & lfcSE & stat & pvalue & padj\\\\\n",
       "  & <chr> & <dbl> & <dbl> & <dbl> & <dbl> & <dbl> & <dbl>\\\\\n",
       "\\hline\n",
       "\t1 & Cluster6  & 0.2028573 &  1.2407343 & 2.7656958 &  0.4486156 & 0.653708963 &         NA\\\\\n",
       "\t2 & Cluster11 & 3.6478669 & -2.4742167 & 0.8449102 & -2.9283782 & 0.003407353 & 0.09807251\\\\\n",
       "\t3 & Cluster13 & 0.2763997 & -1.7366703 & 2.9588186 & -0.5869472 & 0.557239155 &         NA\\\\\n",
       "\t4 & Cluster19 & 0.5109991 &  2.4039341 & 2.4327627 &  0.9881499 & 0.323079264 &         NA\\\\\n",
       "\t5 & Cluster22 & 0.3550002 &  1.8908143 & 3.0339021 &  0.6232285 & 0.533134361 &         NA\\\\\n",
       "\t6 & Cluster24 & 0.1014286 &  0.5995539 & 1.0541899 &  0.5687342 & 0.569536540 &         NA\\\\\n",
       "\\end{tabular}\n"
      ],
      "text/markdown": [
       "\n",
       "A data.frame: 6 × 7\n",
       "\n",
       "| <!--/--> | row &lt;chr&gt; | baseMean &lt;dbl&gt; | log2FoldChange &lt;dbl&gt; | lfcSE &lt;dbl&gt; | stat &lt;dbl&gt; | pvalue &lt;dbl&gt; | padj &lt;dbl&gt; |\n",
       "|---|---|---|---|---|---|---|---|\n",
       "| 1 | Cluster6  | 0.2028573 |  1.2407343 | 2.7656958 |  0.4486156 | 0.653708963 |         NA |\n",
       "| 2 | Cluster11 | 3.6478669 | -2.4742167 | 0.8449102 | -2.9283782 | 0.003407353 | 0.09807251 |\n",
       "| 3 | Cluster13 | 0.2763997 | -1.7366703 | 2.9588186 | -0.5869472 | 0.557239155 |         NA |\n",
       "| 4 | Cluster19 | 0.5109991 |  2.4039341 | 2.4327627 |  0.9881499 | 0.323079264 |         NA |\n",
       "| 5 | Cluster22 | 0.3550002 |  1.8908143 | 3.0339021 |  0.6232285 | 0.533134361 |         NA |\n",
       "| 6 | Cluster24 | 0.1014286 |  0.5995539 | 1.0541899 |  0.5687342 | 0.569536540 |         NA |\n",
       "\n"
      ],
      "text/plain": [
       "  row       baseMean  log2FoldChange lfcSE     stat       pvalue     \n",
       "1 Cluster6  0.2028573  1.2407343     2.7656958  0.4486156 0.653708963\n",
       "2 Cluster11 3.6478669 -2.4742167     0.8449102 -2.9283782 0.003407353\n",
       "3 Cluster13 0.2763997 -1.7366703     2.9588186 -0.5869472 0.557239155\n",
       "4 Cluster19 0.5109991  2.4039341     2.4327627  0.9881499 0.323079264\n",
       "5 Cluster22 0.3550002  1.8908143     3.0339021  0.6232285 0.533134361\n",
       "6 Cluster24 0.1014286  0.5995539     1.0541899  0.5687342 0.569536540\n",
       "  padj      \n",
       "1         NA\n",
       "2 0.09807251\n",
       "3         NA\n",
       "4         NA\n",
       "5         NA\n",
       "6         NA"
      ]
     },
     "metadata": {},
     "output_type": "display_data"
    },
    {
     "name": "stdout",
     "output_type": "stream",
     "text": [
      "\n",
      "out of 1744 with nonzero total read count\n",
      "adjusted p-value < 0.1\n",
      "LFC > 0 (up)       : 17, 0.97%\n",
      "LFC < 0 (down)     : 6, 0.34%\n",
      "outliers [1]       : 0, 0%\n",
      "low counts [2]     : 1086, 62%\n",
      "(mean count < 1)\n",
      "[1] see 'cooksCutoff' argument of ?results\n",
      "[2] see 'independentFiltering' argument of ?results\n",
      "\n"
     ]
    },
    {
     "data": {
      "text/plain": [
       "log2 fold change (MLE): dex control vs activated \n",
       "Wald test p-value: dex control vs activated \n",
       "DataFrame with 6 rows and 6 columns\n",
       "                     baseMean    log2FoldChange             lfcSE\n",
       "                    <numeric>         <numeric>         <numeric>\n",
       "Cluster21023 7.95606145980347  -2.4438605498806 0.578258556834746\n",
       "Cluster21064  11.521677237072 -1.25558152107207 0.312808006669715\n",
       "Cluster3818  3.33216547132179  3.23452545714114  0.85438447022315\n",
       "Cluster8558  1.90115766110368  4.30257672625962  1.14410074158235\n",
       "Cluster19956 1.19870195001309  3.62863647182079 0.977416702232892\n",
       "Cluster30880  1.2663184704653  3.70496170352275  1.00783988468799\n",
       "                          stat               pvalue               padj\n",
       "                     <numeric>            <numeric>          <numeric>\n",
       "Cluster21023 -4.22624191375174 2.37626526386281e-05 0.0157308760467718\n",
       "Cluster21064 -4.01390467731155 5.97224730199441e-05 0.0197681385696015\n",
       "Cluster3818   3.78579617241444 0.000153217226523443 0.0261256660309575\n",
       "Cluster8558   3.76066247480003 0.000169463962470181 0.0261256660309575\n",
       "Cluster19956  3.71247643255044  0.00020524117720878 0.0261256660309575\n",
       "Cluster30880  3.67614118057031 0.000236788513875748 0.0261256660309575"
      ]
     },
     "metadata": {},
     "output_type": "display_data"
    }
   ],
   "source": [
    "countData <- read.csv('DESEQ2input/Mousechat-assembleddump-95.txt', header = TRUE, sep = \",\", check.names=FALSE)\n",
    "head(countData)\n",
    "\n",
    "metaData <- read.csv('DESEQ2input/chat-metadata.csv', header = TRUE, sep = \",\", check.names=FALSE)\n",
    "metaData\n",
    "\n",
    "dds <- DESeqDataSetFromMatrix(countData=countData, \n",
    "                              colData=metaData, \n",
    "                              design=~dex, tidy = TRUE)\n",
    "keep <- rowSums(counts(dds)) > 0\n",
    "dds <- dds[keep,]\n",
    "\n",
    "dds\n",
    "\n",
    "dds <- DESeq(dds)\n",
    "\n",
    "res <- results(dds)\n",
    "head(results(dds, tidy=TRUE)) #let's look at the results table\n",
    "\n",
    "summary(res) #summary of results\n",
    "\n",
    "res <- res[order(res$padj),]\n",
    "head(res)\n",
    "\n",
    "vsdata <- varianceStabilizingTransformation(dds, blind=FALSE)\n",
    "\n",
    "vsdata2 <- data.frame(assay(vsdata))\n",
    "res <- data.frame(res)\n",
    "\n",
    "res2 <- merge(vsdata2, res, by=\"row.names\")\n",
    "#res2$ClusterID <- row.names(res2)\n",
    "res2$Row.names <- as.numeric(gsub(\"Cluster\", \"\", res2$Row.names))\n",
    "#coltomove <- grep('ClusterID', names(res2))\n",
    "#res2 <- res2[, c(coltomove, (1:ncol(res2))[-coltomove])]\n",
    "\n",
    "#write.csv(res2, \"ChatMB-SC-DESEQ2-65.csv\", row.names=FALSE)"
   ]
  },
  {
   "cell_type": "code",
   "execution_count": 188,
   "metadata": {},
   "outputs": [
    {
     "data": {
      "text/html": [
       "<table>\n",
       "<caption>A matrix: 3 × 17 of type dbl</caption>\n",
       "<thead>\n",
       "\t<tr><th></th><th scope=col>PC1</th><th scope=col>PC2</th><th scope=col>PC3</th><th scope=col>PC4</th><th scope=col>PC5</th><th scope=col>PC6</th><th scope=col>PC7</th><th scope=col>PC8</th><th scope=col>PC9</th><th scope=col>PC10</th><th scope=col>PC11</th><th scope=col>PC12</th><th scope=col>PC13</th><th scope=col>PC14</th><th scope=col>PC15</th><th scope=col>PC16</th><th scope=col>PC17</th></tr>\n",
       "</thead>\n",
       "<tbody>\n",
       "\t<tr><th scope=row>Standard deviation</th><td>14.48936</td><td>6.548284</td><td>5.473491</td><td>5.013713</td><td>4.900518</td><td>4.472838</td><td>4.410789</td><td>4.24955</td><td>4.186417</td><td>4.122806</td><td>3.857342</td><td>3.809785</td><td>3.591579</td><td>3.476884</td><td>3.376462</td><td>3.20016</td><td>5.119196e-15</td></tr>\n",
       "\t<tr><th scope=row>Proportion of Variance</th><td> 0.41988</td><td>0.085760</td><td>0.059920</td><td>0.050270</td><td>0.048030</td><td>0.040010</td><td>0.038910</td><td>0.03612</td><td>0.035050</td><td>0.034000</td><td>0.029760</td><td>0.029030</td><td>0.025800</td><td>0.024180</td><td>0.022800</td><td>0.02048</td><td>0.000000e+00</td></tr>\n",
       "\t<tr><th scope=row>Cumulative Proportion</th><td> 0.41988</td><td>0.505640</td><td>0.565560</td><td>0.615840</td><td>0.663870</td><td>0.703880</td><td>0.742790</td><td>0.77891</td><td>0.813960</td><td>0.847950</td><td>0.877710</td><td>0.906740</td><td>0.932540</td><td>0.956720</td><td>0.979520</td><td>1.00000</td><td>1.000000e+00</td></tr>\n",
       "</tbody>\n",
       "</table>\n"
      ],
      "text/latex": [
       "A matrix: 3 × 17 of type dbl\n",
       "\\begin{tabular}{r|lllllllllllllllll}\n",
       "  & PC1 & PC2 & PC3 & PC4 & PC5 & PC6 & PC7 & PC8 & PC9 & PC10 & PC11 & PC12 & PC13 & PC14 & PC15 & PC16 & PC17\\\\\n",
       "\\hline\n",
       "\tStandard deviation & 14.48936 & 6.548284 & 5.473491 & 5.013713 & 4.900518 & 4.472838 & 4.410789 & 4.24955 & 4.186417 & 4.122806 & 3.857342 & 3.809785 & 3.591579 & 3.476884 & 3.376462 & 3.20016 & 5.119196e-15\\\\\n",
       "\tProportion of Variance &  0.41988 & 0.085760 & 0.059920 & 0.050270 & 0.048030 & 0.040010 & 0.038910 & 0.03612 & 0.035050 & 0.034000 & 0.029760 & 0.029030 & 0.025800 & 0.024180 & 0.022800 & 0.02048 & 0.000000e+00\\\\\n",
       "\tCumulative Proportion &  0.41988 & 0.505640 & 0.565560 & 0.615840 & 0.663870 & 0.703880 & 0.742790 & 0.77891 & 0.813960 & 0.847950 & 0.877710 & 0.906740 & 0.932540 & 0.956720 & 0.979520 & 1.00000 & 1.000000e+00\\\\\n",
       "\\end{tabular}\n"
      ],
      "text/markdown": [
       "\n",
       "A matrix: 3 × 17 of type dbl\n",
       "\n",
       "| <!--/--> | PC1 | PC2 | PC3 | PC4 | PC5 | PC6 | PC7 | PC8 | PC9 | PC10 | PC11 | PC12 | PC13 | PC14 | PC15 | PC16 | PC17 |\n",
       "|---|---|---|---|---|---|---|---|---|---|---|---|---|---|---|---|---|---|\n",
       "| Standard deviation | 14.48936 | 6.548284 | 5.473491 | 5.013713 | 4.900518 | 4.472838 | 4.410789 | 4.24955 | 4.186417 | 4.122806 | 3.857342 | 3.809785 | 3.591579 | 3.476884 | 3.376462 | 3.20016 | 5.119196e-15 |\n",
       "| Proportion of Variance |  0.41988 | 0.085760 | 0.059920 | 0.050270 | 0.048030 | 0.040010 | 0.038910 | 0.03612 | 0.035050 | 0.034000 | 0.029760 | 0.029030 | 0.025800 | 0.024180 | 0.022800 | 0.02048 | 0.000000e+00 |\n",
       "| Cumulative Proportion |  0.41988 | 0.505640 | 0.565560 | 0.615840 | 0.663870 | 0.703880 | 0.742790 | 0.77891 | 0.813960 | 0.847950 | 0.877710 | 0.906740 | 0.932540 | 0.956720 | 0.979520 | 1.00000 | 1.000000e+00 |\n",
       "\n"
      ],
      "text/plain": [
       "                       PC1      PC2      PC3      PC4      PC5      PC6     \n",
       "Standard deviation     14.48936 6.548284 5.473491 5.013713 4.900518 4.472838\n",
       "Proportion of Variance  0.41988 0.085760 0.059920 0.050270 0.048030 0.040010\n",
       "Cumulative Proportion   0.41988 0.505640 0.565560 0.615840 0.663870 0.703880\n",
       "                       PC7      PC8     PC9      PC10     PC11     PC12    \n",
       "Standard deviation     4.410789 4.24955 4.186417 4.122806 3.857342 3.809785\n",
       "Proportion of Variance 0.038910 0.03612 0.035050 0.034000 0.029760 0.029030\n",
       "Cumulative Proportion  0.742790 0.77891 0.813960 0.847950 0.877710 0.906740\n",
       "                       PC13     PC14     PC15     PC16    PC17        \n",
       "Standard deviation     3.591579 3.476884 3.376462 3.20016 5.119196e-15\n",
       "Proportion of Variance 0.025800 0.024180 0.022800 0.02048 0.000000e+00\n",
       "Cumulative Proportion  0.932540 0.956720 0.979520 1.00000 1.000000e+00"
      ]
     },
     "metadata": {},
     "output_type": "display_data"
    },
    {
     "data": {
      "text/html": [
       "<strong>pdf:</strong> 2"
      ],
      "text/latex": [
       "\\textbf{pdf:} 2"
      ],
      "text/markdown": [
       "**pdf:** 2"
      ],
      "text/plain": [
       "pdf \n",
       "  2 "
      ]
     },
     "metadata": {},
     "output_type": "display_data"
    },
    {
     "data": {
      "image/png": "[encoded data removed]",
      "text/plain": [
       "Plot with title “df1a.pca”"
      ]
     },
     "metadata": {
      "image/png": {
       "height": 420,
       "width": 420
      },
      "text/plain": {
       "height": 420,
       "width": 420
      }
     },
     "output_type": "display_data"
    },
    {
     "data": {
      "text/html": [
       "<table>\n",
       "<caption>A matrix: 3 × 17 of type dbl</caption>\n",
       "<thead>\n",
       "\t<tr><th></th><th scope=col>PC1</th><th scope=col>PC2</th><th scope=col>PC3</th><th scope=col>PC4</th><th scope=col>PC5</th><th scope=col>PC6</th><th scope=col>PC7</th><th scope=col>PC8</th><th scope=col>PC9</th><th scope=col>PC10</th><th scope=col>PC11</th><th scope=col>PC12</th><th scope=col>PC13</th><th scope=col>PC14</th><th scope=col>PC15</th><th scope=col>PC16</th><th scope=col>PC17</th></tr>\n",
       "</thead>\n",
       "<tbody>\n",
       "\t<tr><th scope=row>Standard deviation</th><td>20.38257</td><td>13.10912</td><td>11.98584</td><td>11.07997</td><td>10.63478</td><td>10.31375</td><td>9.770821</td><td>9.109654</td><td>8.778856</td><td>8.636476</td><td>8.282508</td><td>7.847336</td><td>7.820828</td><td>7.378627</td><td>7.067243</td><td>6.996849</td><td>3.399459e-14</td></tr>\n",
       "\t<tr><th scope=row>Proportion of Variance</th><td> 0.23767</td><td> 0.09831</td><td> 0.08219</td><td> 0.07023</td><td> 0.06470</td><td> 0.06085</td><td>0.054620</td><td>0.047470</td><td>0.044090</td><td>0.042670</td><td>0.039240</td><td>0.035230</td><td>0.034990</td><td>0.031150</td><td>0.028570</td><td>0.028010</td><td>0.000000e+00</td></tr>\n",
       "\t<tr><th scope=row>Cumulative Proportion</th><td> 0.23767</td><td> 0.33598</td><td> 0.41817</td><td> 0.48840</td><td> 0.55310</td><td> 0.61396</td><td>0.668570</td><td>0.716050</td><td>0.760140</td><td>0.802810</td><td>0.842050</td><td>0.877280</td><td>0.912270</td><td>0.943420</td><td>0.971990</td><td>1.000000</td><td>1.000000e+00</td></tr>\n",
       "</tbody>\n",
       "</table>\n"
      ],
      "text/latex": [
       "A matrix: 3 × 17 of type dbl\n",
       "\\begin{tabular}{r|lllllllllllllllll}\n",
       "  & PC1 & PC2 & PC3 & PC4 & PC5 & PC6 & PC7 & PC8 & PC9 & PC10 & PC11 & PC12 & PC13 & PC14 & PC15 & PC16 & PC17\\\\\n",
       "\\hline\n",
       "\tStandard deviation & 20.38257 & 13.10912 & 11.98584 & 11.07997 & 10.63478 & 10.31375 & 9.770821 & 9.109654 & 8.778856 & 8.636476 & 8.282508 & 7.847336 & 7.820828 & 7.378627 & 7.067243 & 6.996849 & 3.399459e-14\\\\\n",
       "\tProportion of Variance &  0.23767 &  0.09831 &  0.08219 &  0.07023 &  0.06470 &  0.06085 & 0.054620 & 0.047470 & 0.044090 & 0.042670 & 0.039240 & 0.035230 & 0.034990 & 0.031150 & 0.028570 & 0.028010 & 0.000000e+00\\\\\n",
       "\tCumulative Proportion &  0.23767 &  0.33598 &  0.41817 &  0.48840 &  0.55310 &  0.61396 & 0.668570 & 0.716050 & 0.760140 & 0.802810 & 0.842050 & 0.877280 & 0.912270 & 0.943420 & 0.971990 & 1.000000 & 1.000000e+00\\\\\n",
       "\\end{tabular}\n"
      ],
      "text/markdown": [
       "\n",
       "A matrix: 3 × 17 of type dbl\n",
       "\n",
       "| <!--/--> | PC1 | PC2 | PC3 | PC4 | PC5 | PC6 | PC7 | PC8 | PC9 | PC10 | PC11 | PC12 | PC13 | PC14 | PC15 | PC16 | PC17 |\n",
       "|---|---|---|---|---|---|---|---|---|---|---|---|---|---|---|---|---|---|\n",
       "| Standard deviation | 20.38257 | 13.10912 | 11.98584 | 11.07997 | 10.63478 | 10.31375 | 9.770821 | 9.109654 | 8.778856 | 8.636476 | 8.282508 | 7.847336 | 7.820828 | 7.378627 | 7.067243 | 6.996849 | 3.399459e-14 |\n",
       "| Proportion of Variance |  0.23767 |  0.09831 |  0.08219 |  0.07023 |  0.06470 |  0.06085 | 0.054620 | 0.047470 | 0.044090 | 0.042670 | 0.039240 | 0.035230 | 0.034990 | 0.031150 | 0.028570 | 0.028010 | 0.000000e+00 |\n",
       "| Cumulative Proportion |  0.23767 |  0.33598 |  0.41817 |  0.48840 |  0.55310 |  0.61396 | 0.668570 | 0.716050 | 0.760140 | 0.802810 | 0.842050 | 0.877280 | 0.912270 | 0.943420 | 0.971990 | 1.000000 | 1.000000e+00 |\n",
       "\n"
      ],
      "text/plain": [
       "                       PC1      PC2      PC3      PC4      PC5      PC6     \n",
       "Standard deviation     20.38257 13.10912 11.98584 11.07997 10.63478 10.31375\n",
       "Proportion of Variance  0.23767  0.09831  0.08219  0.07023  0.06470  0.06085\n",
       "Cumulative Proportion   0.23767  0.33598  0.41817  0.48840  0.55310  0.61396\n",
       "                       PC7      PC8      PC9      PC10     PC11     PC12    \n",
       "Standard deviation     9.770821 9.109654 8.778856 8.636476 8.282508 7.847336\n",
       "Proportion of Variance 0.054620 0.047470 0.044090 0.042670 0.039240 0.035230\n",
       "Cumulative Proportion  0.668570 0.716050 0.760140 0.802810 0.842050 0.877280\n",
       "                       PC13     PC14     PC15     PC16     PC17        \n",
       "Standard deviation     7.820828 7.378627 7.067243 6.996849 3.399459e-14\n",
       "Proportion of Variance 0.034990 0.031150 0.028570 0.028010 0.000000e+00\n",
       "Cumulative Proportion  0.912270 0.943420 0.971990 1.000000 1.000000e+00"
      ]
     },
     "metadata": {},
     "output_type": "display_data"
    },
    {
     "data": {
      "text/html": [
       "<strong>pdf:</strong> 2"
      ],
      "text/latex": [
       "\\textbf{pdf:} 2"
      ],
      "text/markdown": [
       "**pdf:** 2"
      ],
      "text/plain": [
       "pdf \n",
       "  2 "
      ]
     },
     "metadata": {},
     "output_type": "display_data"
    },
    {
     "data": {
      "text/html": [
       "<strong>pdf:</strong> 2"
      ],
      "text/latex": [
       "\\textbf{pdf:} 2"
      ],
      "text/markdown": [
       "**pdf:** 2"
      ],
      "text/plain": [
       "pdf \n",
       "  2 "
      ]
     },
     "metadata": {},
     "output_type": "display_data"
    },
    {
     "data": {
      "text/html": [
       "<strong>pdf:</strong> 2"
      ],
      "text/latex": [
       "\\textbf{pdf:} 2"
      ],
      "text/markdown": [
       "**pdf:** 2"
      ],
      "text/plain": [
       "pdf \n",
       "  2 "
      ]
     },
     "metadata": {},
     "output_type": "display_data"
    },
    {
     "data": {
      "image/png": "[encoded data removed]",
      "text/plain": [
       "Plot with title “df2.pca”"
      ]
     },
     "metadata": {
      "image/png": {
       "height": 420,
       "width": 420
      },
      "text/plain": {
       "height": 420,
       "width": 420
      }
     },
     "output_type": "display_data"
    }
   ],
   "source": [
    "#----------------------------------------------------------------------OPTIMIZED FOR CHAT Deseq2 EXPERIMENTS----------------------------------------------------------------------\n",
    "\n",
    "#Select relevant rows and columns in dataframe then port to new dataframe\n",
    "df1 <- res2\n",
    "df1 <- data.frame(df1)\n",
    "#df1[is.na(df1)] <- 1\n",
    "row.names(df1) <- df1[,1]\n",
    "names(df1) <- c(\"ClusterID\",\"control_1\",\"control_2\",\"control_3\",\"control_4\",\"control_5\",\"control_6\",\"control_7\",\"control_8\",\"control_9\",\"treatment_1\",\"treatment_2\",\"treatment_3\",\"treatment_4\",\"treatment_5\",\"treatment_6\",\"treatment_7\",\"treatment_8\",\"baseMean\",\"Log2foldchange\",\"lfcSE\",\"stat\",\"pvalue\",\"padj\")\n",
    "\n",
    "df2 <- t(df1[,c(2:18)])\n",
    "\n",
    "#------------DESEQ2 Style PCA Plot w/ Top 500 selection --------------\n",
    "\n",
    "df1a <- df1[,c(2:18)]\n",
    "ntop <- 500\n",
    "rv <- rowVars(df1a)\n",
    "select <- order(rv, decreasing = TRUE)[seq_len(min(ntop, length(rv)))]\n",
    "mat <- t( df1a[select, ] )\n",
    "\n",
    "#Create PCA object\n",
    "df1a.pca <- prcomp(mat, center=TRUE, scale.=TRUE)\n",
    "\n",
    "#Output PCA details\n",
    "layout(matrix(1:2, ncol=2))\n",
    "screeplot(df1a.pca)\n",
    "screeplot(df1a.pca, type=\"lines\")\n",
    "summary(df1a.pca)$importance\n",
    "\n",
    "#Group samples in PCA object and assign label colors\n",
    "pch.group <- c(rep(21, times=9), rep(21, times=8))\n",
    "col.group <- c(rep(\"red\", times=9), rep(\"blue\", times=8))\n",
    "\n",
    "#Plot PCA\n",
    "svg(filename=\"ChatMouse-SC-DESEQ2-95-PCA-TOP500.svg\", width = 10, height = 10)\n",
    "layout(matrix(1:1, ncol=1))\n",
    "plot(df1a.pca$x[,1], df1a.pca$x[,2], xlab=paste(\"PCA 1 (\", round(summary(df1a.pca)$importance[2]*100, 1), \"%)\", sep = \"\"), ylab=paste(\"PCA 2 (\", round(summary(df1a.pca)$importance[5]*100, 1), \"%)\", sep = \"\"), pch=pch.group, col=\"black\", bg=col.group, cex=2, las=1, asp=1)\n",
    "abline(v=0, lty=2, col=\"grey\")\n",
    "abline(h=0, lty=2, col=\"grey\")\n",
    "#text(df2.pca$x[,1], df2.pca$x[,2], labels=row.names(df2.pca$x), pos=c(1,3,4,2), font=1)\n",
    "text(df1a.pca$x[,1], df1a.pca$x[,2], labels=c(1,2,3,4,5,6,7,8,9,10,11,12,13,14,15,16,17), pos=c(1,2,4,3), font=1, cex=1.5)\n",
    "legend(\"topright\", legend=c(\"Control\", \"Treated\"), col=\"black\", pt.bg=c(\"red\", \"blue\"), pch=c(21, 21), pt.cex=2)\n",
    "#title(main=\"title_here\")\n",
    "#Create parameters for elipse rendering of PCA groups\n",
    "#Get individuals (observations) as a matrix\n",
    "tab <- matrix(c(df1a.pca$x[,1], df1a.pca$x[,2]), ncol=2)\n",
    "#Calculate correlations\n",
    "c1 <- cor(tab[1:9,])\n",
    "c2 <- cor(tab[10:17,])\n",
    "#Plot Elipses\n",
    "polygon(ellipse(c1*(max(abs(df1a.pca$rotation))*200), centre=colMeans(tab[1:9,]), level=.95), col=adjustcolor(\"pink2\", alpha.f=0.25), border=\"pink\")\n",
    "polygon(ellipse(c2*(max(abs(df1a.pca$rotation))*200), centre=colMeans(tab[10:17,]), level=.95), col=adjustcolor(\"skyblue2\", alpha.f=0.25), border=\"skyblue\")\n",
    "grid(col=\"lightgray\")\n",
    "dev.off()\n",
    "\n",
    "#-----------------Normal PCA Plot w/ no selection-------------------\n",
    "\n",
    "#Create PCA object\n",
    "df2.pca <- prcomp(df2, center=TRUE, scale.=TRUE)\n",
    "\n",
    "#Output PCA details\n",
    "layout(matrix(1:2, ncol=2))\n",
    "screeplot(df2.pca)\n",
    "screeplot(df2.pca, type=\"lines\")\n",
    "summary(df2.pca)$importance\n",
    "\n",
    "#Group samples in PCA object and assign label colors\n",
    "pch.group <- c(rep(21, times=9), rep(21, times=8))\n",
    "col.group <- c(rep(\"red\", times=9), rep(\"blue\", times=8))\n",
    "\n",
    "#Plot PCA\n",
    "svg(filename=\"ChatMouse-SC-DESEQ2-95-PCA-ALL.svg\", width = 10, height = 10)\n",
    "layout(matrix(1:1, ncol=1))\n",
    "plot(df2.pca$x[,1], df2.pca$x[,2], xlab=paste(\"PCA 1 (\", round(summary(df2.pca)$importance[2]*100, 1), \"%)\", sep = \"\"), ylab=paste(\"PCA 2 (\", round(summary(df2.pca)$importance[5]*100, 1), \"%)\", sep = \"\"), pch=pch.group, col=\"black\", bg=col.group, cex=2, las=1, asp=1)\n",
    "abline(v=0, lty=2, col=\"grey\")\n",
    "abline(h=0, lty=2, col=\"grey\")\n",
    "#text(df2.pca$x[,1], df2.pca$x[,2], labels=row.names(df2.pca$x), pos=c(1,3,4,2), font=1)\n",
    "text(df2.pca$x[,1], df2.pca$x[,2], labels=c(1,2,3,4,5,6,7,8,9,10,11,12,13,14,15,16,17), pos=c(1,2,4,3), font=1, cex=1.5)\n",
    "legend(\"topright\", legend=c(\"Control\", \"Treated\"), col=\"black\", pt.bg=c(\"red\", \"blue\"), pch=c(21, 21), pt.cex=2)\n",
    "#title(main=\"title_here\")\n",
    "#Create parameters for elipse rendering of PCA groups\n",
    "#Get individuals (observations) as a matrix\n",
    "tab <- matrix(c(df2.pca$x[,1], df2.pca$x[,2]), ncol=2)\n",
    "#Calculate correlations\n",
    "c1 <- cor(tab[1:9,])\n",
    "c2 <- cor(tab[10:17,])\n",
    "#Plot Elipses\n",
    "polygon(ellipse(c1*(max(abs(df2.pca$rotation))*200), centre=colMeans(tab[1:9,]), level=.95), col=adjustcolor(\"pink2\", alpha.f=0.25), border=\"pink\")\n",
    "polygon(ellipse(c2*(max(abs(df2.pca$rotation))*200), centre=colMeans(tab[10:17,]), level=.95), col=adjustcolor(\"skyblue2\", alpha.f=0.25), border=\"skyblue\")\n",
    "grid(col=\"lightgray\")\n",
    "dev.off()\n",
    "\n",
    "#----------------------------------------------------------------------\n",
    "\n",
    "# Distance Plot\n",
    "tiff(filename=\"ChatMouse-SC-DESEQ2-95-Distance.tiff\", width = 600, height = 600)\n",
    "distance <- get_dist(df2)\n",
    "fviz_dist(distance, gradient = list(low = \"#00AFBB\", mid = \"white\", high = \"#FC4E07\"), lab_size = 18)\n",
    "dev.off()\n",
    "\n",
    "# Volcano Plots\n",
    "svg(filename=\"ChatMouse-SC-DESEQ2-95-Volcanos.svg\", width=20, height=6)\n",
    "p1 <- EnhancedVolcano(df1, lab = df1$ClusterID, x = 'Log2foldchange', y = 'pvalue', xlim=c(-5,5), pCutoff=0.05, ylim=c(0,6), legendPosition = \"right\", title = \"deseq2 p-value\", colAlpha = 1, legendLabels = c('Not Sig.', 'Not Sig., Fold Change >2', 'Sig.', 'Sig., Fold Change >2'))\n",
    "p2 <- EnhancedVolcano(df1, lab = df1$ClusterID, x = 'Log2foldchange', y = 'padj', xlim = c(-5,5), pCutoff=0.2, ylim=c(0,3), legendPosition = \"right\", legendLabels = c('Not Sig.', 'Not Sig., Fold Change >2', 'Sig.', 'Sig., Fold Change >2'), title = \"deseq2 adjusted p-value\", colAlpha = 1)\n",
    "#p1\n",
    "#p2\n",
    "grid.arrange(p1, p2, nrow=1)\n",
    "dev.off()\n",
    "\n",
    "df1[is.na(df1)] <- 1\n",
    "write.csv(df1, 'ChatMouse-SC-DESEQ2-95.csv', row.names=FALSE)"
   ]
  },
  {
   "cell_type": "code",
   "execution_count": 189,
   "metadata": {},
   "outputs": [
    {
     "data": {
      "text/html": [
       "<ol class=list-inline>\n",
       "\t<li>-3.59297738269144</li>\n",
       "\t<li>4.30257672625962</li>\n",
       "</ol>\n"
      ],
      "text/latex": [
       "\\begin{enumerate*}\n",
       "\\item -3.59297738269144\n",
       "\\item 4.30257672625962\n",
       "\\end{enumerate*}\n"
      ],
      "text/markdown": [
       "1. -3.59297738269144\n",
       "2. 4.30257672625962\n",
       "\n",
       "\n"
      ],
      "text/plain": [
       "[1] -3.592977  4.302577"
      ]
     },
     "metadata": {},
     "output_type": "display_data"
    },
    {
     "data": {
      "text/html": [
       "2.37626526386281e-05"
      ],
      "text/latex": [
       "2.37626526386281e-05"
      ],
      "text/markdown": [
       "2.37626526386281e-05"
      ],
      "text/plain": [
       "[1] 2.376265e-05"
      ]
     },
     "metadata": {},
     "output_type": "display_data"
    },
    {
     "data": {
      "text/html": [
       "0.0157308760467718"
      ],
      "text/latex": [
       "0.0157308760467718"
      ],
      "text/markdown": [
       "0.0157308760467718"
      ],
      "text/plain": [
       "[1] 0.01573088"
      ]
     },
     "metadata": {},
     "output_type": "display_data"
    }
   ],
   "source": [
    "range(df1$Log2foldchange)\n",
    "min(df1$pvalue)\n",
    "min(df1$padj)"
   ]
  },
  {
   "cell_type": "code",
   "execution_count": null,
   "metadata": {},
   "outputs": [],
   "source": []
  },
  {
   "cell_type": "code",
   "execution_count": 158,
   "metadata": {},
   "outputs": [
    {
     "data": {
      "text/html": [
       "<table>\n",
       "<caption>A data.frame: 6 × 15</caption>\n",
       "<thead>\n",
       "\t<tr><th></th><th scope=col>Cluster</th><th scope=col>18</th><th scope=col>19</th><th scope=col>20</th><th scope=col>21</th><th scope=col>22</th><th scope=col>23</th><th scope=col>24</th><th scope=col>25</th><th scope=col>26</th><th scope=col>27</th><th scope=col>28</th><th scope=col>29</th><th scope=col>30</th><th scope=col>31</th></tr>\n",
       "\t<tr><th></th><th scope=col>&lt;fct&gt;</th><th scope=col>&lt;int&gt;</th><th scope=col>&lt;int&gt;</th><th scope=col>&lt;int&gt;</th><th scope=col>&lt;int&gt;</th><th scope=col>&lt;int&gt;</th><th scope=col>&lt;int&gt;</th><th scope=col>&lt;int&gt;</th><th scope=col>&lt;int&gt;</th><th scope=col>&lt;int&gt;</th><th scope=col>&lt;int&gt;</th><th scope=col>&lt;int&gt;</th><th scope=col>&lt;int&gt;</th><th scope=col>&lt;int&gt;</th><th scope=col>&lt;int&gt;</th></tr>\n",
       "</thead>\n",
       "<tbody>\n",
       "\t<tr><th scope=row>1</th><td>Cluster0</td><td>0</td><td>0</td><td>0</td><td>0</td><td>0</td><td>0</td><td>0</td><td>0</td><td>0</td><td>0</td><td>0</td><td>0</td><td>0</td><td>0</td></tr>\n",
       "\t<tr><th scope=row>2</th><td>Cluster1</td><td>0</td><td>0</td><td>0</td><td>0</td><td>0</td><td>0</td><td>0</td><td>0</td><td>0</td><td>0</td><td>0</td><td>0</td><td>0</td><td>0</td></tr>\n",
       "\t<tr><th scope=row>3</th><td>Cluster2</td><td>0</td><td>0</td><td>0</td><td>0</td><td>0</td><td>0</td><td>0</td><td>0</td><td>0</td><td>0</td><td>0</td><td>0</td><td>0</td><td>0</td></tr>\n",
       "\t<tr><th scope=row>4</th><td>Cluster3</td><td>0</td><td>0</td><td>0</td><td>0</td><td>0</td><td>0</td><td>0</td><td>0</td><td>0</td><td>0</td><td>0</td><td>0</td><td>0</td><td>0</td></tr>\n",
       "\t<tr><th scope=row>5</th><td>Cluster4</td><td>0</td><td>0</td><td>0</td><td>0</td><td>0</td><td>0</td><td>0</td><td>0</td><td>0</td><td>0</td><td>0</td><td>0</td><td>0</td><td>0</td></tr>\n",
       "\t<tr><th scope=row>6</th><td>Cluster5</td><td>0</td><td>0</td><td>0</td><td>0</td><td>0</td><td>0</td><td>0</td><td>0</td><td>0</td><td>0</td><td>0</td><td>0</td><td>0</td><td>0</td></tr>\n",
       "</tbody>\n",
       "</table>\n"
      ],
      "text/latex": [
       "A data.frame: 6 × 15\n",
       "\\begin{tabular}{r|lllllllllllllll}\n",
       "  & Cluster & 18 & 19 & 20 & 21 & 22 & 23 & 24 & 25 & 26 & 27 & 28 & 29 & 30 & 31\\\\\n",
       "  & <fct> & <int> & <int> & <int> & <int> & <int> & <int> & <int> & <int> & <int> & <int> & <int> & <int> & <int> & <int>\\\\\n",
       "\\hline\n",
       "\t1 & Cluster0 & 0 & 0 & 0 & 0 & 0 & 0 & 0 & 0 & 0 & 0 & 0 & 0 & 0 & 0\\\\\n",
       "\t2 & Cluster1 & 0 & 0 & 0 & 0 & 0 & 0 & 0 & 0 & 0 & 0 & 0 & 0 & 0 & 0\\\\\n",
       "\t3 & Cluster2 & 0 & 0 & 0 & 0 & 0 & 0 & 0 & 0 & 0 & 0 & 0 & 0 & 0 & 0\\\\\n",
       "\t4 & Cluster3 & 0 & 0 & 0 & 0 & 0 & 0 & 0 & 0 & 0 & 0 & 0 & 0 & 0 & 0\\\\\n",
       "\t5 & Cluster4 & 0 & 0 & 0 & 0 & 0 & 0 & 0 & 0 & 0 & 0 & 0 & 0 & 0 & 0\\\\\n",
       "\t6 & Cluster5 & 0 & 0 & 0 & 0 & 0 & 0 & 0 & 0 & 0 & 0 & 0 & 0 & 0 & 0\\\\\n",
       "\\end{tabular}\n"
      ],
      "text/markdown": [
       "\n",
       "A data.frame: 6 × 15\n",
       "\n",
       "| <!--/--> | Cluster &lt;fct&gt; | 18 &lt;int&gt; | 19 &lt;int&gt; | 20 &lt;int&gt; | 21 &lt;int&gt; | 22 &lt;int&gt; | 23 &lt;int&gt; | 24 &lt;int&gt; | 25 &lt;int&gt; | 26 &lt;int&gt; | 27 &lt;int&gt; | 28 &lt;int&gt; | 29 &lt;int&gt; | 30 &lt;int&gt; | 31 &lt;int&gt; |\n",
       "|---|---|---|---|---|---|---|---|---|---|---|---|---|---|---|---|\n",
       "| 1 | Cluster0 | 0 | 0 | 0 | 0 | 0 | 0 | 0 | 0 | 0 | 0 | 0 | 0 | 0 | 0 |\n",
       "| 2 | Cluster1 | 0 | 0 | 0 | 0 | 0 | 0 | 0 | 0 | 0 | 0 | 0 | 0 | 0 | 0 |\n",
       "| 3 | Cluster2 | 0 | 0 | 0 | 0 | 0 | 0 | 0 | 0 | 0 | 0 | 0 | 0 | 0 | 0 |\n",
       "| 4 | Cluster3 | 0 | 0 | 0 | 0 | 0 | 0 | 0 | 0 | 0 | 0 | 0 | 0 | 0 | 0 |\n",
       "| 5 | Cluster4 | 0 | 0 | 0 | 0 | 0 | 0 | 0 | 0 | 0 | 0 | 0 | 0 | 0 | 0 |\n",
       "| 6 | Cluster5 | 0 | 0 | 0 | 0 | 0 | 0 | 0 | 0 | 0 | 0 | 0 | 0 | 0 | 0 |\n",
       "\n"
      ],
      "text/plain": [
       "  Cluster  18 19 20 21 22 23 24 25 26 27 28 29 30 31\n",
       "1 Cluster0 0  0  0  0  0  0  0  0  0  0  0  0  0  0 \n",
       "2 Cluster1 0  0  0  0  0  0  0  0  0  0  0  0  0  0 \n",
       "3 Cluster2 0  0  0  0  0  0  0  0  0  0  0  0  0  0 \n",
       "4 Cluster3 0  0  0  0  0  0  0  0  0  0  0  0  0  0 \n",
       "5 Cluster4 0  0  0  0  0  0  0  0  0  0  0  0  0  0 \n",
       "6 Cluster5 0  0  0  0  0  0  0  0  0  0  0  0  0  0 "
      ]
     },
     "metadata": {},
     "output_type": "display_data"
    },
    {
     "data": {
      "text/html": [
       "<table>\n",
       "<caption>A data.frame: 14 × 4</caption>\n",
       "<thead>\n",
       "\t<tr><th scope=col>id</th><th scope=col>dex</th><th scope=col>celltype</th><th scope=col>geo_id</th></tr>\n",
       "\t<tr><th scope=col>&lt;int&gt;</th><th scope=col>&lt;fct&gt;</th><th scope=col>&lt;fct&gt;</th><th scope=col>&lt;int&gt;</th></tr>\n",
       "</thead>\n",
       "<tbody>\n",
       "\t<tr><td>18</td><td>control  </td><td>fecal</td><td>18</td></tr>\n",
       "\t<tr><td>19</td><td>control  </td><td>fecal</td><td>19</td></tr>\n",
       "\t<tr><td>20</td><td>control  </td><td>fecal</td><td>20</td></tr>\n",
       "\t<tr><td>21</td><td>control  </td><td>fecal</td><td>21</td></tr>\n",
       "\t<tr><td>22</td><td>control  </td><td>fecal</td><td>22</td></tr>\n",
       "\t<tr><td>23</td><td>control  </td><td>fecal</td><td>23</td></tr>\n",
       "\t<tr><td>24</td><td>control  </td><td>fecal</td><td>24</td></tr>\n",
       "\t<tr><td>25</td><td>activated</td><td>fecal</td><td>25</td></tr>\n",
       "\t<tr><td>26</td><td>activated</td><td>fecal</td><td>26</td></tr>\n",
       "\t<tr><td>27</td><td>activated</td><td>fecal</td><td>27</td></tr>\n",
       "\t<tr><td>28</td><td>activated</td><td>fecal</td><td>28</td></tr>\n",
       "\t<tr><td>29</td><td>activated</td><td>fecal</td><td>29</td></tr>\n",
       "\t<tr><td>30</td><td>activated</td><td>fecal</td><td>30</td></tr>\n",
       "\t<tr><td>31</td><td>activated</td><td>fecal</td><td>31</td></tr>\n",
       "</tbody>\n",
       "</table>\n"
      ],
      "text/latex": [
       "A data.frame: 14 × 4\n",
       "\\begin{tabular}{llll}\n",
       " id & dex & celltype & geo\\_id\\\\\n",
       " <int> & <fct> & <fct> & <int>\\\\\n",
       "\\hline\n",
       "\t 18 & control   & fecal & 18\\\\\n",
       "\t 19 & control   & fecal & 19\\\\\n",
       "\t 20 & control   & fecal & 20\\\\\n",
       "\t 21 & control   & fecal & 21\\\\\n",
       "\t 22 & control   & fecal & 22\\\\\n",
       "\t 23 & control   & fecal & 23\\\\\n",
       "\t 24 & control   & fecal & 24\\\\\n",
       "\t 25 & activated & fecal & 25\\\\\n",
       "\t 26 & activated & fecal & 26\\\\\n",
       "\t 27 & activated & fecal & 27\\\\\n",
       "\t 28 & activated & fecal & 28\\\\\n",
       "\t 29 & activated & fecal & 29\\\\\n",
       "\t 30 & activated & fecal & 30\\\\\n",
       "\t 31 & activated & fecal & 31\\\\\n",
       "\\end{tabular}\n"
      ],
      "text/markdown": [
       "\n",
       "A data.frame: 14 × 4\n",
       "\n",
       "| id &lt;int&gt; | dex &lt;fct&gt; | celltype &lt;fct&gt; | geo_id &lt;int&gt; |\n",
       "|---|---|---|---|\n",
       "| 18 | control   | fecal | 18 |\n",
       "| 19 | control   | fecal | 19 |\n",
       "| 20 | control   | fecal | 20 |\n",
       "| 21 | control   | fecal | 21 |\n",
       "| 22 | control   | fecal | 22 |\n",
       "| 23 | control   | fecal | 23 |\n",
       "| 24 | control   | fecal | 24 |\n",
       "| 25 | activated | fecal | 25 |\n",
       "| 26 | activated | fecal | 26 |\n",
       "| 27 | activated | fecal | 27 |\n",
       "| 28 | activated | fecal | 28 |\n",
       "| 29 | activated | fecal | 29 |\n",
       "| 30 | activated | fecal | 30 |\n",
       "| 31 | activated | fecal | 31 |\n",
       "\n"
      ],
      "text/plain": [
       "   id dex       celltype geo_id\n",
       "1  18 control   fecal    18    \n",
       "2  19 control   fecal    19    \n",
       "3  20 control   fecal    20    \n",
       "4  21 control   fecal    21    \n",
       "5  22 control   fecal    22    \n",
       "6  23 control   fecal    23    \n",
       "7  24 control   fecal    24    \n",
       "8  25 activated fecal    25    \n",
       "9  26 activated fecal    26    \n",
       "10 27 activated fecal    27    \n",
       "11 28 activated fecal    28    \n",
       "12 29 activated fecal    29    \n",
       "13 30 activated fecal    30    \n",
       "14 31 activated fecal    31    "
      ]
     },
     "metadata": {},
     "output_type": "display_data"
    },
    {
     "name": "stderr",
     "output_type": "stream",
     "text": [
      "  it appears that the last variable in the design formula, 'dex',\n",
      "  has a factor level, 'control', which is not the reference level. we recommend\n",
      "  to use factor(...,levels=...) or relevel() to set this as the reference level\n",
      "  before proceeding. for more information, please see the 'Note on factor levels'\n",
      "  in vignette('DESeq2').\n",
      "\n"
     ]
    },
    {
     "data": {
      "text/plain": [
       "class: DESeqDataSet \n",
       "dim: 1715 14 \n",
       "metadata(1): version\n",
       "assays(1): counts\n",
       "rownames(1715): Cluster11 Cluster13 ... Cluster35667 Cluster36546\n",
       "rowData names(0):\n",
       "colnames(14): 18 19 ... 30 31\n",
       "colData names(4): id dex celltype geo_id"
      ]
     },
     "metadata": {},
     "output_type": "display_data"
    },
    {
     "name": "stderr",
     "output_type": "stream",
     "text": [
      "estimating size factors\n",
      "\n",
      "estimating dispersions\n",
      "\n",
      "gene-wise dispersion estimates\n",
      "\n",
      "mean-dispersion relationship\n",
      "\n",
      "-- note: fitType='parametric', but the dispersion trend was not well captured by the\n",
      "   function: y = a/x + b, and a local regression fit was automatically substituted.\n",
      "   specify fitType='local' or 'mean' to avoid this message next time.\n",
      "\n",
      "final dispersion estimates\n",
      "\n",
      "fitting model and testing\n",
      "\n",
      "-- replacing outliers and refitting for 6 genes\n",
      "-- DESeq argument 'minReplicatesForReplace' = 7 \n",
      "-- original counts are preserved in counts(dds)\n",
      "\n",
      "estimating dispersions\n",
      "\n",
      "fitting model and testing\n",
      "\n"
     ]
    },
    {
     "data": {
      "text/html": [
       "<table>\n",
       "<caption>A data.frame: 6 × 7</caption>\n",
       "<thead>\n",
       "\t<tr><th></th><th scope=col>row</th><th scope=col>baseMean</th><th scope=col>log2FoldChange</th><th scope=col>lfcSE</th><th scope=col>stat</th><th scope=col>pvalue</th><th scope=col>padj</th></tr>\n",
       "\t<tr><th></th><th scope=col>&lt;chr&gt;</th><th scope=col>&lt;dbl&gt;</th><th scope=col>&lt;dbl&gt;</th><th scope=col>&lt;dbl&gt;</th><th scope=col>&lt;dbl&gt;</th><th scope=col>&lt;dbl&gt;</th><th scope=col>&lt;dbl&gt;</th></tr>\n",
       "</thead>\n",
       "<tbody>\n",
       "\t<tr><th scope=row>1</th><td>Cluster11</td><td>4.7560495</td><td>-0.07125766</td><td>0.9496411</td><td>-0.07503641</td><td>0.9401857</td><td>0.9859862</td></tr>\n",
       "\t<tr><th scope=row>2</th><td>Cluster13</td><td>0.5953017</td><td>-2.68486283</td><td>2.5060255</td><td>-1.07136292</td><td>0.2840063</td><td>       NA</td></tr>\n",
       "\t<tr><th scope=row>3</th><td>Cluster19</td><td>0.4089716</td><td> 0.82823467</td><td>3.0027220</td><td> 0.27582796</td><td>0.7826802</td><td>       NA</td></tr>\n",
       "\t<tr><th scope=row>4</th><td>Cluster42</td><td>0.1284762</td><td>-0.74968776</td><td>3.0845751</td><td>-0.24304410</td><td>0.8079712</td><td>       NA</td></tr>\n",
       "\t<tr><th scope=row>5</th><td>Cluster50</td><td>0.1333108</td><td>-0.74968776</td><td>3.0845751</td><td>-0.24304410</td><td>0.8079712</td><td>       NA</td></tr>\n",
       "\t<tr><th scope=row>6</th><td>Cluster51</td><td>0.1456351</td><td>-0.74968776</td><td>3.0845751</td><td>-0.24304410</td><td>0.8079712</td><td>       NA</td></tr>\n",
       "</tbody>\n",
       "</table>\n"
      ],
      "text/latex": [
       "A data.frame: 6 × 7\n",
       "\\begin{tabular}{r|lllllll}\n",
       "  & row & baseMean & log2FoldChange & lfcSE & stat & pvalue & padj\\\\\n",
       "  & <chr> & <dbl> & <dbl> & <dbl> & <dbl> & <dbl> & <dbl>\\\\\n",
       "\\hline\n",
       "\t1 & Cluster11 & 4.7560495 & -0.07125766 & 0.9496411 & -0.07503641 & 0.9401857 & 0.9859862\\\\\n",
       "\t2 & Cluster13 & 0.5953017 & -2.68486283 & 2.5060255 & -1.07136292 & 0.2840063 &        NA\\\\\n",
       "\t3 & Cluster19 & 0.4089716 &  0.82823467 & 3.0027220 &  0.27582796 & 0.7826802 &        NA\\\\\n",
       "\t4 & Cluster42 & 0.1284762 & -0.74968776 & 3.0845751 & -0.24304410 & 0.8079712 &        NA\\\\\n",
       "\t5 & Cluster50 & 0.1333108 & -0.74968776 & 3.0845751 & -0.24304410 & 0.8079712 &        NA\\\\\n",
       "\t6 & Cluster51 & 0.1456351 & -0.74968776 & 3.0845751 & -0.24304410 & 0.8079712 &        NA\\\\\n",
       "\\end{tabular}\n"
      ],
      "text/markdown": [
       "\n",
       "A data.frame: 6 × 7\n",
       "\n",
       "| <!--/--> | row &lt;chr&gt; | baseMean &lt;dbl&gt; | log2FoldChange &lt;dbl&gt; | lfcSE &lt;dbl&gt; | stat &lt;dbl&gt; | pvalue &lt;dbl&gt; | padj &lt;dbl&gt; |\n",
       "|---|---|---|---|---|---|---|---|\n",
       "| 1 | Cluster11 | 4.7560495 | -0.07125766 | 0.9496411 | -0.07503641 | 0.9401857 | 0.9859862 |\n",
       "| 2 | Cluster13 | 0.5953017 | -2.68486283 | 2.5060255 | -1.07136292 | 0.2840063 |        NA |\n",
       "| 3 | Cluster19 | 0.4089716 |  0.82823467 | 3.0027220 |  0.27582796 | 0.7826802 |        NA |\n",
       "| 4 | Cluster42 | 0.1284762 | -0.74968776 | 3.0845751 | -0.24304410 | 0.8079712 |        NA |\n",
       "| 5 | Cluster50 | 0.1333108 | -0.74968776 | 3.0845751 | -0.24304410 | 0.8079712 |        NA |\n",
       "| 6 | Cluster51 | 0.1456351 | -0.74968776 | 3.0845751 | -0.24304410 | 0.8079712 |        NA |\n",
       "\n"
      ],
      "text/plain": [
       "  row       baseMean  log2FoldChange lfcSE     stat        pvalue    padj     \n",
       "1 Cluster11 4.7560495 -0.07125766    0.9496411 -0.07503641 0.9401857 0.9859862\n",
       "2 Cluster13 0.5953017 -2.68486283    2.5060255 -1.07136292 0.2840063        NA\n",
       "3 Cluster19 0.4089716  0.82823467    3.0027220  0.27582796 0.7826802        NA\n",
       "4 Cluster42 0.1284762 -0.74968776    3.0845751 -0.24304410 0.8079712        NA\n",
       "5 Cluster50 0.1333108 -0.74968776    3.0845751 -0.24304410 0.8079712        NA\n",
       "6 Cluster51 0.1456351 -0.74968776    3.0845751 -0.24304410 0.8079712        NA"
      ]
     },
     "metadata": {},
     "output_type": "display_data"
    },
    {
     "name": "stdout",
     "output_type": "stream",
     "text": [
      "\n",
      "out of 1713 with nonzero total read count\n",
      "adjusted p-value < 0.1\n",
      "LFC > 0 (up)       : 1, 0.058%\n",
      "LFC < 0 (down)     : 23, 1.3%\n",
      "outliers [1]       : 0, 0%\n",
      "low counts [2]     : 1031, 60%\n",
      "(mean count < 1)\n",
      "[1] see 'cooksCutoff' argument of ?results\n",
      "[2] see 'independentFiltering' argument of ?results\n",
      "\n"
     ]
    },
    {
     "data": {
      "text/plain": [
       "log2 fold change (MLE): dex control vs activated \n",
       "Wald test p-value: dex control vs activated \n",
       "DataFrame with 6 rows and 6 columns\n",
       "                     baseMean    log2FoldChange             lfcSE\n",
       "                    <numeric>         <numeric>         <numeric>\n",
       "Cluster11694 6.97167519200523  3.97290446348979 0.676740786414593\n",
       "Cluster419   3.98785163961026 -4.56526348381873 0.938583397663946\n",
       "Cluster323   18.4061133082303 -1.18946949667565  0.28031428351562\n",
       "Cluster6675  2.44898217331906 -4.28885853999538  1.01813154943293\n",
       "Cluster20414 2.20310449595991 -4.58381322731844  1.08470267356015\n",
       "Cluster13041 2.19583167068701 -4.57906027944946   1.0991170395617\n",
       "                          stat               pvalue                 padj\n",
       "                     <numeric>            <numeric>            <numeric>\n",
       "Cluster11694   5.8706443342043 4.34104661686073e-09 2.96927588593274e-06\n",
       "Cluster419   -4.86399343434081 1.15040731055703e-06 0.000393439300210504\n",
       "Cluster323   -4.24334244319507 2.20215001081464e-05  0.00345532667641043\n",
       "Cluster6675  -4.21247975508092 2.52582359386728e-05  0.00345532667641043\n",
       "Cluster20414 -4.22587068239972  2.3801865844106e-05  0.00345532667641043\n",
       "Cluster13041 -4.16612618550202 3.09819255628232e-05  0.00353193951416185"
      ]
     },
     "metadata": {},
     "output_type": "display_data"
    }
   ],
   "source": [
    "countData <- read.csv('DESEQ2input/MouseTH-assembleddump-95.txt', header = TRUE, sep = \",\", check.names=FALSE)\n",
    "head(countData)\n",
    "\n",
    "metaData <- read.csv('DESEQ2input/TH-metadata.csv', header = TRUE, sep = \",\", check.names=FALSE)\n",
    "metaData\n",
    "\n",
    "dds <- DESeqDataSetFromMatrix(countData=countData, \n",
    "                              colData=metaData, \n",
    "                              design=~dex, tidy = TRUE)\n",
    "keep <- rowSums(counts(dds)) > 0\n",
    "dds <- dds[keep,]\n",
    "\n",
    "dds\n",
    "\n",
    "dds <- DESeq(dds)\n",
    "\n",
    "res <- results(dds)\n",
    "head(results(dds, tidy=TRUE)) #let's look at the results table\n",
    "\n",
    "summary(res) #summary of results\n",
    "\n",
    "res <- res[order(res$padj),]\n",
    "head(res)\n",
    "\n",
    "vsdata <- varianceStabilizingTransformation(dds, blind=FALSE)\n",
    "\n",
    "vsdata2 <- data.frame(assay(vsdata))\n",
    "res <- data.frame(res)\n",
    "\n",
    "res2 <- merge(vsdata2, res, by=\"row.names\")\n",
    "res2$Row.names <- as.numeric(gsub(\"Cluster\", \"\", res2$Row.names))"
   ]
  },
  {
   "cell_type": "code",
   "execution_count": 159,
   "metadata": {},
   "outputs": [
    {
     "data": {
      "text/html": [
       "<table>\n",
       "<caption>A matrix: 3 × 14 of type dbl</caption>\n",
       "<thead>\n",
       "\t<tr><th></th><th scope=col>PC1</th><th scope=col>PC2</th><th scope=col>PC3</th><th scope=col>PC4</th><th scope=col>PC5</th><th scope=col>PC6</th><th scope=col>PC7</th><th scope=col>PC8</th><th scope=col>PC9</th><th scope=col>PC10</th><th scope=col>PC11</th><th scope=col>PC12</th><th scope=col>PC13</th><th scope=col>PC14</th></tr>\n",
       "</thead>\n",
       "<tbody>\n",
       "\t<tr><th scope=row>Standard deviation</th><td>13.80417</td><td>7.019395</td><td>6.11389</td><td>5.790935</td><td>5.515793</td><td>5.255146</td><td>4.737666</td><td>4.598174</td><td>4.472822</td><td>4.346825</td><td>4.149764</td><td>4.018795</td><td>3.918802</td><td>6.472367e-15</td></tr>\n",
       "\t<tr><th scope=row>Proportion of Variance</th><td> 0.38111</td><td>0.098540</td><td>0.07476</td><td>0.067070</td><td>0.060850</td><td>0.055230</td><td>0.044890</td><td>0.042290</td><td>0.040010</td><td>0.037790</td><td>0.034440</td><td>0.032300</td><td>0.030710</td><td>0.000000e+00</td></tr>\n",
       "\t<tr><th scope=row>Cumulative Proportion</th><td> 0.38111</td><td>0.479650</td><td>0.55441</td><td>0.621480</td><td>0.682330</td><td>0.737560</td><td>0.782460</td><td>0.824740</td><td>0.864750</td><td>0.902540</td><td>0.936980</td><td>0.969290</td><td>1.000000</td><td>1.000000e+00</td></tr>\n",
       "</tbody>\n",
       "</table>\n"
      ],
      "text/latex": [
       "A matrix: 3 × 14 of type dbl\n",
       "\\begin{tabular}{r|llllllllllllll}\n",
       "  & PC1 & PC2 & PC3 & PC4 & PC5 & PC6 & PC7 & PC8 & PC9 & PC10 & PC11 & PC12 & PC13 & PC14\\\\\n",
       "\\hline\n",
       "\tStandard deviation & 13.80417 & 7.019395 & 6.11389 & 5.790935 & 5.515793 & 5.255146 & 4.737666 & 4.598174 & 4.472822 & 4.346825 & 4.149764 & 4.018795 & 3.918802 & 6.472367e-15\\\\\n",
       "\tProportion of Variance &  0.38111 & 0.098540 & 0.07476 & 0.067070 & 0.060850 & 0.055230 & 0.044890 & 0.042290 & 0.040010 & 0.037790 & 0.034440 & 0.032300 & 0.030710 & 0.000000e+00\\\\\n",
       "\tCumulative Proportion &  0.38111 & 0.479650 & 0.55441 & 0.621480 & 0.682330 & 0.737560 & 0.782460 & 0.824740 & 0.864750 & 0.902540 & 0.936980 & 0.969290 & 1.000000 & 1.000000e+00\\\\\n",
       "\\end{tabular}\n"
      ],
      "text/markdown": [
       "\n",
       "A matrix: 3 × 14 of type dbl\n",
       "\n",
       "| <!--/--> | PC1 | PC2 | PC3 | PC4 | PC5 | PC6 | PC7 | PC8 | PC9 | PC10 | PC11 | PC12 | PC13 | PC14 |\n",
       "|---|---|---|---|---|---|---|---|---|---|---|---|---|---|---|\n",
       "| Standard deviation | 13.80417 | 7.019395 | 6.11389 | 5.790935 | 5.515793 | 5.255146 | 4.737666 | 4.598174 | 4.472822 | 4.346825 | 4.149764 | 4.018795 | 3.918802 | 6.472367e-15 |\n",
       "| Proportion of Variance |  0.38111 | 0.098540 | 0.07476 | 0.067070 | 0.060850 | 0.055230 | 0.044890 | 0.042290 | 0.040010 | 0.037790 | 0.034440 | 0.032300 | 0.030710 | 0.000000e+00 |\n",
       "| Cumulative Proportion |  0.38111 | 0.479650 | 0.55441 | 0.621480 | 0.682330 | 0.737560 | 0.782460 | 0.824740 | 0.864750 | 0.902540 | 0.936980 | 0.969290 | 1.000000 | 1.000000e+00 |\n",
       "\n"
      ],
      "text/plain": [
       "                       PC1      PC2      PC3     PC4      PC5      PC6     \n",
       "Standard deviation     13.80417 7.019395 6.11389 5.790935 5.515793 5.255146\n",
       "Proportion of Variance  0.38111 0.098540 0.07476 0.067070 0.060850 0.055230\n",
       "Cumulative Proportion   0.38111 0.479650 0.55441 0.621480 0.682330 0.737560\n",
       "                       PC7      PC8      PC9      PC10     PC11     PC12    \n",
       "Standard deviation     4.737666 4.598174 4.472822 4.346825 4.149764 4.018795\n",
       "Proportion of Variance 0.044890 0.042290 0.040010 0.037790 0.034440 0.032300\n",
       "Cumulative Proportion  0.782460 0.824740 0.864750 0.902540 0.936980 0.969290\n",
       "                       PC13     PC14        \n",
       "Standard deviation     3.918802 6.472367e-15\n",
       "Proportion of Variance 0.030710 0.000000e+00\n",
       "Cumulative Proportion  1.000000 1.000000e+00"
      ]
     },
     "metadata": {},
     "output_type": "display_data"
    },
    {
     "data": {
      "text/html": [
       "<strong>pdf:</strong> 2"
      ],
      "text/latex": [
       "\\textbf{pdf:} 2"
      ],
      "text/markdown": [
       "**pdf:** 2"
      ],
      "text/plain": [
       "pdf \n",
       "  2 "
      ]
     },
     "metadata": {},
     "output_type": "display_data"
    },
    {
     "data": {
      "image/png": "[encoded data removed]",
      "text/plain": [
       "Plot with title “df1a.pca”"
      ]
     },
     "metadata": {
      "image/png": {
       "height": 420,
       "width": 420
      },
      "text/plain": {
       "height": 420,
       "width": 420
      }
     },
     "output_type": "display_data"
    },
    {
     "data": {
      "text/html": [
       "<table>\n",
       "<caption>A matrix: 3 × 14 of type dbl</caption>\n",
       "<thead>\n",
       "\t<tr><th></th><th scope=col>PC1</th><th scope=col>PC2</th><th scope=col>PC3</th><th scope=col>PC4</th><th scope=col>PC5</th><th scope=col>PC6</th><th scope=col>PC7</th><th scope=col>PC8</th><th scope=col>PC9</th><th scope=col>PC10</th><th scope=col>PC11</th><th scope=col>PC12</th><th scope=col>PC13</th><th scope=col>PC14</th></tr>\n",
       "</thead>\n",
       "<tbody>\n",
       "\t<tr><th scope=row>Standard deviation</th><td>21.01169</td><td>13.64483</td><td>12.71280</td><td>11.87832</td><td>10.60457</td><td>10.38121</td><td>10.02612</td><td>9.718298</td><td>9.249752</td><td>8.984215</td><td>8.503111</td><td>8.334775</td><td>7.834392</td><td>6.105143e-14</td></tr>\n",
       "\t<tr><th scope=row>Proportion of Variance</th><td> 0.25743</td><td> 0.10856</td><td> 0.09424</td><td> 0.08227</td><td> 0.06557</td><td> 0.06284</td><td> 0.05861</td><td>0.055070</td><td>0.049890</td><td>0.047060</td><td>0.042160</td><td>0.040510</td><td>0.035790</td><td>0.000000e+00</td></tr>\n",
       "\t<tr><th scope=row>Cumulative Proportion</th><td> 0.25743</td><td> 0.36599</td><td> 0.46023</td><td> 0.54250</td><td> 0.60807</td><td> 0.67091</td><td> 0.72952</td><td>0.784590</td><td>0.834480</td><td>0.881550</td><td>0.923700</td><td>0.964210</td><td>1.000000</td><td>1.000000e+00</td></tr>\n",
       "</tbody>\n",
       "</table>\n"
      ],
      "text/latex": [
       "A matrix: 3 × 14 of type dbl\n",
       "\\begin{tabular}{r|llllllllllllll}\n",
       "  & PC1 & PC2 & PC3 & PC4 & PC5 & PC6 & PC7 & PC8 & PC9 & PC10 & PC11 & PC12 & PC13 & PC14\\\\\n",
       "\\hline\n",
       "\tStandard deviation & 21.01169 & 13.64483 & 12.71280 & 11.87832 & 10.60457 & 10.38121 & 10.02612 & 9.718298 & 9.249752 & 8.984215 & 8.503111 & 8.334775 & 7.834392 & 6.105143e-14\\\\\n",
       "\tProportion of Variance &  0.25743 &  0.10856 &  0.09424 &  0.08227 &  0.06557 &  0.06284 &  0.05861 & 0.055070 & 0.049890 & 0.047060 & 0.042160 & 0.040510 & 0.035790 & 0.000000e+00\\\\\n",
       "\tCumulative Proportion &  0.25743 &  0.36599 &  0.46023 &  0.54250 &  0.60807 &  0.67091 &  0.72952 & 0.784590 & 0.834480 & 0.881550 & 0.923700 & 0.964210 & 1.000000 & 1.000000e+00\\\\\n",
       "\\end{tabular}\n"
      ],
      "text/markdown": [
       "\n",
       "A matrix: 3 × 14 of type dbl\n",
       "\n",
       "| <!--/--> | PC1 | PC2 | PC3 | PC4 | PC5 | PC6 | PC7 | PC8 | PC9 | PC10 | PC11 | PC12 | PC13 | PC14 |\n",
       "|---|---|---|---|---|---|---|---|---|---|---|---|---|---|---|\n",
       "| Standard deviation | 21.01169 | 13.64483 | 12.71280 | 11.87832 | 10.60457 | 10.38121 | 10.02612 | 9.718298 | 9.249752 | 8.984215 | 8.503111 | 8.334775 | 7.834392 | 6.105143e-14 |\n",
       "| Proportion of Variance |  0.25743 |  0.10856 |  0.09424 |  0.08227 |  0.06557 |  0.06284 |  0.05861 | 0.055070 | 0.049890 | 0.047060 | 0.042160 | 0.040510 | 0.035790 | 0.000000e+00 |\n",
       "| Cumulative Proportion |  0.25743 |  0.36599 |  0.46023 |  0.54250 |  0.60807 |  0.67091 |  0.72952 | 0.784590 | 0.834480 | 0.881550 | 0.923700 | 0.964210 | 1.000000 | 1.000000e+00 |\n",
       "\n"
      ],
      "text/plain": [
       "                       PC1      PC2      PC3      PC4      PC5      PC6     \n",
       "Standard deviation     21.01169 13.64483 12.71280 11.87832 10.60457 10.38121\n",
       "Proportion of Variance  0.25743  0.10856  0.09424  0.08227  0.06557  0.06284\n",
       "Cumulative Proportion   0.25743  0.36599  0.46023  0.54250  0.60807  0.67091\n",
       "                       PC7      PC8      PC9      PC10     PC11     PC12    \n",
       "Standard deviation     10.02612 9.718298 9.249752 8.984215 8.503111 8.334775\n",
       "Proportion of Variance  0.05861 0.055070 0.049890 0.047060 0.042160 0.040510\n",
       "Cumulative Proportion   0.72952 0.784590 0.834480 0.881550 0.923700 0.964210\n",
       "                       PC13     PC14        \n",
       "Standard deviation     7.834392 6.105143e-14\n",
       "Proportion of Variance 0.035790 0.000000e+00\n",
       "Cumulative Proportion  1.000000 1.000000e+00"
      ]
     },
     "metadata": {},
     "output_type": "display_data"
    },
    {
     "data": {
      "text/html": [
       "<strong>pdf:</strong> 2"
      ],
      "text/latex": [
       "\\textbf{pdf:} 2"
      ],
      "text/markdown": [
       "**pdf:** 2"
      ],
      "text/plain": [
       "pdf \n",
       "  2 "
      ]
     },
     "metadata": {},
     "output_type": "display_data"
    },
    {
     "data": {
      "text/html": [
       "<strong>pdf:</strong> 2"
      ],
      "text/latex": [
       "\\textbf{pdf:} 2"
      ],
      "text/markdown": [
       "**pdf:** 2"
      ],
      "text/plain": [
       "pdf \n",
       "  2 "
      ]
     },
     "metadata": {},
     "output_type": "display_data"
    },
    {
     "data": {
      "text/html": [
       "<strong>pdf:</strong> 2"
      ],
      "text/latex": [
       "\\textbf{pdf:} 2"
      ],
      "text/markdown": [
       "**pdf:** 2"
      ],
      "text/plain": [
       "pdf \n",
       "  2 "
      ]
     },
     "metadata": {},
     "output_type": "display_data"
    },
    {
     "data": {
      "image/png": "[encoded data removed]",
      "text/plain": [
       "Plot with title “df2.pca”"
      ]
     },
     "metadata": {
      "image/png": {
       "height": 420,
       "width": 420
      },
      "text/plain": {
       "height": 420,
       "width": 420
      }
     },
     "output_type": "display_data"
    }
   ],
   "source": [
    "#----------------------------------------------------------------------OPTIMIZED FOR TH Deseq2 EXPERIMENTS----------------------------------------------------------------------\n",
    "\n",
    "#Select relevant rows and columns in dataframe then port to new dataframe\n",
    "df1 <- res2\n",
    "df1 <- data.frame(df1)\n",
    "#df1[is.na(df1)] <- 1\n",
    "row.names(df1) <- df1[,1]\n",
    "names(df1) <- c(\"ClusterID\",\"control_1\",\"control_2\",\"control_3\",\"control_4\",\"control_5\",\"control_6\",\"control_7\",\"treatment_1\",\"treatment_2\",\"treatment_3\",\"treatment_4\",\"treatment_5\",\"treatment_6\",\"treatment_7\",\"baseMean\",\"Log2foldchange\",\"lfcSE\",\"stat\",\"pvalue\",\"padj\")\n",
    "\n",
    "df2 <- t(df1[,c(2:15)])\n",
    "\n",
    "#------------DESEQ2 Style PCA Plot w/ Top 500 selection --------------\n",
    "\n",
    "df1a <- df1[,c(2:15)]\n",
    "ntop <- 500\n",
    "rv <- rowVars(df1a)\n",
    "select <- order(rv, decreasing = TRUE)[seq_len(min(ntop, length(rv)))]\n",
    "mat <- t( df1a[select, ] )\n",
    "\n",
    "#Create PCA object\n",
    "df1a.pca <- prcomp(mat, center=TRUE, scale.=TRUE)\n",
    "\n",
    "#Output PCA details\n",
    "layout(matrix(1:2, ncol=2))\n",
    "screeplot(df1a.pca)\n",
    "screeplot(df1a.pca, type=\"lines\")\n",
    "summary(df1a.pca)$importance\n",
    "\n",
    "#Group samples in PCA object and assign label colors\n",
    "pch.group <- c(rep(21, times=7), rep(21, times=7))\n",
    "col.group <- c(rep(\"red\", times=7), rep(\"blue\", times=7))\n",
    "\n",
    "#Plot PCA\n",
    "svg(filename=\"THMouse-SC-DESEQ2-95-PCA-TOP500.svg\", width = 10, height = 10)\n",
    "layout(matrix(1:1, ncol=1))\n",
    "plot(df1a.pca$x[,1], df1a.pca$x[,2], xlab=paste(\"PCA 1 (\", round(summary(df1a.pca)$importance[2]*100, 1), \"%)\", sep = \"\"), ylab=paste(\"PCA 2 (\", round(summary(df1a.pca)$importance[5]*100, 1), \"%)\", sep = \"\"), pch=pch.group, col=\"black\", bg=col.group, cex=2, las=1, asp=1)\n",
    "abline(v=0, lty=2, col=\"grey\")\n",
    "abline(h=0, lty=2, col=\"grey\")\n",
    "#text(df2.pca$x[,1], df2.pca$x[,2], labels=row.names(df2.pca$x), pos=c(1,3,4,2), font=1)\n",
    "text(df1a.pca$x[,1], df1a.pca$x[,2], labels=c(1,2,3,4,5,6,7,8,9,10,11,12,13,14), pos=c(1,2,4,3), font=1, cex=1.5)\n",
    "legend(\"topright\", legend=c(\"Control\", \"Treated\"), col=\"black\", pt.bg=c(\"red\", \"blue\"), pch=c(21, 21), pt.cex=2)\n",
    "#title(main=\"title_here\")\n",
    "#Create parameters for elipse rendering of PCA groups\n",
    "#Get individuals (observations) as a matrix\n",
    "tab <- matrix(c(df1a.pca$x[,1], df1a.pca$x[,2]), ncol=2)\n",
    "#Calculate correlations\n",
    "c1 <- cor(tab[1:7,])\n",
    "c2 <- cor(tab[8:14,])\n",
    "#Plot Elipses\n",
    "polygon(ellipse(c1*(max(abs(df1a.pca$rotation))*200), centre=colMeans(tab[1:7,]), level=.95), col=adjustcolor(\"pink2\", alpha.f=0.25), border=\"pink\")\n",
    "polygon(ellipse(c2*(max(abs(df1a.pca$rotation))*200), centre=colMeans(tab[8:14,]), level=.95), col=adjustcolor(\"skyblue2\", alpha.f=0.25), border=\"skyblue\")\n",
    "grid(col=\"lightgray\")\n",
    "dev.off()\n",
    "\n",
    "#-----------------Normal PCA Plot w/ no selection-------------------\n",
    "\n",
    "#Create PCA object\n",
    "df2.pca <- prcomp(df2, center=TRUE, scale.=TRUE)\n",
    "\n",
    "#Output PCA details\n",
    "layout(matrix(1:2, ncol=2))\n",
    "screeplot(df2.pca)\n",
    "screeplot(df2.pca, type=\"lines\")\n",
    "summary(df2.pca)$importance\n",
    "\n",
    "#Group samples in PCA object and assign label colors\n",
    "pch.group <- c(rep(21, times=7), rep(21, times=7))\n",
    "col.group <- c(rep(\"red\", times=7), rep(\"blue\", times=7))\n",
    "\n",
    "#Plot PCA\n",
    "svg(filename=\"THMouse-SC-DESEQ2-95-PCA-ALL.svg\", width = 10, height = 10)\n",
    "layout(matrix(1:1, ncol=1))\n",
    "plot(df2.pca$x[,1], df2.pca$x[,2], xlab=paste(\"PCA 1 (\", round(summary(df2.pca)$importance[2]*100, 1), \"%)\", sep = \"\"), ylab=paste(\"PCA 2 (\", round(summary(df2.pca)$importance[5]*100, 1), \"%)\", sep = \"\"), pch=pch.group, col=\"black\", bg=col.group, cex=2, las=1, asp=1)\n",
    "abline(v=0, lty=2, col=\"grey\")\n",
    "abline(h=0, lty=2, col=\"grey\")\n",
    "#text(df2.pca$x[,1], df2.pca$x[,2], labels=row.names(df2.pca$x), pos=c(1,3,4,2), font=1)\n",
    "text(df2.pca$x[,1], df2.pca$x[,2], labels=c(1,2,3,4,5,6,7,8,9,10,11,12,13,14), pos=c(1,2,4,3), font=1, cex=1.5)\n",
    "legend(\"topright\", legend=c(\"Control\", \"Treated\"), col=\"black\", pt.bg=c(\"red\", \"blue\"), pch=c(21, 21), pt.cex=2)\n",
    "#title(main=\"title_here\")\n",
    "#Create parameters for elipse rendering of PCA groups\n",
    "#Get individuals (observations) as a matrix\n",
    "tab <- matrix(c(df2.pca$x[,1], df2.pca$x[,2]), ncol=2)\n",
    "#Calculate correlations\n",
    "c1 <- cor(tab[1:7,])\n",
    "c2 <- cor(tab[8:14,])\n",
    "#Plot Elipses\n",
    "polygon(ellipse(c1*(max(abs(df2.pca$rotation))*200), centre=colMeans(tab[1:7,]), level=.95), col=adjustcolor(\"pink2\", alpha.f=0.25), border=\"pink\")\n",
    "polygon(ellipse(c2*(max(abs(df2.pca$rotation))*200), centre=colMeans(tab[8:14,]), level=.95), col=adjustcolor(\"skyblue2\", alpha.f=0.25), border=\"skyblue\")\n",
    "grid(col=\"lightgray\")\n",
    "dev.off()\n",
    "\n",
    "#----------------------------------------------------------------------\n",
    "\n",
    "# Distance Plot\n",
    "tiff(filename=\"THMouse-SC-DESEQ2-95-Distance.tiff\", width = 600, height = 600)\n",
    "distance <- get_dist(df2)\n",
    "fviz_dist(distance, gradient = list(low = \"#00AFBB\", mid = \"white\", high = \"#FC4E07\"), lab_size = 18)\n",
    "dev.off()\n",
    "\n",
    "# Volcano Plots\n",
    "svg(filename=\"THMouse-SC-DESEQ2-95-Volcanos.svg\", width=20, height=6)\n",
    "p1 <- EnhancedVolcano(df1, lab = df1$ClusterID, x = 'Log2foldchange', y = 'pvalue', xlim=c(-6,6), pCutoff=0.05, ylim=c(0,10), legendPosition = \"right\", title = \"deseq2 p-value\", colAlpha = 1, legendLabels = c('Not Sig.', 'Not Sig., Fold Change >2', 'Sig.', 'Sig., Fold Change >2'))\n",
    "p2 <- EnhancedVolcano(df1, lab = df1$ClusterID, x = 'Log2foldchange', y = 'padj', xlim = c(-6,6), pCutoff=0.2, ylim=c(0,7), legendPosition = \"right\", legendLabels = c('Not Sig.', 'Not Sig., Fold Change >2', 'Sig.', 'Sig., Fold Change >2'), title = \"deseq2 adjusted p-value\", colAlpha = 1)\n",
    "#p1\n",
    "#p2\n",
    "grid.arrange(p1, p2, nrow=1)\n",
    "dev.off()\n",
    "\n",
    "df1[is.na(df1)] <- 1\n",
    "write.csv(df1, 'THMouse-SC-DESEQ2-95.csv', row.names=FALSE)"
   ]
  },
  {
   "cell_type": "code",
   "execution_count": 160,
   "metadata": {},
   "outputs": [
    {
     "data": {
      "text/html": [
       "<ol class=list-inline>\n",
       "\t<li>-5.36491179369961</li>\n",
       "\t<li>3.97290446348979</li>\n",
       "</ol>\n"
      ],
      "text/latex": [
       "\\begin{enumerate*}\n",
       "\\item -5.36491179369961\n",
       "\\item 3.97290446348979\n",
       "\\end{enumerate*}\n"
      ],
      "text/markdown": [
       "1. -5.36491179369961\n",
       "2. 3.97290446348979\n",
       "\n",
       "\n"
      ],
      "text/plain": [
       "[1] -5.364912  3.972904"
      ]
     },
     "metadata": {},
     "output_type": "display_data"
    },
    {
     "data": {
      "text/html": [
       "4.34104661686073e-09"
      ],
      "text/latex": [
       "4.34104661686073e-09"
      ],
      "text/markdown": [
       "4.34104661686073e-09"
      ],
      "text/plain": [
       "[1] 4.341047e-09"
      ]
     },
     "metadata": {},
     "output_type": "display_data"
    },
    {
     "data": {
      "text/html": [
       "2.96927588593274e-06"
      ],
      "text/latex": [
       "2.96927588593274e-06"
      ],
      "text/markdown": [
       "2.96927588593274e-06"
      ],
      "text/plain": [
       "[1] 2.969276e-06"
      ]
     },
     "metadata": {},
     "output_type": "display_data"
    }
   ],
   "source": [
    "range(df1$Log2foldchange)\n",
    "min(df1$pvalue)\n",
    "min(df1$padj, is.na = TRUE)"
   ]
  },
  {
   "cell_type": "raw",
   "metadata": {},
   "source": [
    "#df3 <- df1[order(df1$padj),]"
   ]
  },
  {
   "cell_type": "code",
   "execution_count": 56,
   "metadata": {},
   "outputs": [
    {
     "data": {
      "text/html": [
       "<table>\n",
       "<caption>A data.frame: 1715 × 21</caption>\n",
       "<thead>\n",
       "\t<tr><th></th><th scope=col>ClusterID</th><th scope=col>control_1</th><th scope=col>control_2</th><th scope=col>control_3</th><th scope=col>control_4</th><th scope=col>control_5</th><th scope=col>control_6</th><th scope=col>control_7</th><th scope=col>treatment_1</th><th scope=col>treatment_2</th><th scope=col>⋯</th><th scope=col>treatment_4</th><th scope=col>treatment_5</th><th scope=col>treatment_6</th><th scope=col>treatment_7</th><th scope=col>baseMean</th><th scope=col>Log2foldchange</th><th scope=col>lfcSE</th><th scope=col>stat</th><th scope=col>pvalue</th><th scope=col>padj</th></tr>\n",
       "\t<tr><th></th><th scope=col>&lt;dbl&gt;</th><th scope=col>&lt;dbl&gt;</th><th scope=col>&lt;dbl&gt;</th><th scope=col>&lt;dbl&gt;</th><th scope=col>&lt;dbl&gt;</th><th scope=col>&lt;dbl&gt;</th><th scope=col>&lt;dbl&gt;</th><th scope=col>&lt;dbl&gt;</th><th scope=col>&lt;dbl&gt;</th><th scope=col>&lt;dbl&gt;</th><th scope=col>⋯</th><th scope=col>&lt;dbl&gt;</th><th scope=col>&lt;dbl&gt;</th><th scope=col>&lt;dbl&gt;</th><th scope=col>&lt;dbl&gt;</th><th scope=col>&lt;dbl&gt;</th><th scope=col>&lt;dbl&gt;</th><th scope=col>&lt;dbl&gt;</th><th scope=col>&lt;dbl&gt;</th><th scope=col>&lt;dbl&gt;</th><th scope=col>&lt;dbl&gt;</th></tr>\n",
       "</thead>\n",
       "<tbody>\n",
       "\t<tr><th scope=row>10010</th><td>10010</td><td>1.454305</td><td>2.552513</td><td>1.454305</td><td>2.561923</td><td>1.454305</td><td>2.354960</td><td>1.454305</td><td>2.959620</td><td>1.454305</td><td>⋯</td><td>2.486256</td><td>2.125900</td><td>1.454305</td><td>1.454305</td><td> 1.67204885</td><td>-0.1717822</td><td>1.6035613</td><td>-0.1071255</td><td>0.9146894542</td><td>0.98450044</td></tr>\n",
       "\t<tr><th scope=row>10011</th><td>10011</td><td>1.454305</td><td>1.454305</td><td>1.454305</td><td>1.454305</td><td>1.454305</td><td>1.454305</td><td>1.454305</td><td>1.454305</td><td>1.454305</td><td>⋯</td><td>1.454305</td><td>2.125900</td><td>2.158177</td><td>1.454305</td><td> 0.24604137</td><td>-1.4482087</td><td>3.0777937</td><td>-0.4705347</td><td>0.6379730630</td><td>0.00000000</td></tr>\n",
       "\t<tr><th scope=row>10032</th><td>10032</td><td>1.454305</td><td>1.454305</td><td>1.454305</td><td>1.454305</td><td>1.454305</td><td>1.454305</td><td>1.454305</td><td>2.702238</td><td>1.454305</td><td>⋯</td><td>1.454305</td><td>1.454305</td><td>1.454305</td><td>1.454305</td><td> 0.36408767</td><td>-1.9640164</td><td>3.0520557</td><td>-0.6435061</td><td>0.5198957750</td><td>0.00000000</td></tr>\n",
       "\t<tr><th scope=row>10074</th><td>10074</td><td>1.454305</td><td>1.454305</td><td>1.454305</td><td>1.454305</td><td>1.454305</td><td>1.454305</td><td>1.454305</td><td>1.454305</td><td>1.454305</td><td>⋯</td><td>1.454305</td><td>2.125900</td><td>1.454305</td><td>1.454305</td><td> 0.11756519</td><td>-0.7496878</td><td>3.0845751</td><td>-0.2430441</td><td>0.8079712373</td><td>0.00000000</td></tr>\n",
       "\t<tr><th scope=row>10110</th><td>10110</td><td>2.914200</td><td>2.954554</td><td>2.784520</td><td>2.561923</td><td>2.604086</td><td>3.008264</td><td>2.228159</td><td>2.556228</td><td>2.829400</td><td>⋯</td><td>2.334573</td><td>2.289409</td><td>2.858168</td><td>2.642169</td><td> 4.82374035</td><td> 0.3594253</td><td>0.4757309</td><td> 0.7555223</td><td>0.4499356743</td><td>0.77325628</td></tr>\n",
       "\t<tr><th scope=row>10129</th><td>10129</td><td>1.454305</td><td>1.454305</td><td>1.454305</td><td>1.454305</td><td>1.454305</td><td>1.454305</td><td>1.454305</td><td>1.454305</td><td>1.454305</td><td>⋯</td><td>2.160961</td><td>2.125900</td><td>1.454305</td><td>1.454305</td><td> 0.24699826</td><td>-1.4521227</td><td>3.0776239</td><td>-0.4718324</td><td>0.6370464171</td><td>0.00000000</td></tr>\n",
       "\t<tr><th scope=row>10140</th><td>10140</td><td>1.454305</td><td>1.454305</td><td>1.454305</td><td>1.454305</td><td>1.454305</td><td>1.454305</td><td>1.454305</td><td>2.393643</td><td>1.454305</td><td>⋯</td><td>1.454305</td><td>2.289409</td><td>1.454305</td><td>2.503324</td><td> 0.66142203</td><td>-2.8373191</td><td>2.1596722</td><td>-1.3137730</td><td>0.1889225927</td><td>0.00000000</td></tr>\n",
       "\t<tr><th scope=row>10178</th><td>10178</td><td>1.454305</td><td>1.454305</td><td>1.454305</td><td>1.454305</td><td>1.454305</td><td>1.454305</td><td>1.454305</td><td>1.454305</td><td>2.203660</td><td>⋯</td><td>2.622771</td><td>2.790403</td><td>2.482011</td><td>2.887353</td><td> 1.60302345</td><td>-4.1273703</td><td>1.1977137</td><td>-3.4460409</td><td>0.0005688644</td><td>0.03242527</td></tr>\n",
       "\t<tr><th scope=row>10185</th><td>10185</td><td>1.454305</td><td>1.981379</td><td>1.454305</td><td>1.454305</td><td>1.454305</td><td>1.454305</td><td>1.454305</td><td>1.454305</td><td>1.454305</td><td>⋯</td><td>1.454305</td><td>1.454305</td><td>1.454305</td><td>1.454305</td><td> 0.07237732</td><td> 0.4868944</td><td>2.8778595</td><td> 0.1691863</td><td>0.8656500947</td><td>0.00000000</td></tr>\n",
       "\t<tr><th scope=row>10212</th><td>10212</td><td>1.454305</td><td>1.454305</td><td>1.454305</td><td>1.454305</td><td>1.454305</td><td>2.510424</td><td>2.228159</td><td>2.207041</td><td>1.454305</td><td>⋯</td><td>2.160961</td><td>2.289409</td><td>2.330995</td><td>1.454305</td><td> 1.06730026</td><td>-0.6164949</td><td>1.3971118</td><td>-0.4412638</td><td>0.6590219943</td><td>0.86922720</td></tr>\n",
       "\t<tr><th scope=row>10213</th><td>10213</td><td>2.664469</td><td>1.454305</td><td>1.454305</td><td>1.454305</td><td>2.238723</td><td>1.454305</td><td>1.454305</td><td>1.454305</td><td>1.454305</td><td>⋯</td><td>2.160961</td><td>1.454305</td><td>1.454305</td><td>1.454305</td><td> 0.79591835</td><td> 0.8025313</td><td>1.9056556</td><td> 0.4211313</td><td>0.6736591869</td><td>0.00000000</td></tr>\n",
       "\t<tr><th scope=row>10217</th><td>10217</td><td>1.454305</td><td>1.454305</td><td>1.454305</td><td>1.454305</td><td>2.238723</td><td>1.964719</td><td>1.454305</td><td>1.454305</td><td>1.454305</td><td>⋯</td><td>1.454305</td><td>1.454305</td><td>1.454305</td><td>1.454305</td><td> 0.22464993</td><td> 1.3112816</td><td>3.0845751</td><td> 0.4251093</td><td>0.6707569797</td><td>0.00000000</td></tr>\n",
       "\t<tr><th scope=row>10220</th><td>10220</td><td>1.454305</td><td>1.454305</td><td>2.180101</td><td>1.454305</td><td>1.454305</td><td>1.454305</td><td>1.454305</td><td>1.454305</td><td>1.454305</td><td>⋯</td><td>1.454305</td><td>1.454305</td><td>1.454305</td><td>1.454305</td><td> 0.13607849</td><td> 0.8990870</td><td>3.0845751</td><td> 0.2914784</td><td>0.7706854711</td><td>0.00000000</td></tr>\n",
       "\t<tr><th scope=row>10245</th><td>10245</td><td>2.365537</td><td>1.981379</td><td>2.359141</td><td>2.708699</td><td>2.002226</td><td>1.454305</td><td>2.738441</td><td>3.287955</td><td>2.203660</td><td>⋯</td><td>2.747882</td><td>2.893624</td><td>2.482011</td><td>3.102007</td><td> 3.90054743</td><td>-1.0026456</td><td>0.6215186</td><td>-1.6132191</td><td>0.1066969131</td><td>0.46948480</td></tr>\n",
       "\t<tr><th scope=row>10260</th><td>10260</td><td>2.664469</td><td>2.698023</td><td>2.655864</td><td>2.398457</td><td>2.434126</td><td>2.354960</td><td>2.588148</td><td>3.075428</td><td>2.389316</td><td>⋯</td><td>2.863984</td><td>2.991066</td><td>2.482011</td><td>3.102007</td><td> 4.64999271</td><td>-0.4119156</td><td>0.5046448</td><td>-0.8162486</td><td>0.4143579488</td><td>0.75713795</td></tr>\n",
       "\t<tr><th scope=row>10261</th><td>10261</td><td>3.974368</td><td>3.733633</td><td>3.812659</td><td>3.668535</td><td>3.660085</td><td>3.946046</td><td>3.887768</td><td>3.657479</td><td>3.279543</td><td>⋯</td><td>3.075287</td><td>2.991066</td><td>3.430984</td><td>3.471263</td><td>13.48888569</td><td> 0.6057311</td><td>0.2780559</td><td> 2.1784511</td><td>0.0293724686</td><td>0.27903845</td></tr>\n",
       "\t<tr><th scope=row>10272</th><td>10272</td><td>2.185091</td><td>1.454305</td><td>2.180101</td><td>1.454305</td><td>1.454305</td><td>1.454305</td><td>1.454305</td><td>1.982865</td><td>2.203660</td><td>⋯</td><td>1.955301</td><td>2.125900</td><td>2.158177</td><td>1.454305</td><td> 0.96663513</td><td>-1.2945230</td><td>1.3543743</td><td>-0.9558089</td><td>0.3391687849</td><td>0.00000000</td></tr>\n",
       "\t<tr><th scope=row>10290</th><td>10290</td><td>2.365537</td><td>2.831163</td><td>3.015541</td><td>2.842969</td><td>2.604086</td><td>2.354960</td><td>2.420637</td><td>1.454305</td><td>2.389316</td><td>⋯</td><td>3.172572</td><td>3.256165</td><td>2.742537</td><td>2.997830</td><td> 5.10795529</td><td>-0.2320356</td><td>0.4997583</td><td>-0.4642956</td><td>0.6424359810</td><td>0.86377711</td></tr>\n",
       "\t<tr><th scope=row>10339</th><td>10339</td><td>2.365537</td><td>2.204587</td><td>2.515378</td><td>2.967385</td><td>2.604086</td><td>1.454305</td><td>2.228159</td><td>2.207041</td><td>2.389316</td><td>⋯</td><td>3.172572</td><td>3.083561</td><td>3.068636</td><td>2.997830</td><td> 4.39678521</td><td>-0.8344839</td><td>0.5626918</td><td>-1.4830212</td><td>0.1380687757</td><td>0.52466135</td></tr>\n",
       "\t<tr><th scope=row>1034</th><td> 1034</td><td>1.454305</td><td>2.552513</td><td>1.454305</td><td>1.454305</td><td>1.454305</td><td>1.454305</td><td>1.454305</td><td>1.454305</td><td>1.454305</td><td>⋯</td><td>1.454305</td><td>1.454305</td><td>1.454305</td><td>1.454305</td><td> 0.28950929</td><td> 1.7149869</td><td>3.0723125</td><td> 0.5582072</td><td>0.5767029135</td><td>0.00000000</td></tr>\n",
       "\t<tr><th scope=row>10393</th><td>10393</td><td>2.664469</td><td>1.454305</td><td>2.180101</td><td>2.398457</td><td>1.454305</td><td>1.454305</td><td>2.228159</td><td>1.454305</td><td>2.203660</td><td>⋯</td><td>2.160961</td><td>2.289409</td><td>2.330995</td><td>2.503324</td><td> 1.92869966</td><td>-0.3306630</td><td>0.8551219</td><td>-0.3866852</td><td>0.6989892838</td><td>0.88919531</td></tr>\n",
       "\t<tr><th scope=row>10420</th><td>10420</td><td>1.454305</td><td>1.454305</td><td>1.454305</td><td>1.454305</td><td>1.454305</td><td>1.454305</td><td>1.454305</td><td>1.454305</td><td>1.454305</td><td>⋯</td><td>2.160961</td><td>1.454305</td><td>1.454305</td><td>1.454305</td><td> 0.12943308</td><td>-0.7496878</td><td>3.0845751</td><td>-0.2430441</td><td>0.8079712373</td><td>0.00000000</td></tr>\n",
       "\t<tr><th scope=row>10441</th><td>10441</td><td>2.914200</td><td>2.698023</td><td>2.784520</td><td>2.967385</td><td>2.895807</td><td>2.778291</td><td>2.875846</td><td>2.556228</td><td>2.952638</td><td>⋯</td><td>2.972723</td><td>2.561785</td><td>2.617946</td><td>2.642169</td><td> 5.61318289</td><td> 0.2999775</td><td>0.4275443</td><td> 0.7016291</td><td>0.4829105255</td><td>0.78458622</td></tr>\n",
       "\t<tr><th scope=row>10458</th><td>10458</td><td>2.664469</td><td>1.454305</td><td>2.180101</td><td>1.454305</td><td>2.604086</td><td>2.778291</td><td>2.420637</td><td>4.512914</td><td>2.203660</td><td>⋯</td><td>1.454305</td><td>1.454305</td><td>1.454305</td><td>1.454305</td><td> 3.63217796</td><td>-0.6165016</td><td>1.4803402</td><td>-0.4164594</td><td>0.6770738374</td><td>0.87711838</td></tr>\n",
       "\t<tr><th scope=row>1046</th><td> 1046</td><td>2.522955</td><td>2.552513</td><td>3.736990</td><td>3.297308</td><td>1.454305</td><td>1.454305</td><td>1.454305</td><td>1.454305</td><td>3.889083</td><td>⋯</td><td>4.330958</td><td>4.297951</td><td>4.890761</td><td>4.490333</td><td>11.35276584</td><td>-1.9061779</td><td>1.0836951</td><td>-1.7589615</td><td>0.0785840509</td><td>0.42227577</td></tr>\n",
       "\t<tr><th scope=row>10460</th><td>10460</td><td>2.365537</td><td>1.454305</td><td>2.359141</td><td>1.454305</td><td>1.454305</td><td>1.454305</td><td>1.454305</td><td>2.207041</td><td>2.203660</td><td>⋯</td><td>2.486256</td><td>2.561785</td><td>2.482011</td><td>2.348969</td><td> 1.71061842</td><td>-1.6403820</td><td>1.0002961</td><td>-1.6398963</td><td>0.1010267260</td><td>0.46068187</td></tr>\n",
       "\t<tr><th scope=row>10490</th><td>10490</td><td>2.794044</td><td>2.698023</td><td>2.655864</td><td>2.967385</td><td>2.604086</td><td>3.113109</td><td>2.588148</td><td>3.075428</td><td>2.389316</td><td>⋯</td><td>2.622771</td><td>2.289409</td><td>2.482011</td><td>2.348969</td><td> 4.86132256</td><td> 0.5296240</td><td>0.4750451</td><td> 1.1148921</td><td>0.2648966632</td><td>0.65144703</td></tr>\n",
       "\t<tr><th scope=row>10494</th><td>10494</td><td>3.420463</td><td>3.281852</td><td>3.015541</td><td>3.083762</td><td>2.756507</td><td>3.008264</td><td>2.738441</td><td>3.741094</td><td>3.377578</td><td>⋯</td><td>3.439016</td><td>3.768690</td><td>3.667237</td><td>3.102007</td><td>10.04799341</td><td>-0.5994824</td><td>0.3292285</td><td>-1.8208704</td><td>0.0686265588</td><td>0.40817884</td></tr>\n",
       "\t<tr><th scope=row>10516</th><td>10516</td><td>3.026664</td><td>1.454305</td><td>2.655864</td><td>1.454305</td><td>3.258867</td><td>2.897067</td><td>3.003104</td><td>4.801928</td><td>3.067934</td><td>⋯</td><td>1.454305</td><td>1.454305</td><td>1.454305</td><td>1.454305</td><td> 5.93686193</td><td>-0.3486143</td><td>1.4892590</td><td>-0.2340857</td><td>0.8149184160</td><td>0.94369500</td></tr>\n",
       "\t<tr><th scope=row>10517</th><td>10517</td><td>1.454305</td><td>2.390503</td><td>2.903842</td><td>1.454305</td><td>1.454305</td><td>1.454305</td><td>2.588148</td><td>2.556228</td><td>2.203660</td><td>⋯</td><td>3.353937</td><td>3.490505</td><td>3.068636</td><td>3.102007</td><td> 4.27206585</td><td>-1.7159204</td><td>0.9981777</td><td>-1.7190531</td><td>0.0856046989</td><td>0.42273972</td></tr>\n",
       "\t<tr><th scope=row>⋮</th><td>⋮</td><td>⋮</td><td>⋮</td><td>⋮</td><td>⋮</td><td>⋮</td><td>⋮</td><td>⋮</td><td>⋮</td><td>⋮</td><td>⋱</td><td>⋮</td><td>⋮</td><td>⋮</td><td>⋮</td><td>⋮</td><td>⋮</td><td>⋮</td><td>⋮</td><td>⋮</td><td>⋮</td></tr>\n",
       "\t<tr><th scope=row>9401</th><td>9401</td><td>1.454305</td><td>1.454305</td><td>1.454305</td><td>1.985148</td><td>1.454305</td><td>1.454305</td><td>1.454305</td><td>1.454305</td><td>1.454305</td><td>⋯</td><td>1.454305</td><td>1.454305</td><td>1.454305</td><td>1.454305</td><td> 0.07349459</td><td> 0.48689435</td><td>2.8874059</td><td> 0.1686269</td><td>0.86609011</td><td>0.0000000</td></tr>\n",
       "\t<tr><th scope=row>9450</th><td>9450</td><td>2.522955</td><td>2.204587</td><td>1.454305</td><td>1.454305</td><td>1.454305</td><td>2.354960</td><td>1.454305</td><td>1.454305</td><td>1.454305</td><td>⋯</td><td>1.454305</td><td>2.125900</td><td>1.454305</td><td>2.172172</td><td> 0.87369852</td><td> 1.26787749</td><td>1.6769119</td><td> 0.7560788</td><td>0.44960196</td><td>0.0000000</td></tr>\n",
       "\t<tr><th scope=row>9488</th><td>9488</td><td>1.454305</td><td>1.454305</td><td>1.454305</td><td>1.454305</td><td>1.454305</td><td>1.454305</td><td>1.454305</td><td>1.454305</td><td>1.454305</td><td>⋯</td><td>2.622771</td><td>3.171756</td><td>1.454305</td><td>2.172172</td><td> 1.10350205</td><td>-3.57632925</td><td>2.8392586</td><td>-1.2595997</td><td>0.20781380</td><td>0.5993934</td></tr>\n",
       "\t<tr><th scope=row>95</th><td>  95</td><td>1.454305</td><td>3.069990</td><td>1.454305</td><td>1.454305</td><td>1.454305</td><td>2.510424</td><td>1.454305</td><td>1.454305</td><td>1.454305</td><td>⋯</td><td>1.454305</td><td>2.125900</td><td>1.454305</td><td>1.454305</td><td> 0.96645995</td><td> 2.44410667</td><td>3.0160988</td><td> 0.8103536</td><td>0.41773695</td><td>0.0000000</td></tr>\n",
       "\t<tr><th scope=row>9554</th><td>9554</td><td>1.454305</td><td>1.454305</td><td>1.454305</td><td>1.454305</td><td>1.454305</td><td>1.454305</td><td>1.454305</td><td>1.454305</td><td>1.454305</td><td>⋯</td><td>1.454305</td><td>1.454305</td><td>1.454305</td><td>2.887353</td><td> 0.46658789</td><td>-2.33227957</td><td>3.0374489</td><td>-0.7678416</td><td>0.44258131</td><td>0.0000000</td></tr>\n",
       "\t<tr><th scope=row>9569</th><td>9569</td><td>2.185091</td><td>2.552513</td><td>2.655864</td><td>2.561923</td><td>1.454305</td><td>2.778291</td><td>2.738441</td><td>2.207041</td><td>2.203660</td><td>⋯</td><td>1.454305</td><td>1.934796</td><td>2.482011</td><td>2.642169</td><td> 3.03572537</td><td> 0.66571964</td><td>0.6586805</td><td> 1.0106867</td><td>0.31216641</td><td>0.6817271</td></tr>\n",
       "\t<tr><th scope=row>9575</th><td>9575</td><td>1.454305</td><td>1.454305</td><td>1.454305</td><td>1.454305</td><td>1.454305</td><td>1.454305</td><td>1.454305</td><td>1.454305</td><td>1.454305</td><td>⋯</td><td>1.955301</td><td>1.934796</td><td>1.953658</td><td>2.172172</td><td> 0.32104805</td><td>-1.80159092</td><td>2.6772028</td><td>-0.6729378</td><td>0.50098688</td><td>0.0000000</td></tr>\n",
       "\t<tr><th scope=row>9590</th><td>9590</td><td>1.454305</td><td>1.454305</td><td>2.180101</td><td>1.454305</td><td>1.454305</td><td>1.454305</td><td>2.228159</td><td>1.454305</td><td>1.454305</td><td>⋯</td><td>1.454305</td><td>1.454305</td><td>2.330995</td><td>1.454305</td><td> 0.48208665</td><td> 0.47509559</td><td>2.5937402</td><td> 0.1831701</td><td>0.85466457</td><td>0.0000000</td></tr>\n",
       "\t<tr><th scope=row>9632</th><td>9632</td><td>1.454305</td><td>1.454305</td><td>1.454305</td><td>1.454305</td><td>1.454305</td><td>1.454305</td><td>1.454305</td><td>1.454305</td><td>1.454305</td><td>⋯</td><td>1.454305</td><td>2.432650</td><td>2.482011</td><td>2.769361</td><td> 0.89201522</td><td>-3.26896957</td><td>2.6978864</td><td>-1.2116780</td><td>0.22563567</td><td>0.0000000</td></tr>\n",
       "\t<tr><th scope=row>9641</th><td>9641</td><td>2.664469</td><td>2.204587</td><td>2.515378</td><td>1.454305</td><td>2.238723</td><td>2.778291</td><td>2.588148</td><td>2.207041</td><td>2.203660</td><td>⋯</td><td>2.486256</td><td>2.289409</td><td>2.330995</td><td>2.172172</td><td> 2.84609538</td><td> 0.42694451</td><td>0.6402604</td><td> 0.6668295</td><td>0.50488107</td><td>0.7953407</td></tr>\n",
       "\t<tr><th scope=row>9673</th><td>9673</td><td>1.454305</td><td>1.454305</td><td>1.454305</td><td>1.454305</td><td>1.454305</td><td>1.454305</td><td>1.454305</td><td>1.454305</td><td>1.454305</td><td>⋯</td><td>1.454305</td><td>1.934796</td><td>1.454305</td><td>1.961941</td><td> 0.12543801</td><td>-0.74968772</td><td>3.0101457</td><td>-0.2490536</td><td>0.80331930</td><td>0.0000000</td></tr>\n",
       "\t<tr><th scope=row>9675</th><td>9675</td><td>1.454305</td><td>1.454305</td><td>1.454305</td><td>1.454305</td><td>1.454305</td><td>1.454305</td><td>1.454305</td><td>1.454305</td><td>1.454305</td><td>⋯</td><td>1.454305</td><td>2.125900</td><td>1.454305</td><td>2.348969</td><td> 0.31753142</td><td>-1.78427887</td><td>3.0606231</td><td>-0.5829790</td><td>0.55990747</td><td>0.0000000</td></tr>\n",
       "\t<tr><th scope=row>9702</th><td>9702</td><td>1.454305</td><td>1.454305</td><td>1.454305</td><td>1.454305</td><td>1.454305</td><td>1.454305</td><td>1.454305</td><td>1.454305</td><td>1.454305</td><td>⋯</td><td>2.334573</td><td>2.561785</td><td>1.454305</td><td>2.642169</td><td> 0.82133965</td><td>-3.15714867</td><td>1.9155268</td><td>-1.6481882</td><td>0.09931405</td><td>0.0000000</td></tr>\n",
       "\t<tr><th scope=row>9712</th><td>9712</td><td>1.454305</td><td>1.454305</td><td>1.454305</td><td>1.985148</td><td>1.454305</td><td>1.454305</td><td>1.454305</td><td>1.454305</td><td>1.454305</td><td>⋯</td><td>1.955301</td><td>1.454305</td><td>1.454305</td><td>1.454305</td><td> 0.30293961</td><td>-0.75165695</td><td>2.9674659</td><td>-0.2532993</td><td>0.80003696</td><td>0.0000000</td></tr>\n",
       "\t<tr><th scope=row>9722</th><td>9722</td><td>1.454305</td><td>1.454305</td><td>1.454305</td><td>1.454305</td><td>1.454305</td><td>1.454305</td><td>1.454305</td><td>2.207041</td><td>1.454305</td><td>⋯</td><td>1.454305</td><td>2.125900</td><td>1.454305</td><td>1.454305</td><td> 0.26320025</td><td>-1.52254913</td><td>3.0740379</td><td>-0.4952929</td><td>0.62039339</td><td>0.0000000</td></tr>\n",
       "\t<tr><th scope=row>9745</th><td>9745</td><td>1.454305</td><td>1.454305</td><td>1.454305</td><td>1.454305</td><td>1.454305</td><td>1.454305</td><td>1.454305</td><td>1.454305</td><td>1.454305</td><td>⋯</td><td>2.334573</td><td>2.125900</td><td>1.454305</td><td>1.454305</td><td> 0.31171480</td><td>-1.76037243</td><td>3.0618431</td><td>-0.5749388</td><td>0.56533269</td><td>0.0000000</td></tr>\n",
       "\t<tr><th scope=row>9779</th><td>9779</td><td>1.454305</td><td>1.454305</td><td>2.359141</td><td>1.454305</td><td>1.454305</td><td>1.454305</td><td>1.454305</td><td>1.454305</td><td>1.454305</td><td>⋯</td><td>2.622771</td><td>2.893624</td><td>2.617946</td><td>3.200798</td><td> 1.98570577</td><td>-3.03219692</td><td>1.7487484</td><td>-1.7339241</td><td>0.08293155</td><td>0.4227397</td></tr>\n",
       "\t<tr><th scope=row>9788</th><td>9788</td><td>1.969645</td><td>1.454305</td><td>1.454305</td><td>2.398457</td><td>1.454305</td><td>1.454305</td><td>1.454305</td><td>1.454305</td><td>2.389316</td><td>⋯</td><td>1.454305</td><td>2.289409</td><td>1.953658</td><td>1.454305</td><td> 0.74661833</td><td>-0.67303081</td><td>1.8414749</td><td>-0.3654846</td><td>0.71474967</td><td>0.0000000</td></tr>\n",
       "\t<tr><th scope=row>9801</th><td>9801</td><td>1.454305</td><td>2.204587</td><td>1.454305</td><td>1.454305</td><td>1.454305</td><td>2.176841</td><td>1.454305</td><td>1.454305</td><td>1.454305</td><td>⋯</td><td>1.454305</td><td>1.454305</td><td>1.454305</td><td>2.348969</td><td> 0.64438746</td><td>-0.35389315</td><td>2.1103547</td><td>-0.1676937</td><td>0.86682427</td><td>0.0000000</td></tr>\n",
       "\t<tr><th scope=row>982</th><td> 982</td><td>1.454305</td><td>1.454305</td><td>1.454305</td><td>1.454305</td><td>2.604086</td><td>1.454305</td><td>1.454305</td><td>1.454305</td><td>1.454305</td><td>⋯</td><td>1.454305</td><td>1.454305</td><td>1.454305</td><td>1.454305</td><td> 0.31436176</td><td> 1.82099800</td><td>3.0663226</td><td> 0.5938703</td><td>0.55259885</td><td>0.0000000</td></tr>\n",
       "\t<tr><th scope=row>9898</th><td>9898</td><td>3.752774</td><td>4.249013</td><td>3.957252</td><td>3.752523</td><td>3.920554</td><td>3.397783</td><td>4.120623</td><td>3.657479</td><td>3.647533</td><td>⋯</td><td>4.088954</td><td>4.076206</td><td>4.141041</td><td>4.193877</td><td>17.55970969</td><td>-0.06894135</td><td>0.2463074</td><td>-0.2798996</td><td>0.77955452</td><td>0.9405257</td></tr>\n",
       "\t<tr><th scope=row>9902</th><td>9902</td><td>1.969645</td><td>1.454305</td><td>1.454305</td><td>1.985148</td><td>1.454305</td><td>1.454305</td><td>2.420637</td><td>1.454305</td><td>1.980818</td><td>⋯</td><td>1.454305</td><td>2.125900</td><td>1.953658</td><td>1.454305</td><td> 0.62636504</td><td> 0.49731305</td><td>1.8873779</td><td> 0.2634942</td><td>0.79216972</td><td>0.0000000</td></tr>\n",
       "\t<tr><th scope=row>9906</th><td>9906</td><td>1.454305</td><td>1.454305</td><td>1.454305</td><td>1.454305</td><td>1.454305</td><td>1.454305</td><td>1.454305</td><td>1.454305</td><td>1.454305</td><td>⋯</td><td>1.454305</td><td>1.454305</td><td>1.454305</td><td>2.348969</td><td> 0.19996624</td><td>-1.16387735</td><td>3.0844233</td><td>-0.3773403</td><td>0.70592070</td><td>0.0000000</td></tr>\n",
       "\t<tr><th scope=row>9908</th><td>9908</td><td>1.454305</td><td>1.454305</td><td>2.655864</td><td>2.210805</td><td>1.454305</td><td>1.454305</td><td>1.454305</td><td>1.454305</td><td>1.454305</td><td>⋯</td><td>2.622771</td><td>2.680298</td><td>2.330995</td><td>2.642169</td><td> 1.68945500</td><td>-1.30618343</td><td>1.1445267</td><td>-1.1412433</td><td>0.25376868</td><td>0.6501040</td></tr>\n",
       "\t<tr><th scope=row>9928</th><td>9928</td><td>1.454305</td><td>1.454305</td><td>1.454305</td><td>1.454305</td><td>1.454305</td><td>1.454305</td><td>1.454305</td><td>1.454305</td><td>1.454305</td><td>⋯</td><td>1.454305</td><td>2.432650</td><td>1.454305</td><td>2.503324</td><td> 0.50175202</td><td>-2.44394509</td><td>2.7077446</td><td>-0.9025759</td><td>0.36675100</td><td>0.0000000</td></tr>\n",
       "\t<tr><th scope=row>993</th><td> 993</td><td>1.454305</td><td>1.454305</td><td>1.454305</td><td>1.454305</td><td>1.454305</td><td>1.454305</td><td>1.454305</td><td>1.454305</td><td>2.203660</td><td>⋯</td><td>1.454305</td><td>1.454305</td><td>1.454305</td><td>1.454305</td><td> 0.14442234</td><td>-0.74968776</td><td>3.0845751</td><td>-0.2430441</td><td>0.80797124</td><td>0.0000000</td></tr>\n",
       "\t<tr><th scope=row>9956</th><td>9956</td><td>1.454305</td><td>1.454305</td><td>1.454305</td><td>2.842969</td><td>1.454305</td><td>1.454305</td><td>1.454305</td><td>1.454305</td><td>1.454305</td><td>⋯</td><td>3.075287</td><td>2.680298</td><td>2.482011</td><td>2.642169</td><td> 1.96634136</td><td>-1.80068259</td><td>1.9307131</td><td>-0.9326516</td><td>0.35099990</td><td>0.7122960</td></tr>\n",
       "\t<tr><th scope=row>9963</th><td>9963</td><td>1.454305</td><td>1.454305</td><td>1.454305</td><td>1.454305</td><td>1.454305</td><td>2.176841</td><td>1.454305</td><td>1.454305</td><td>1.454305</td><td>⋯</td><td>1.454305</td><td>1.454305</td><td>1.454305</td><td>1.454305</td><td> 0.13493809</td><td> 0.89908696</td><td>3.0845751</td><td> 0.2914784</td><td>0.77068547</td><td>0.0000000</td></tr>\n",
       "\t<tr><th scope=row>9988</th><td>9988</td><td>1.454305</td><td>1.454305</td><td>1.454305</td><td>1.454305</td><td>1.454305</td><td>1.454305</td><td>1.454305</td><td>1.454305</td><td>1.454305</td><td>⋯</td><td>1.454305</td><td>1.454305</td><td>1.454305</td><td>2.172172</td><td> 0.13331083</td><td>-0.74968776</td><td>3.0845751</td><td>-0.2430441</td><td>0.80797124</td><td>0.0000000</td></tr>\n",
       "\t<tr><th scope=row>9997</th><td>9997</td><td>1.454305</td><td>1.454305</td><td>1.454305</td><td>1.454305</td><td>1.454305</td><td>1.454305</td><td>1.454305</td><td>2.207041</td><td>1.454305</td><td>⋯</td><td>2.747882</td><td>2.289409</td><td>1.454305</td><td>2.642169</td><td> 1.04355915</td><td>-3.50024596</td><td>1.5500053</td><td>-2.2582154</td><td>0.02393223</td><td>0.2598090</td></tr>\n",
       "</tbody>\n",
       "</table>\n"
      ],
      "text/latex": [
       "A data.frame: 1715 × 21\n",
       "\\begin{tabular}{r|lllllllllllllllllllll}\n",
       "  & ClusterID & control\\_1 & control\\_2 & control\\_3 & control\\_4 & control\\_5 & control\\_6 & control\\_7 & treatment\\_1 & treatment\\_2 & ⋯ & treatment\\_4 & treatment\\_5 & treatment\\_6 & treatment\\_7 & baseMean & Log2foldchange & lfcSE & stat & pvalue & padj\\\\\n",
       "  & <dbl> & <dbl> & <dbl> & <dbl> & <dbl> & <dbl> & <dbl> & <dbl> & <dbl> & <dbl> & ⋯ & <dbl> & <dbl> & <dbl> & <dbl> & <dbl> & <dbl> & <dbl> & <dbl> & <dbl> & <dbl>\\\\\n",
       "\\hline\n",
       "\t10010 & 10010 & 1.454305 & 2.552513 & 1.454305 & 2.561923 & 1.454305 & 2.354960 & 1.454305 & 2.959620 & 1.454305 & ⋯ & 2.486256 & 2.125900 & 1.454305 & 1.454305 &  1.67204885 & -0.1717822 & 1.6035613 & -0.1071255 & 0.9146894542 & 0.98450044\\\\\n",
       "\t10011 & 10011 & 1.454305 & 1.454305 & 1.454305 & 1.454305 & 1.454305 & 1.454305 & 1.454305 & 1.454305 & 1.454305 & ⋯ & 1.454305 & 2.125900 & 2.158177 & 1.454305 &  0.24604137 & -1.4482087 & 3.0777937 & -0.4705347 & 0.6379730630 & 0.00000000\\\\\n",
       "\t10032 & 10032 & 1.454305 & 1.454305 & 1.454305 & 1.454305 & 1.454305 & 1.454305 & 1.454305 & 2.702238 & 1.454305 & ⋯ & 1.454305 & 1.454305 & 1.454305 & 1.454305 &  0.36408767 & -1.9640164 & 3.0520557 & -0.6435061 & 0.5198957750 & 0.00000000\\\\\n",
       "\t10074 & 10074 & 1.454305 & 1.454305 & 1.454305 & 1.454305 & 1.454305 & 1.454305 & 1.454305 & 1.454305 & 1.454305 & ⋯ & 1.454305 & 2.125900 & 1.454305 & 1.454305 &  0.11756519 & -0.7496878 & 3.0845751 & -0.2430441 & 0.8079712373 & 0.00000000\\\\\n",
       "\t10110 & 10110 & 2.914200 & 2.954554 & 2.784520 & 2.561923 & 2.604086 & 3.008264 & 2.228159 & 2.556228 & 2.829400 & ⋯ & 2.334573 & 2.289409 & 2.858168 & 2.642169 &  4.82374035 &  0.3594253 & 0.4757309 &  0.7555223 & 0.4499356743 & 0.77325628\\\\\n",
       "\t10129 & 10129 & 1.454305 & 1.454305 & 1.454305 & 1.454305 & 1.454305 & 1.454305 & 1.454305 & 1.454305 & 1.454305 & ⋯ & 2.160961 & 2.125900 & 1.454305 & 1.454305 &  0.24699826 & -1.4521227 & 3.0776239 & -0.4718324 & 0.6370464171 & 0.00000000\\\\\n",
       "\t10140 & 10140 & 1.454305 & 1.454305 & 1.454305 & 1.454305 & 1.454305 & 1.454305 & 1.454305 & 2.393643 & 1.454305 & ⋯ & 1.454305 & 2.289409 & 1.454305 & 2.503324 &  0.66142203 & -2.8373191 & 2.1596722 & -1.3137730 & 0.1889225927 & 0.00000000\\\\\n",
       "\t10178 & 10178 & 1.454305 & 1.454305 & 1.454305 & 1.454305 & 1.454305 & 1.454305 & 1.454305 & 1.454305 & 2.203660 & ⋯ & 2.622771 & 2.790403 & 2.482011 & 2.887353 &  1.60302345 & -4.1273703 & 1.1977137 & -3.4460409 & 0.0005688644 & 0.03242527\\\\\n",
       "\t10185 & 10185 & 1.454305 & 1.981379 & 1.454305 & 1.454305 & 1.454305 & 1.454305 & 1.454305 & 1.454305 & 1.454305 & ⋯ & 1.454305 & 1.454305 & 1.454305 & 1.454305 &  0.07237732 &  0.4868944 & 2.8778595 &  0.1691863 & 0.8656500947 & 0.00000000\\\\\n",
       "\t10212 & 10212 & 1.454305 & 1.454305 & 1.454305 & 1.454305 & 1.454305 & 2.510424 & 2.228159 & 2.207041 & 1.454305 & ⋯ & 2.160961 & 2.289409 & 2.330995 & 1.454305 &  1.06730026 & -0.6164949 & 1.3971118 & -0.4412638 & 0.6590219943 & 0.86922720\\\\\n",
       "\t10213 & 10213 & 2.664469 & 1.454305 & 1.454305 & 1.454305 & 2.238723 & 1.454305 & 1.454305 & 1.454305 & 1.454305 & ⋯ & 2.160961 & 1.454305 & 1.454305 & 1.454305 &  0.79591835 &  0.8025313 & 1.9056556 &  0.4211313 & 0.6736591869 & 0.00000000\\\\\n",
       "\t10217 & 10217 & 1.454305 & 1.454305 & 1.454305 & 1.454305 & 2.238723 & 1.964719 & 1.454305 & 1.454305 & 1.454305 & ⋯ & 1.454305 & 1.454305 & 1.454305 & 1.454305 &  0.22464993 &  1.3112816 & 3.0845751 &  0.4251093 & 0.6707569797 & 0.00000000\\\\\n",
       "\t10220 & 10220 & 1.454305 & 1.454305 & 2.180101 & 1.454305 & 1.454305 & 1.454305 & 1.454305 & 1.454305 & 1.454305 & ⋯ & 1.454305 & 1.454305 & 1.454305 & 1.454305 &  0.13607849 &  0.8990870 & 3.0845751 &  0.2914784 & 0.7706854711 & 0.00000000\\\\\n",
       "\t10245 & 10245 & 2.365537 & 1.981379 & 2.359141 & 2.708699 & 2.002226 & 1.454305 & 2.738441 & 3.287955 & 2.203660 & ⋯ & 2.747882 & 2.893624 & 2.482011 & 3.102007 &  3.90054743 & -1.0026456 & 0.6215186 & -1.6132191 & 0.1066969131 & 0.46948480\\\\\n",
       "\t10260 & 10260 & 2.664469 & 2.698023 & 2.655864 & 2.398457 & 2.434126 & 2.354960 & 2.588148 & 3.075428 & 2.389316 & ⋯ & 2.863984 & 2.991066 & 2.482011 & 3.102007 &  4.64999271 & -0.4119156 & 0.5046448 & -0.8162486 & 0.4143579488 & 0.75713795\\\\\n",
       "\t10261 & 10261 & 3.974368 & 3.733633 & 3.812659 & 3.668535 & 3.660085 & 3.946046 & 3.887768 & 3.657479 & 3.279543 & ⋯ & 3.075287 & 2.991066 & 3.430984 & 3.471263 & 13.48888569 &  0.6057311 & 0.2780559 &  2.1784511 & 0.0293724686 & 0.27903845\\\\\n",
       "\t10272 & 10272 & 2.185091 & 1.454305 & 2.180101 & 1.454305 & 1.454305 & 1.454305 & 1.454305 & 1.982865 & 2.203660 & ⋯ & 1.955301 & 2.125900 & 2.158177 & 1.454305 &  0.96663513 & -1.2945230 & 1.3543743 & -0.9558089 & 0.3391687849 & 0.00000000\\\\\n",
       "\t10290 & 10290 & 2.365537 & 2.831163 & 3.015541 & 2.842969 & 2.604086 & 2.354960 & 2.420637 & 1.454305 & 2.389316 & ⋯ & 3.172572 & 3.256165 & 2.742537 & 2.997830 &  5.10795529 & -0.2320356 & 0.4997583 & -0.4642956 & 0.6424359810 & 0.86377711\\\\\n",
       "\t10339 & 10339 & 2.365537 & 2.204587 & 2.515378 & 2.967385 & 2.604086 & 1.454305 & 2.228159 & 2.207041 & 2.389316 & ⋯ & 3.172572 & 3.083561 & 3.068636 & 2.997830 &  4.39678521 & -0.8344839 & 0.5626918 & -1.4830212 & 0.1380687757 & 0.52466135\\\\\n",
       "\t1034 &  1034 & 1.454305 & 2.552513 & 1.454305 & 1.454305 & 1.454305 & 1.454305 & 1.454305 & 1.454305 & 1.454305 & ⋯ & 1.454305 & 1.454305 & 1.454305 & 1.454305 &  0.28950929 &  1.7149869 & 3.0723125 &  0.5582072 & 0.5767029135 & 0.00000000\\\\\n",
       "\t10393 & 10393 & 2.664469 & 1.454305 & 2.180101 & 2.398457 & 1.454305 & 1.454305 & 2.228159 & 1.454305 & 2.203660 & ⋯ & 2.160961 & 2.289409 & 2.330995 & 2.503324 &  1.92869966 & -0.3306630 & 0.8551219 & -0.3866852 & 0.6989892838 & 0.88919531\\\\\n",
       "\t10420 & 10420 & 1.454305 & 1.454305 & 1.454305 & 1.454305 & 1.454305 & 1.454305 & 1.454305 & 1.454305 & 1.454305 & ⋯ & 2.160961 & 1.454305 & 1.454305 & 1.454305 &  0.12943308 & -0.7496878 & 3.0845751 & -0.2430441 & 0.8079712373 & 0.00000000\\\\\n",
       "\t10441 & 10441 & 2.914200 & 2.698023 & 2.784520 & 2.967385 & 2.895807 & 2.778291 & 2.875846 & 2.556228 & 2.952638 & ⋯ & 2.972723 & 2.561785 & 2.617946 & 2.642169 &  5.61318289 &  0.2999775 & 0.4275443 &  0.7016291 & 0.4829105255 & 0.78458622\\\\\n",
       "\t10458 & 10458 & 2.664469 & 1.454305 & 2.180101 & 1.454305 & 2.604086 & 2.778291 & 2.420637 & 4.512914 & 2.203660 & ⋯ & 1.454305 & 1.454305 & 1.454305 & 1.454305 &  3.63217796 & -0.6165016 & 1.4803402 & -0.4164594 & 0.6770738374 & 0.87711838\\\\\n",
       "\t1046 &  1046 & 2.522955 & 2.552513 & 3.736990 & 3.297308 & 1.454305 & 1.454305 & 1.454305 & 1.454305 & 3.889083 & ⋯ & 4.330958 & 4.297951 & 4.890761 & 4.490333 & 11.35276584 & -1.9061779 & 1.0836951 & -1.7589615 & 0.0785840509 & 0.42227577\\\\\n",
       "\t10460 & 10460 & 2.365537 & 1.454305 & 2.359141 & 1.454305 & 1.454305 & 1.454305 & 1.454305 & 2.207041 & 2.203660 & ⋯ & 2.486256 & 2.561785 & 2.482011 & 2.348969 &  1.71061842 & -1.6403820 & 1.0002961 & -1.6398963 & 0.1010267260 & 0.46068187\\\\\n",
       "\t10490 & 10490 & 2.794044 & 2.698023 & 2.655864 & 2.967385 & 2.604086 & 3.113109 & 2.588148 & 3.075428 & 2.389316 & ⋯ & 2.622771 & 2.289409 & 2.482011 & 2.348969 &  4.86132256 &  0.5296240 & 0.4750451 &  1.1148921 & 0.2648966632 & 0.65144703\\\\\n",
       "\t10494 & 10494 & 3.420463 & 3.281852 & 3.015541 & 3.083762 & 2.756507 & 3.008264 & 2.738441 & 3.741094 & 3.377578 & ⋯ & 3.439016 & 3.768690 & 3.667237 & 3.102007 & 10.04799341 & -0.5994824 & 0.3292285 & -1.8208704 & 0.0686265588 & 0.40817884\\\\\n",
       "\t10516 & 10516 & 3.026664 & 1.454305 & 2.655864 & 1.454305 & 3.258867 & 2.897067 & 3.003104 & 4.801928 & 3.067934 & ⋯ & 1.454305 & 1.454305 & 1.454305 & 1.454305 &  5.93686193 & -0.3486143 & 1.4892590 & -0.2340857 & 0.8149184160 & 0.94369500\\\\\n",
       "\t10517 & 10517 & 1.454305 & 2.390503 & 2.903842 & 1.454305 & 1.454305 & 1.454305 & 2.588148 & 2.556228 & 2.203660 & ⋯ & 3.353937 & 3.490505 & 3.068636 & 3.102007 &  4.27206585 & -1.7159204 & 0.9981777 & -1.7190531 & 0.0856046989 & 0.42273972\\\\\n",
       "\t⋮ & ⋮ & ⋮ & ⋮ & ⋮ & ⋮ & ⋮ & ⋮ & ⋮ & ⋮ & ⋮ & ⋱ & ⋮ & ⋮ & ⋮ & ⋮ & ⋮ & ⋮ & ⋮ & ⋮ & ⋮ & ⋮\\\\\n",
       "\t9401 & 9401 & 1.454305 & 1.454305 & 1.454305 & 1.985148 & 1.454305 & 1.454305 & 1.454305 & 1.454305 & 1.454305 & ⋯ & 1.454305 & 1.454305 & 1.454305 & 1.454305 &  0.07349459 &  0.48689435 & 2.8874059 &  0.1686269 & 0.86609011 & 0.0000000\\\\\n",
       "\t9450 & 9450 & 2.522955 & 2.204587 & 1.454305 & 1.454305 & 1.454305 & 2.354960 & 1.454305 & 1.454305 & 1.454305 & ⋯ & 1.454305 & 2.125900 & 1.454305 & 2.172172 &  0.87369852 &  1.26787749 & 1.6769119 &  0.7560788 & 0.44960196 & 0.0000000\\\\\n",
       "\t9488 & 9488 & 1.454305 & 1.454305 & 1.454305 & 1.454305 & 1.454305 & 1.454305 & 1.454305 & 1.454305 & 1.454305 & ⋯ & 2.622771 & 3.171756 & 1.454305 & 2.172172 &  1.10350205 & -3.57632925 & 2.8392586 & -1.2595997 & 0.20781380 & 0.5993934\\\\\n",
       "\t95 &   95 & 1.454305 & 3.069990 & 1.454305 & 1.454305 & 1.454305 & 2.510424 & 1.454305 & 1.454305 & 1.454305 & ⋯ & 1.454305 & 2.125900 & 1.454305 & 1.454305 &  0.96645995 &  2.44410667 & 3.0160988 &  0.8103536 & 0.41773695 & 0.0000000\\\\\n",
       "\t9554 & 9554 & 1.454305 & 1.454305 & 1.454305 & 1.454305 & 1.454305 & 1.454305 & 1.454305 & 1.454305 & 1.454305 & ⋯ & 1.454305 & 1.454305 & 1.454305 & 2.887353 &  0.46658789 & -2.33227957 & 3.0374489 & -0.7678416 & 0.44258131 & 0.0000000\\\\\n",
       "\t9569 & 9569 & 2.185091 & 2.552513 & 2.655864 & 2.561923 & 1.454305 & 2.778291 & 2.738441 & 2.207041 & 2.203660 & ⋯ & 1.454305 & 1.934796 & 2.482011 & 2.642169 &  3.03572537 &  0.66571964 & 0.6586805 &  1.0106867 & 0.31216641 & 0.6817271\\\\\n",
       "\t9575 & 9575 & 1.454305 & 1.454305 & 1.454305 & 1.454305 & 1.454305 & 1.454305 & 1.454305 & 1.454305 & 1.454305 & ⋯ & 1.955301 & 1.934796 & 1.953658 & 2.172172 &  0.32104805 & -1.80159092 & 2.6772028 & -0.6729378 & 0.50098688 & 0.0000000\\\\\n",
       "\t9590 & 9590 & 1.454305 & 1.454305 & 2.180101 & 1.454305 & 1.454305 & 1.454305 & 2.228159 & 1.454305 & 1.454305 & ⋯ & 1.454305 & 1.454305 & 2.330995 & 1.454305 &  0.48208665 &  0.47509559 & 2.5937402 &  0.1831701 & 0.85466457 & 0.0000000\\\\\n",
       "\t9632 & 9632 & 1.454305 & 1.454305 & 1.454305 & 1.454305 & 1.454305 & 1.454305 & 1.454305 & 1.454305 & 1.454305 & ⋯ & 1.454305 & 2.432650 & 2.482011 & 2.769361 &  0.89201522 & -3.26896957 & 2.6978864 & -1.2116780 & 0.22563567 & 0.0000000\\\\\n",
       "\t9641 & 9641 & 2.664469 & 2.204587 & 2.515378 & 1.454305 & 2.238723 & 2.778291 & 2.588148 & 2.207041 & 2.203660 & ⋯ & 2.486256 & 2.289409 & 2.330995 & 2.172172 &  2.84609538 &  0.42694451 & 0.6402604 &  0.6668295 & 0.50488107 & 0.7953407\\\\\n",
       "\t9673 & 9673 & 1.454305 & 1.454305 & 1.454305 & 1.454305 & 1.454305 & 1.454305 & 1.454305 & 1.454305 & 1.454305 & ⋯ & 1.454305 & 1.934796 & 1.454305 & 1.961941 &  0.12543801 & -0.74968772 & 3.0101457 & -0.2490536 & 0.80331930 & 0.0000000\\\\\n",
       "\t9675 & 9675 & 1.454305 & 1.454305 & 1.454305 & 1.454305 & 1.454305 & 1.454305 & 1.454305 & 1.454305 & 1.454305 & ⋯ & 1.454305 & 2.125900 & 1.454305 & 2.348969 &  0.31753142 & -1.78427887 & 3.0606231 & -0.5829790 & 0.55990747 & 0.0000000\\\\\n",
       "\t9702 & 9702 & 1.454305 & 1.454305 & 1.454305 & 1.454305 & 1.454305 & 1.454305 & 1.454305 & 1.454305 & 1.454305 & ⋯ & 2.334573 & 2.561785 & 1.454305 & 2.642169 &  0.82133965 & -3.15714867 & 1.9155268 & -1.6481882 & 0.09931405 & 0.0000000\\\\\n",
       "\t9712 & 9712 & 1.454305 & 1.454305 & 1.454305 & 1.985148 & 1.454305 & 1.454305 & 1.454305 & 1.454305 & 1.454305 & ⋯ & 1.955301 & 1.454305 & 1.454305 & 1.454305 &  0.30293961 & -0.75165695 & 2.9674659 & -0.2532993 & 0.80003696 & 0.0000000\\\\\n",
       "\t9722 & 9722 & 1.454305 & 1.454305 & 1.454305 & 1.454305 & 1.454305 & 1.454305 & 1.454305 & 2.207041 & 1.454305 & ⋯ & 1.454305 & 2.125900 & 1.454305 & 1.454305 &  0.26320025 & -1.52254913 & 3.0740379 & -0.4952929 & 0.62039339 & 0.0000000\\\\\n",
       "\t9745 & 9745 & 1.454305 & 1.454305 & 1.454305 & 1.454305 & 1.454305 & 1.454305 & 1.454305 & 1.454305 & 1.454305 & ⋯ & 2.334573 & 2.125900 & 1.454305 & 1.454305 &  0.31171480 & -1.76037243 & 3.0618431 & -0.5749388 & 0.56533269 & 0.0000000\\\\\n",
       "\t9779 & 9779 & 1.454305 & 1.454305 & 2.359141 & 1.454305 & 1.454305 & 1.454305 & 1.454305 & 1.454305 & 1.454305 & ⋯ & 2.622771 & 2.893624 & 2.617946 & 3.200798 &  1.98570577 & -3.03219692 & 1.7487484 & -1.7339241 & 0.08293155 & 0.4227397\\\\\n",
       "\t9788 & 9788 & 1.969645 & 1.454305 & 1.454305 & 2.398457 & 1.454305 & 1.454305 & 1.454305 & 1.454305 & 2.389316 & ⋯ & 1.454305 & 2.289409 & 1.953658 & 1.454305 &  0.74661833 & -0.67303081 & 1.8414749 & -0.3654846 & 0.71474967 & 0.0000000\\\\\n",
       "\t9801 & 9801 & 1.454305 & 2.204587 & 1.454305 & 1.454305 & 1.454305 & 2.176841 & 1.454305 & 1.454305 & 1.454305 & ⋯ & 1.454305 & 1.454305 & 1.454305 & 2.348969 &  0.64438746 & -0.35389315 & 2.1103547 & -0.1676937 & 0.86682427 & 0.0000000\\\\\n",
       "\t982 &  982 & 1.454305 & 1.454305 & 1.454305 & 1.454305 & 2.604086 & 1.454305 & 1.454305 & 1.454305 & 1.454305 & ⋯ & 1.454305 & 1.454305 & 1.454305 & 1.454305 &  0.31436176 &  1.82099800 & 3.0663226 &  0.5938703 & 0.55259885 & 0.0000000\\\\\n",
       "\t9898 & 9898 & 3.752774 & 4.249013 & 3.957252 & 3.752523 & 3.920554 & 3.397783 & 4.120623 & 3.657479 & 3.647533 & ⋯ & 4.088954 & 4.076206 & 4.141041 & 4.193877 & 17.55970969 & -0.06894135 & 0.2463074 & -0.2798996 & 0.77955452 & 0.9405257\\\\\n",
       "\t9902 & 9902 & 1.969645 & 1.454305 & 1.454305 & 1.985148 & 1.454305 & 1.454305 & 2.420637 & 1.454305 & 1.980818 & ⋯ & 1.454305 & 2.125900 & 1.953658 & 1.454305 &  0.62636504 &  0.49731305 & 1.8873779 &  0.2634942 & 0.79216972 & 0.0000000\\\\\n",
       "\t9906 & 9906 & 1.454305 & 1.454305 & 1.454305 & 1.454305 & 1.454305 & 1.454305 & 1.454305 & 1.454305 & 1.454305 & ⋯ & 1.454305 & 1.454305 & 1.454305 & 2.348969 &  0.19996624 & -1.16387735 & 3.0844233 & -0.3773403 & 0.70592070 & 0.0000000\\\\\n",
       "\t9908 & 9908 & 1.454305 & 1.454305 & 2.655864 & 2.210805 & 1.454305 & 1.454305 & 1.454305 & 1.454305 & 1.454305 & ⋯ & 2.622771 & 2.680298 & 2.330995 & 2.642169 &  1.68945500 & -1.30618343 & 1.1445267 & -1.1412433 & 0.25376868 & 0.6501040\\\\\n",
       "\t9928 & 9928 & 1.454305 & 1.454305 & 1.454305 & 1.454305 & 1.454305 & 1.454305 & 1.454305 & 1.454305 & 1.454305 & ⋯ & 1.454305 & 2.432650 & 1.454305 & 2.503324 &  0.50175202 & -2.44394509 & 2.7077446 & -0.9025759 & 0.36675100 & 0.0000000\\\\\n",
       "\t993 &  993 & 1.454305 & 1.454305 & 1.454305 & 1.454305 & 1.454305 & 1.454305 & 1.454305 & 1.454305 & 2.203660 & ⋯ & 1.454305 & 1.454305 & 1.454305 & 1.454305 &  0.14442234 & -0.74968776 & 3.0845751 & -0.2430441 & 0.80797124 & 0.0000000\\\\\n",
       "\t9956 & 9956 & 1.454305 & 1.454305 & 1.454305 & 2.842969 & 1.454305 & 1.454305 & 1.454305 & 1.454305 & 1.454305 & ⋯ & 3.075287 & 2.680298 & 2.482011 & 2.642169 &  1.96634136 & -1.80068259 & 1.9307131 & -0.9326516 & 0.35099990 & 0.7122960\\\\\n",
       "\t9963 & 9963 & 1.454305 & 1.454305 & 1.454305 & 1.454305 & 1.454305 & 2.176841 & 1.454305 & 1.454305 & 1.454305 & ⋯ & 1.454305 & 1.454305 & 1.454305 & 1.454305 &  0.13493809 &  0.89908696 & 3.0845751 &  0.2914784 & 0.77068547 & 0.0000000\\\\\n",
       "\t9988 & 9988 & 1.454305 & 1.454305 & 1.454305 & 1.454305 & 1.454305 & 1.454305 & 1.454305 & 1.454305 & 1.454305 & ⋯ & 1.454305 & 1.454305 & 1.454305 & 2.172172 &  0.13331083 & -0.74968776 & 3.0845751 & -0.2430441 & 0.80797124 & 0.0000000\\\\\n",
       "\t9997 & 9997 & 1.454305 & 1.454305 & 1.454305 & 1.454305 & 1.454305 & 1.454305 & 1.454305 & 2.207041 & 1.454305 & ⋯ & 2.747882 & 2.289409 & 1.454305 & 2.642169 &  1.04355915 & -3.50024596 & 1.5500053 & -2.2582154 & 0.02393223 & 0.2598090\\\\\n",
       "\\end{tabular}\n"
      ],
      "text/markdown": [
       "\n",
       "A data.frame: 1715 × 21\n",
       "\n",
       "| <!--/--> | ClusterID &lt;dbl&gt; | control_1 &lt;dbl&gt; | control_2 &lt;dbl&gt; | control_3 &lt;dbl&gt; | control_4 &lt;dbl&gt; | control_5 &lt;dbl&gt; | control_6 &lt;dbl&gt; | control_7 &lt;dbl&gt; | treatment_1 &lt;dbl&gt; | treatment_2 &lt;dbl&gt; | ⋯ ⋯ | treatment_4 &lt;dbl&gt; | treatment_5 &lt;dbl&gt; | treatment_6 &lt;dbl&gt; | treatment_7 &lt;dbl&gt; | baseMean &lt;dbl&gt; | Log2foldchange &lt;dbl&gt; | lfcSE &lt;dbl&gt; | stat &lt;dbl&gt; | pvalue &lt;dbl&gt; | padj &lt;dbl&gt; |\n",
       "|---|---|---|---|---|---|---|---|---|---|---|---|---|---|---|---|---|---|---|---|---|---|\n",
       "| 10010 | 10010 | 1.454305 | 2.552513 | 1.454305 | 2.561923 | 1.454305 | 2.354960 | 1.454305 | 2.959620 | 1.454305 | ⋯ | 2.486256 | 2.125900 | 1.454305 | 1.454305 |  1.67204885 | -0.1717822 | 1.6035613 | -0.1071255 | 0.9146894542 | 0.98450044 |\n",
       "| 10011 | 10011 | 1.454305 | 1.454305 | 1.454305 | 1.454305 | 1.454305 | 1.454305 | 1.454305 | 1.454305 | 1.454305 | ⋯ | 1.454305 | 2.125900 | 2.158177 | 1.454305 |  0.24604137 | -1.4482087 | 3.0777937 | -0.4705347 | 0.6379730630 | 0.00000000 |\n",
       "| 10032 | 10032 | 1.454305 | 1.454305 | 1.454305 | 1.454305 | 1.454305 | 1.454305 | 1.454305 | 2.702238 | 1.454305 | ⋯ | 1.454305 | 1.454305 | 1.454305 | 1.454305 |  0.36408767 | -1.9640164 | 3.0520557 | -0.6435061 | 0.5198957750 | 0.00000000 |\n",
       "| 10074 | 10074 | 1.454305 | 1.454305 | 1.454305 | 1.454305 | 1.454305 | 1.454305 | 1.454305 | 1.454305 | 1.454305 | ⋯ | 1.454305 | 2.125900 | 1.454305 | 1.454305 |  0.11756519 | -0.7496878 | 3.0845751 | -0.2430441 | 0.8079712373 | 0.00000000 |\n",
       "| 10110 | 10110 | 2.914200 | 2.954554 | 2.784520 | 2.561923 | 2.604086 | 3.008264 | 2.228159 | 2.556228 | 2.829400 | ⋯ | 2.334573 | 2.289409 | 2.858168 | 2.642169 |  4.82374035 |  0.3594253 | 0.4757309 |  0.7555223 | 0.4499356743 | 0.77325628 |\n",
       "| 10129 | 10129 | 1.454305 | 1.454305 | 1.454305 | 1.454305 | 1.454305 | 1.454305 | 1.454305 | 1.454305 | 1.454305 | ⋯ | 2.160961 | 2.125900 | 1.454305 | 1.454305 |  0.24699826 | -1.4521227 | 3.0776239 | -0.4718324 | 0.6370464171 | 0.00000000 |\n",
       "| 10140 | 10140 | 1.454305 | 1.454305 | 1.454305 | 1.454305 | 1.454305 | 1.454305 | 1.454305 | 2.393643 | 1.454305 | ⋯ | 1.454305 | 2.289409 | 1.454305 | 2.503324 |  0.66142203 | -2.8373191 | 2.1596722 | -1.3137730 | 0.1889225927 | 0.00000000 |\n",
       "| 10178 | 10178 | 1.454305 | 1.454305 | 1.454305 | 1.454305 | 1.454305 | 1.454305 | 1.454305 | 1.454305 | 2.203660 | ⋯ | 2.622771 | 2.790403 | 2.482011 | 2.887353 |  1.60302345 | -4.1273703 | 1.1977137 | -3.4460409 | 0.0005688644 | 0.03242527 |\n",
       "| 10185 | 10185 | 1.454305 | 1.981379 | 1.454305 | 1.454305 | 1.454305 | 1.454305 | 1.454305 | 1.454305 | 1.454305 | ⋯ | 1.454305 | 1.454305 | 1.454305 | 1.454305 |  0.07237732 |  0.4868944 | 2.8778595 |  0.1691863 | 0.8656500947 | 0.00000000 |\n",
       "| 10212 | 10212 | 1.454305 | 1.454305 | 1.454305 | 1.454305 | 1.454305 | 2.510424 | 2.228159 | 2.207041 | 1.454305 | ⋯ | 2.160961 | 2.289409 | 2.330995 | 1.454305 |  1.06730026 | -0.6164949 | 1.3971118 | -0.4412638 | 0.6590219943 | 0.86922720 |\n",
       "| 10213 | 10213 | 2.664469 | 1.454305 | 1.454305 | 1.454305 | 2.238723 | 1.454305 | 1.454305 | 1.454305 | 1.454305 | ⋯ | 2.160961 | 1.454305 | 1.454305 | 1.454305 |  0.79591835 |  0.8025313 | 1.9056556 |  0.4211313 | 0.6736591869 | 0.00000000 |\n",
       "| 10217 | 10217 | 1.454305 | 1.454305 | 1.454305 | 1.454305 | 2.238723 | 1.964719 | 1.454305 | 1.454305 | 1.454305 | ⋯ | 1.454305 | 1.454305 | 1.454305 | 1.454305 |  0.22464993 |  1.3112816 | 3.0845751 |  0.4251093 | 0.6707569797 | 0.00000000 |\n",
       "| 10220 | 10220 | 1.454305 | 1.454305 | 2.180101 | 1.454305 | 1.454305 | 1.454305 | 1.454305 | 1.454305 | 1.454305 | ⋯ | 1.454305 | 1.454305 | 1.454305 | 1.454305 |  0.13607849 |  0.8990870 | 3.0845751 |  0.2914784 | 0.7706854711 | 0.00000000 |\n",
       "| 10245 | 10245 | 2.365537 | 1.981379 | 2.359141 | 2.708699 | 2.002226 | 1.454305 | 2.738441 | 3.287955 | 2.203660 | ⋯ | 2.747882 | 2.893624 | 2.482011 | 3.102007 |  3.90054743 | -1.0026456 | 0.6215186 | -1.6132191 | 0.1066969131 | 0.46948480 |\n",
       "| 10260 | 10260 | 2.664469 | 2.698023 | 2.655864 | 2.398457 | 2.434126 | 2.354960 | 2.588148 | 3.075428 | 2.389316 | ⋯ | 2.863984 | 2.991066 | 2.482011 | 3.102007 |  4.64999271 | -0.4119156 | 0.5046448 | -0.8162486 | 0.4143579488 | 0.75713795 |\n",
       "| 10261 | 10261 | 3.974368 | 3.733633 | 3.812659 | 3.668535 | 3.660085 | 3.946046 | 3.887768 | 3.657479 | 3.279543 | ⋯ | 3.075287 | 2.991066 | 3.430984 | 3.471263 | 13.48888569 |  0.6057311 | 0.2780559 |  2.1784511 | 0.0293724686 | 0.27903845 |\n",
       "| 10272 | 10272 | 2.185091 | 1.454305 | 2.180101 | 1.454305 | 1.454305 | 1.454305 | 1.454305 | 1.982865 | 2.203660 | ⋯ | 1.955301 | 2.125900 | 2.158177 | 1.454305 |  0.96663513 | -1.2945230 | 1.3543743 | -0.9558089 | 0.3391687849 | 0.00000000 |\n",
       "| 10290 | 10290 | 2.365537 | 2.831163 | 3.015541 | 2.842969 | 2.604086 | 2.354960 | 2.420637 | 1.454305 | 2.389316 | ⋯ | 3.172572 | 3.256165 | 2.742537 | 2.997830 |  5.10795529 | -0.2320356 | 0.4997583 | -0.4642956 | 0.6424359810 | 0.86377711 |\n",
       "| 10339 | 10339 | 2.365537 | 2.204587 | 2.515378 | 2.967385 | 2.604086 | 1.454305 | 2.228159 | 2.207041 | 2.389316 | ⋯ | 3.172572 | 3.083561 | 3.068636 | 2.997830 |  4.39678521 | -0.8344839 | 0.5626918 | -1.4830212 | 0.1380687757 | 0.52466135 |\n",
       "| 1034 |  1034 | 1.454305 | 2.552513 | 1.454305 | 1.454305 | 1.454305 | 1.454305 | 1.454305 | 1.454305 | 1.454305 | ⋯ | 1.454305 | 1.454305 | 1.454305 | 1.454305 |  0.28950929 |  1.7149869 | 3.0723125 |  0.5582072 | 0.5767029135 | 0.00000000 |\n",
       "| 10393 | 10393 | 2.664469 | 1.454305 | 2.180101 | 2.398457 | 1.454305 | 1.454305 | 2.228159 | 1.454305 | 2.203660 | ⋯ | 2.160961 | 2.289409 | 2.330995 | 2.503324 |  1.92869966 | -0.3306630 | 0.8551219 | -0.3866852 | 0.6989892838 | 0.88919531 |\n",
       "| 10420 | 10420 | 1.454305 | 1.454305 | 1.454305 | 1.454305 | 1.454305 | 1.454305 | 1.454305 | 1.454305 | 1.454305 | ⋯ | 2.160961 | 1.454305 | 1.454305 | 1.454305 |  0.12943308 | -0.7496878 | 3.0845751 | -0.2430441 | 0.8079712373 | 0.00000000 |\n",
       "| 10441 | 10441 | 2.914200 | 2.698023 | 2.784520 | 2.967385 | 2.895807 | 2.778291 | 2.875846 | 2.556228 | 2.952638 | ⋯ | 2.972723 | 2.561785 | 2.617946 | 2.642169 |  5.61318289 |  0.2999775 | 0.4275443 |  0.7016291 | 0.4829105255 | 0.78458622 |\n",
       "| 10458 | 10458 | 2.664469 | 1.454305 | 2.180101 | 1.454305 | 2.604086 | 2.778291 | 2.420637 | 4.512914 | 2.203660 | ⋯ | 1.454305 | 1.454305 | 1.454305 | 1.454305 |  3.63217796 | -0.6165016 | 1.4803402 | -0.4164594 | 0.6770738374 | 0.87711838 |\n",
       "| 1046 |  1046 | 2.522955 | 2.552513 | 3.736990 | 3.297308 | 1.454305 | 1.454305 | 1.454305 | 1.454305 | 3.889083 | ⋯ | 4.330958 | 4.297951 | 4.890761 | 4.490333 | 11.35276584 | -1.9061779 | 1.0836951 | -1.7589615 | 0.0785840509 | 0.42227577 |\n",
       "| 10460 | 10460 | 2.365537 | 1.454305 | 2.359141 | 1.454305 | 1.454305 | 1.454305 | 1.454305 | 2.207041 | 2.203660 | ⋯ | 2.486256 | 2.561785 | 2.482011 | 2.348969 |  1.71061842 | -1.6403820 | 1.0002961 | -1.6398963 | 0.1010267260 | 0.46068187 |\n",
       "| 10490 | 10490 | 2.794044 | 2.698023 | 2.655864 | 2.967385 | 2.604086 | 3.113109 | 2.588148 | 3.075428 | 2.389316 | ⋯ | 2.622771 | 2.289409 | 2.482011 | 2.348969 |  4.86132256 |  0.5296240 | 0.4750451 |  1.1148921 | 0.2648966632 | 0.65144703 |\n",
       "| 10494 | 10494 | 3.420463 | 3.281852 | 3.015541 | 3.083762 | 2.756507 | 3.008264 | 2.738441 | 3.741094 | 3.377578 | ⋯ | 3.439016 | 3.768690 | 3.667237 | 3.102007 | 10.04799341 | -0.5994824 | 0.3292285 | -1.8208704 | 0.0686265588 | 0.40817884 |\n",
       "| 10516 | 10516 | 3.026664 | 1.454305 | 2.655864 | 1.454305 | 3.258867 | 2.897067 | 3.003104 | 4.801928 | 3.067934 | ⋯ | 1.454305 | 1.454305 | 1.454305 | 1.454305 |  5.93686193 | -0.3486143 | 1.4892590 | -0.2340857 | 0.8149184160 | 0.94369500 |\n",
       "| 10517 | 10517 | 1.454305 | 2.390503 | 2.903842 | 1.454305 | 1.454305 | 1.454305 | 2.588148 | 2.556228 | 2.203660 | ⋯ | 3.353937 | 3.490505 | 3.068636 | 3.102007 |  4.27206585 | -1.7159204 | 0.9981777 | -1.7190531 | 0.0856046989 | 0.42273972 |\n",
       "| ⋮ | ⋮ | ⋮ | ⋮ | ⋮ | ⋮ | ⋮ | ⋮ | ⋮ | ⋮ | ⋮ | ⋱ | ⋮ | ⋮ | ⋮ | ⋮ | ⋮ | ⋮ | ⋮ | ⋮ | ⋮ | ⋮ |\n",
       "| 9401 | 9401 | 1.454305 | 1.454305 | 1.454305 | 1.985148 | 1.454305 | 1.454305 | 1.454305 | 1.454305 | 1.454305 | ⋯ | 1.454305 | 1.454305 | 1.454305 | 1.454305 |  0.07349459 |  0.48689435 | 2.8874059 |  0.1686269 | 0.86609011 | 0.0000000 |\n",
       "| 9450 | 9450 | 2.522955 | 2.204587 | 1.454305 | 1.454305 | 1.454305 | 2.354960 | 1.454305 | 1.454305 | 1.454305 | ⋯ | 1.454305 | 2.125900 | 1.454305 | 2.172172 |  0.87369852 |  1.26787749 | 1.6769119 |  0.7560788 | 0.44960196 | 0.0000000 |\n",
       "| 9488 | 9488 | 1.454305 | 1.454305 | 1.454305 | 1.454305 | 1.454305 | 1.454305 | 1.454305 | 1.454305 | 1.454305 | ⋯ | 2.622771 | 3.171756 | 1.454305 | 2.172172 |  1.10350205 | -3.57632925 | 2.8392586 | -1.2595997 | 0.20781380 | 0.5993934 |\n",
       "| 95 |   95 | 1.454305 | 3.069990 | 1.454305 | 1.454305 | 1.454305 | 2.510424 | 1.454305 | 1.454305 | 1.454305 | ⋯ | 1.454305 | 2.125900 | 1.454305 | 1.454305 |  0.96645995 |  2.44410667 | 3.0160988 |  0.8103536 | 0.41773695 | 0.0000000 |\n",
       "| 9554 | 9554 | 1.454305 | 1.454305 | 1.454305 | 1.454305 | 1.454305 | 1.454305 | 1.454305 | 1.454305 | 1.454305 | ⋯ | 1.454305 | 1.454305 | 1.454305 | 2.887353 |  0.46658789 | -2.33227957 | 3.0374489 | -0.7678416 | 0.44258131 | 0.0000000 |\n",
       "| 9569 | 9569 | 2.185091 | 2.552513 | 2.655864 | 2.561923 | 1.454305 | 2.778291 | 2.738441 | 2.207041 | 2.203660 | ⋯ | 1.454305 | 1.934796 | 2.482011 | 2.642169 |  3.03572537 |  0.66571964 | 0.6586805 |  1.0106867 | 0.31216641 | 0.6817271 |\n",
       "| 9575 | 9575 | 1.454305 | 1.454305 | 1.454305 | 1.454305 | 1.454305 | 1.454305 | 1.454305 | 1.454305 | 1.454305 | ⋯ | 1.955301 | 1.934796 | 1.953658 | 2.172172 |  0.32104805 | -1.80159092 | 2.6772028 | -0.6729378 | 0.50098688 | 0.0000000 |\n",
       "| 9590 | 9590 | 1.454305 | 1.454305 | 2.180101 | 1.454305 | 1.454305 | 1.454305 | 2.228159 | 1.454305 | 1.454305 | ⋯ | 1.454305 | 1.454305 | 2.330995 | 1.454305 |  0.48208665 |  0.47509559 | 2.5937402 |  0.1831701 | 0.85466457 | 0.0000000 |\n",
       "| 9632 | 9632 | 1.454305 | 1.454305 | 1.454305 | 1.454305 | 1.454305 | 1.454305 | 1.454305 | 1.454305 | 1.454305 | ⋯ | 1.454305 | 2.432650 | 2.482011 | 2.769361 |  0.89201522 | -3.26896957 | 2.6978864 | -1.2116780 | 0.22563567 | 0.0000000 |\n",
       "| 9641 | 9641 | 2.664469 | 2.204587 | 2.515378 | 1.454305 | 2.238723 | 2.778291 | 2.588148 | 2.207041 | 2.203660 | ⋯ | 2.486256 | 2.289409 | 2.330995 | 2.172172 |  2.84609538 |  0.42694451 | 0.6402604 |  0.6668295 | 0.50488107 | 0.7953407 |\n",
       "| 9673 | 9673 | 1.454305 | 1.454305 | 1.454305 | 1.454305 | 1.454305 | 1.454305 | 1.454305 | 1.454305 | 1.454305 | ⋯ | 1.454305 | 1.934796 | 1.454305 | 1.961941 |  0.12543801 | -0.74968772 | 3.0101457 | -0.2490536 | 0.80331930 | 0.0000000 |\n",
       "| 9675 | 9675 | 1.454305 | 1.454305 | 1.454305 | 1.454305 | 1.454305 | 1.454305 | 1.454305 | 1.454305 | 1.454305 | ⋯ | 1.454305 | 2.125900 | 1.454305 | 2.348969 |  0.31753142 | -1.78427887 | 3.0606231 | -0.5829790 | 0.55990747 | 0.0000000 |\n",
       "| 9702 | 9702 | 1.454305 | 1.454305 | 1.454305 | 1.454305 | 1.454305 | 1.454305 | 1.454305 | 1.454305 | 1.454305 | ⋯ | 2.334573 | 2.561785 | 1.454305 | 2.642169 |  0.82133965 | -3.15714867 | 1.9155268 | -1.6481882 | 0.09931405 | 0.0000000 |\n",
       "| 9712 | 9712 | 1.454305 | 1.454305 | 1.454305 | 1.985148 | 1.454305 | 1.454305 | 1.454305 | 1.454305 | 1.454305 | ⋯ | 1.955301 | 1.454305 | 1.454305 | 1.454305 |  0.30293961 | -0.75165695 | 2.9674659 | -0.2532993 | 0.80003696 | 0.0000000 |\n",
       "| 9722 | 9722 | 1.454305 | 1.454305 | 1.454305 | 1.454305 | 1.454305 | 1.454305 | 1.454305 | 2.207041 | 1.454305 | ⋯ | 1.454305 | 2.125900 | 1.454305 | 1.454305 |  0.26320025 | -1.52254913 | 3.0740379 | -0.4952929 | 0.62039339 | 0.0000000 |\n",
       "| 9745 | 9745 | 1.454305 | 1.454305 | 1.454305 | 1.454305 | 1.454305 | 1.454305 | 1.454305 | 1.454305 | 1.454305 | ⋯ | 2.334573 | 2.125900 | 1.454305 | 1.454305 |  0.31171480 | -1.76037243 | 3.0618431 | -0.5749388 | 0.56533269 | 0.0000000 |\n",
       "| 9779 | 9779 | 1.454305 | 1.454305 | 2.359141 | 1.454305 | 1.454305 | 1.454305 | 1.454305 | 1.454305 | 1.454305 | ⋯ | 2.622771 | 2.893624 | 2.617946 | 3.200798 |  1.98570577 | -3.03219692 | 1.7487484 | -1.7339241 | 0.08293155 | 0.4227397 |\n",
       "| 9788 | 9788 | 1.969645 | 1.454305 | 1.454305 | 2.398457 | 1.454305 | 1.454305 | 1.454305 | 1.454305 | 2.389316 | ⋯ | 1.454305 | 2.289409 | 1.953658 | 1.454305 |  0.74661833 | -0.67303081 | 1.8414749 | -0.3654846 | 0.71474967 | 0.0000000 |\n",
       "| 9801 | 9801 | 1.454305 | 2.204587 | 1.454305 | 1.454305 | 1.454305 | 2.176841 | 1.454305 | 1.454305 | 1.454305 | ⋯ | 1.454305 | 1.454305 | 1.454305 | 2.348969 |  0.64438746 | -0.35389315 | 2.1103547 | -0.1676937 | 0.86682427 | 0.0000000 |\n",
       "| 982 |  982 | 1.454305 | 1.454305 | 1.454305 | 1.454305 | 2.604086 | 1.454305 | 1.454305 | 1.454305 | 1.454305 | ⋯ | 1.454305 | 1.454305 | 1.454305 | 1.454305 |  0.31436176 |  1.82099800 | 3.0663226 |  0.5938703 | 0.55259885 | 0.0000000 |\n",
       "| 9898 | 9898 | 3.752774 | 4.249013 | 3.957252 | 3.752523 | 3.920554 | 3.397783 | 4.120623 | 3.657479 | 3.647533 | ⋯ | 4.088954 | 4.076206 | 4.141041 | 4.193877 | 17.55970969 | -0.06894135 | 0.2463074 | -0.2798996 | 0.77955452 | 0.9405257 |\n",
       "| 9902 | 9902 | 1.969645 | 1.454305 | 1.454305 | 1.985148 | 1.454305 | 1.454305 | 2.420637 | 1.454305 | 1.980818 | ⋯ | 1.454305 | 2.125900 | 1.953658 | 1.454305 |  0.62636504 |  0.49731305 | 1.8873779 |  0.2634942 | 0.79216972 | 0.0000000 |\n",
       "| 9906 | 9906 | 1.454305 | 1.454305 | 1.454305 | 1.454305 | 1.454305 | 1.454305 | 1.454305 | 1.454305 | 1.454305 | ⋯ | 1.454305 | 1.454305 | 1.454305 | 2.348969 |  0.19996624 | -1.16387735 | 3.0844233 | -0.3773403 | 0.70592070 | 0.0000000 |\n",
       "| 9908 | 9908 | 1.454305 | 1.454305 | 2.655864 | 2.210805 | 1.454305 | 1.454305 | 1.454305 | 1.454305 | 1.454305 | ⋯ | 2.622771 | 2.680298 | 2.330995 | 2.642169 |  1.68945500 | -1.30618343 | 1.1445267 | -1.1412433 | 0.25376868 | 0.6501040 |\n",
       "| 9928 | 9928 | 1.454305 | 1.454305 | 1.454305 | 1.454305 | 1.454305 | 1.454305 | 1.454305 | 1.454305 | 1.454305 | ⋯ | 1.454305 | 2.432650 | 1.454305 | 2.503324 |  0.50175202 | -2.44394509 | 2.7077446 | -0.9025759 | 0.36675100 | 0.0000000 |\n",
       "| 993 |  993 | 1.454305 | 1.454305 | 1.454305 | 1.454305 | 1.454305 | 1.454305 | 1.454305 | 1.454305 | 2.203660 | ⋯ | 1.454305 | 1.454305 | 1.454305 | 1.454305 |  0.14442234 | -0.74968776 | 3.0845751 | -0.2430441 | 0.80797124 | 0.0000000 |\n",
       "| 9956 | 9956 | 1.454305 | 1.454305 | 1.454305 | 2.842969 | 1.454305 | 1.454305 | 1.454305 | 1.454305 | 1.454305 | ⋯ | 3.075287 | 2.680298 | 2.482011 | 2.642169 |  1.96634136 | -1.80068259 | 1.9307131 | -0.9326516 | 0.35099990 | 0.7122960 |\n",
       "| 9963 | 9963 | 1.454305 | 1.454305 | 1.454305 | 1.454305 | 1.454305 | 2.176841 | 1.454305 | 1.454305 | 1.454305 | ⋯ | 1.454305 | 1.454305 | 1.454305 | 1.454305 |  0.13493809 |  0.89908696 | 3.0845751 |  0.2914784 | 0.77068547 | 0.0000000 |\n",
       "| 9988 | 9988 | 1.454305 | 1.454305 | 1.454305 | 1.454305 | 1.454305 | 1.454305 | 1.454305 | 1.454305 | 1.454305 | ⋯ | 1.454305 | 1.454305 | 1.454305 | 2.172172 |  0.13331083 | -0.74968776 | 3.0845751 | -0.2430441 | 0.80797124 | 0.0000000 |\n",
       "| 9997 | 9997 | 1.454305 | 1.454305 | 1.454305 | 1.454305 | 1.454305 | 1.454305 | 1.454305 | 2.207041 | 1.454305 | ⋯ | 2.747882 | 2.289409 | 1.454305 | 2.642169 |  1.04355915 | -3.50024596 | 1.5500053 | -2.2582154 | 0.02393223 | 0.2598090 |\n",
       "\n"
      ],
      "text/plain": [
       "      ClusterID control_1 control_2 control_3 control_4 control_5 control_6\n",
       "10010 10010     1.454305  2.552513  1.454305  2.561923  1.454305  2.354960 \n",
       "10011 10011     1.454305  1.454305  1.454305  1.454305  1.454305  1.454305 \n",
       "10032 10032     1.454305  1.454305  1.454305  1.454305  1.454305  1.454305 \n",
       "10074 10074     1.454305  1.454305  1.454305  1.454305  1.454305  1.454305 \n",
       "10110 10110     2.914200  2.954554  2.784520  2.561923  2.604086  3.008264 \n",
       "10129 10129     1.454305  1.454305  1.454305  1.454305  1.454305  1.454305 \n",
       "10140 10140     1.454305  1.454305  1.454305  1.454305  1.454305  1.454305 \n",
       "10178 10178     1.454305  1.454305  1.454305  1.454305  1.454305  1.454305 \n",
       "10185 10185     1.454305  1.981379  1.454305  1.454305  1.454305  1.454305 \n",
       "10212 10212     1.454305  1.454305  1.454305  1.454305  1.454305  2.510424 \n",
       "10213 10213     2.664469  1.454305  1.454305  1.454305  2.238723  1.454305 \n",
       "10217 10217     1.454305  1.454305  1.454305  1.454305  2.238723  1.964719 \n",
       "10220 10220     1.454305  1.454305  2.180101  1.454305  1.454305  1.454305 \n",
       "10245 10245     2.365537  1.981379  2.359141  2.708699  2.002226  1.454305 \n",
       "10260 10260     2.664469  2.698023  2.655864  2.398457  2.434126  2.354960 \n",
       "10261 10261     3.974368  3.733633  3.812659  3.668535  3.660085  3.946046 \n",
       "10272 10272     2.185091  1.454305  2.180101  1.454305  1.454305  1.454305 \n",
       "10290 10290     2.365537  2.831163  3.015541  2.842969  2.604086  2.354960 \n",
       "10339 10339     2.365537  2.204587  2.515378  2.967385  2.604086  1.454305 \n",
       "1034   1034     1.454305  2.552513  1.454305  1.454305  1.454305  1.454305 \n",
       "10393 10393     2.664469  1.454305  2.180101  2.398457  1.454305  1.454305 \n",
       "10420 10420     1.454305  1.454305  1.454305  1.454305  1.454305  1.454305 \n",
       "10441 10441     2.914200  2.698023  2.784520  2.967385  2.895807  2.778291 \n",
       "10458 10458     2.664469  1.454305  2.180101  1.454305  2.604086  2.778291 \n",
       "1046   1046     2.522955  2.552513  3.736990  3.297308  1.454305  1.454305 \n",
       "10460 10460     2.365537  1.454305  2.359141  1.454305  1.454305  1.454305 \n",
       "10490 10490     2.794044  2.698023  2.655864  2.967385  2.604086  3.113109 \n",
       "10494 10494     3.420463  3.281852  3.015541  3.083762  2.756507  3.008264 \n",
       "10516 10516     3.026664  1.454305  2.655864  1.454305  3.258867  2.897067 \n",
       "10517 10517     1.454305  2.390503  2.903842  1.454305  1.454305  1.454305 \n",
       "⋮     ⋮         ⋮         ⋮         ⋮         ⋮         ⋮         ⋮        \n",
       "9401  9401      1.454305  1.454305  1.454305  1.985148  1.454305  1.454305 \n",
       "9450  9450      2.522955  2.204587  1.454305  1.454305  1.454305  2.354960 \n",
       "9488  9488      1.454305  1.454305  1.454305  1.454305  1.454305  1.454305 \n",
       "95      95      1.454305  3.069990  1.454305  1.454305  1.454305  2.510424 \n",
       "9554  9554      1.454305  1.454305  1.454305  1.454305  1.454305  1.454305 \n",
       "9569  9569      2.185091  2.552513  2.655864  2.561923  1.454305  2.778291 \n",
       "9575  9575      1.454305  1.454305  1.454305  1.454305  1.454305  1.454305 \n",
       "9590  9590      1.454305  1.454305  2.180101  1.454305  1.454305  1.454305 \n",
       "9632  9632      1.454305  1.454305  1.454305  1.454305  1.454305  1.454305 \n",
       "9641  9641      2.664469  2.204587  2.515378  1.454305  2.238723  2.778291 \n",
       "9673  9673      1.454305  1.454305  1.454305  1.454305  1.454305  1.454305 \n",
       "9675  9675      1.454305  1.454305  1.454305  1.454305  1.454305  1.454305 \n",
       "9702  9702      1.454305  1.454305  1.454305  1.454305  1.454305  1.454305 \n",
       "9712  9712      1.454305  1.454305  1.454305  1.985148  1.454305  1.454305 \n",
       "9722  9722      1.454305  1.454305  1.454305  1.454305  1.454305  1.454305 \n",
       "9745  9745      1.454305  1.454305  1.454305  1.454305  1.454305  1.454305 \n",
       "9779  9779      1.454305  1.454305  2.359141  1.454305  1.454305  1.454305 \n",
       "9788  9788      1.969645  1.454305  1.454305  2.398457  1.454305  1.454305 \n",
       "9801  9801      1.454305  2.204587  1.454305  1.454305  1.454305  2.176841 \n",
       "982    982      1.454305  1.454305  1.454305  1.454305  2.604086  1.454305 \n",
       "9898  9898      3.752774  4.249013  3.957252  3.752523  3.920554  3.397783 \n",
       "9902  9902      1.969645  1.454305  1.454305  1.985148  1.454305  1.454305 \n",
       "9906  9906      1.454305  1.454305  1.454305  1.454305  1.454305  1.454305 \n",
       "9908  9908      1.454305  1.454305  2.655864  2.210805  1.454305  1.454305 \n",
       "9928  9928      1.454305  1.454305  1.454305  1.454305  1.454305  1.454305 \n",
       "993    993      1.454305  1.454305  1.454305  1.454305  1.454305  1.454305 \n",
       "9956  9956      1.454305  1.454305  1.454305  2.842969  1.454305  1.454305 \n",
       "9963  9963      1.454305  1.454305  1.454305  1.454305  1.454305  2.176841 \n",
       "9988  9988      1.454305  1.454305  1.454305  1.454305  1.454305  1.454305 \n",
       "9997  9997      1.454305  1.454305  1.454305  1.454305  1.454305  1.454305 \n",
       "      control_7 treatment_1 treatment_2 ⋯ treatment_4 treatment_5 treatment_6\n",
       "10010 1.454305  2.959620    1.454305    ⋯ 2.486256    2.125900    1.454305   \n",
       "10011 1.454305  1.454305    1.454305    ⋯ 1.454305    2.125900    2.158177   \n",
       "10032 1.454305  2.702238    1.454305    ⋯ 1.454305    1.454305    1.454305   \n",
       "10074 1.454305  1.454305    1.454305    ⋯ 1.454305    2.125900    1.454305   \n",
       "10110 2.228159  2.556228    2.829400    ⋯ 2.334573    2.289409    2.858168   \n",
       "10129 1.454305  1.454305    1.454305    ⋯ 2.160961    2.125900    1.454305   \n",
       "10140 1.454305  2.393643    1.454305    ⋯ 1.454305    2.289409    1.454305   \n",
       "10178 1.454305  1.454305    2.203660    ⋯ 2.622771    2.790403    2.482011   \n",
       "10185 1.454305  1.454305    1.454305    ⋯ 1.454305    1.454305    1.454305   \n",
       "10212 2.228159  2.207041    1.454305    ⋯ 2.160961    2.289409    2.330995   \n",
       "10213 1.454305  1.454305    1.454305    ⋯ 2.160961    1.454305    1.454305   \n",
       "10217 1.454305  1.454305    1.454305    ⋯ 1.454305    1.454305    1.454305   \n",
       "10220 1.454305  1.454305    1.454305    ⋯ 1.454305    1.454305    1.454305   \n",
       "10245 2.738441  3.287955    2.203660    ⋯ 2.747882    2.893624    2.482011   \n",
       "10260 2.588148  3.075428    2.389316    ⋯ 2.863984    2.991066    2.482011   \n",
       "10261 3.887768  3.657479    3.279543    ⋯ 3.075287    2.991066    3.430984   \n",
       "10272 1.454305  1.982865    2.203660    ⋯ 1.955301    2.125900    2.158177   \n",
       "10290 2.420637  1.454305    2.389316    ⋯ 3.172572    3.256165    2.742537   \n",
       "10339 2.228159  2.207041    2.389316    ⋯ 3.172572    3.083561    3.068636   \n",
       "1034  1.454305  1.454305    1.454305    ⋯ 1.454305    1.454305    1.454305   \n",
       "10393 2.228159  1.454305    2.203660    ⋯ 2.160961    2.289409    2.330995   \n",
       "10420 1.454305  1.454305    1.454305    ⋯ 2.160961    1.454305    1.454305   \n",
       "10441 2.875846  2.556228    2.952638    ⋯ 2.972723    2.561785    2.617946   \n",
       "10458 2.420637  4.512914    2.203660    ⋯ 1.454305    1.454305    1.454305   \n",
       "1046  1.454305  1.454305    3.889083    ⋯ 4.330958    4.297951    4.890761   \n",
       "10460 1.454305  2.207041    2.203660    ⋯ 2.486256    2.561785    2.482011   \n",
       "10490 2.588148  3.075428    2.389316    ⋯ 2.622771    2.289409    2.482011   \n",
       "10494 2.738441  3.741094    3.377578    ⋯ 3.439016    3.768690    3.667237   \n",
       "10516 3.003104  4.801928    3.067934    ⋯ 1.454305    1.454305    1.454305   \n",
       "10517 2.588148  2.556228    2.203660    ⋯ 3.353937    3.490505    3.068636   \n",
       "⋮     ⋮         ⋮           ⋮           ⋱ ⋮           ⋮           ⋮          \n",
       "9401  1.454305  1.454305    1.454305    ⋯ 1.454305    1.454305    1.454305   \n",
       "9450  1.454305  1.454305    1.454305    ⋯ 1.454305    2.125900    1.454305   \n",
       "9488  1.454305  1.454305    1.454305    ⋯ 2.622771    3.171756    1.454305   \n",
       "95    1.454305  1.454305    1.454305    ⋯ 1.454305    2.125900    1.454305   \n",
       "9554  1.454305  1.454305    1.454305    ⋯ 1.454305    1.454305    1.454305   \n",
       "9569  2.738441  2.207041    2.203660    ⋯ 1.454305    1.934796    2.482011   \n",
       "9575  1.454305  1.454305    1.454305    ⋯ 1.955301    1.934796    1.953658   \n",
       "9590  2.228159  1.454305    1.454305    ⋯ 1.454305    1.454305    2.330995   \n",
       "9632  1.454305  1.454305    1.454305    ⋯ 1.454305    2.432650    2.482011   \n",
       "9641  2.588148  2.207041    2.203660    ⋯ 2.486256    2.289409    2.330995   \n",
       "9673  1.454305  1.454305    1.454305    ⋯ 1.454305    1.934796    1.454305   \n",
       "9675  1.454305  1.454305    1.454305    ⋯ 1.454305    2.125900    1.454305   \n",
       "9702  1.454305  1.454305    1.454305    ⋯ 2.334573    2.561785    1.454305   \n",
       "9712  1.454305  1.454305    1.454305    ⋯ 1.955301    1.454305    1.454305   \n",
       "9722  1.454305  2.207041    1.454305    ⋯ 1.454305    2.125900    1.454305   \n",
       "9745  1.454305  1.454305    1.454305    ⋯ 2.334573    2.125900    1.454305   \n",
       "9779  1.454305  1.454305    1.454305    ⋯ 2.622771    2.893624    2.617946   \n",
       "9788  1.454305  1.454305    2.389316    ⋯ 1.454305    2.289409    1.953658   \n",
       "9801  1.454305  1.454305    1.454305    ⋯ 1.454305    1.454305    1.454305   \n",
       "982   1.454305  1.454305    1.454305    ⋯ 1.454305    1.454305    1.454305   \n",
       "9898  4.120623  3.657479    3.647533    ⋯ 4.088954    4.076206    4.141041   \n",
       "9902  2.420637  1.454305    1.980818    ⋯ 1.454305    2.125900    1.953658   \n",
       "9906  1.454305  1.454305    1.454305    ⋯ 1.454305    1.454305    1.454305   \n",
       "9908  1.454305  1.454305    1.454305    ⋯ 2.622771    2.680298    2.330995   \n",
       "9928  1.454305  1.454305    1.454305    ⋯ 1.454305    2.432650    1.454305   \n",
       "993   1.454305  1.454305    2.203660    ⋯ 1.454305    1.454305    1.454305   \n",
       "9956  1.454305  1.454305    1.454305    ⋯ 3.075287    2.680298    2.482011   \n",
       "9963  1.454305  1.454305    1.454305    ⋯ 1.454305    1.454305    1.454305   \n",
       "9988  1.454305  1.454305    1.454305    ⋯ 1.454305    1.454305    1.454305   \n",
       "9997  1.454305  2.207041    1.454305    ⋯ 2.747882    2.289409    1.454305   \n",
       "      treatment_7 baseMean    Log2foldchange lfcSE     stat       pvalue      \n",
       "10010 1.454305     1.67204885 -0.1717822     1.6035613 -0.1071255 0.9146894542\n",
       "10011 1.454305     0.24604137 -1.4482087     3.0777937 -0.4705347 0.6379730630\n",
       "10032 1.454305     0.36408767 -1.9640164     3.0520557 -0.6435061 0.5198957750\n",
       "10074 1.454305     0.11756519 -0.7496878     3.0845751 -0.2430441 0.8079712373\n",
       "10110 2.642169     4.82374035  0.3594253     0.4757309  0.7555223 0.4499356743\n",
       "10129 1.454305     0.24699826 -1.4521227     3.0776239 -0.4718324 0.6370464171\n",
       "10140 2.503324     0.66142203 -2.8373191     2.1596722 -1.3137730 0.1889225927\n",
       "10178 2.887353     1.60302345 -4.1273703     1.1977137 -3.4460409 0.0005688644\n",
       "10185 1.454305     0.07237732  0.4868944     2.8778595  0.1691863 0.8656500947\n",
       "10212 1.454305     1.06730026 -0.6164949     1.3971118 -0.4412638 0.6590219943\n",
       "10213 1.454305     0.79591835  0.8025313     1.9056556  0.4211313 0.6736591869\n",
       "10217 1.454305     0.22464993  1.3112816     3.0845751  0.4251093 0.6707569797\n",
       "10220 1.454305     0.13607849  0.8990870     3.0845751  0.2914784 0.7706854711\n",
       "10245 3.102007     3.90054743 -1.0026456     0.6215186 -1.6132191 0.1066969131\n",
       "10260 3.102007     4.64999271 -0.4119156     0.5046448 -0.8162486 0.4143579488\n",
       "10261 3.471263    13.48888569  0.6057311     0.2780559  2.1784511 0.0293724686\n",
       "10272 1.454305     0.96663513 -1.2945230     1.3543743 -0.9558089 0.3391687849\n",
       "10290 2.997830     5.10795529 -0.2320356     0.4997583 -0.4642956 0.6424359810\n",
       "10339 2.997830     4.39678521 -0.8344839     0.5626918 -1.4830212 0.1380687757\n",
       "1034  1.454305     0.28950929  1.7149869     3.0723125  0.5582072 0.5767029135\n",
       "10393 2.503324     1.92869966 -0.3306630     0.8551219 -0.3866852 0.6989892838\n",
       "10420 1.454305     0.12943308 -0.7496878     3.0845751 -0.2430441 0.8079712373\n",
       "10441 2.642169     5.61318289  0.2999775     0.4275443  0.7016291 0.4829105255\n",
       "10458 1.454305     3.63217796 -0.6165016     1.4803402 -0.4164594 0.6770738374\n",
       "1046  4.490333    11.35276584 -1.9061779     1.0836951 -1.7589615 0.0785840509\n",
       "10460 2.348969     1.71061842 -1.6403820     1.0002961 -1.6398963 0.1010267260\n",
       "10490 2.348969     4.86132256  0.5296240     0.4750451  1.1148921 0.2648966632\n",
       "10494 3.102007    10.04799341 -0.5994824     0.3292285 -1.8208704 0.0686265588\n",
       "10516 1.454305     5.93686193 -0.3486143     1.4892590 -0.2340857 0.8149184160\n",
       "10517 3.102007     4.27206585 -1.7159204     0.9981777 -1.7190531 0.0856046989\n",
       "⋮     ⋮           ⋮           ⋮              ⋮         ⋮          ⋮           \n",
       "9401  1.454305     0.07349459  0.48689435    2.8874059  0.1686269 0.86609011  \n",
       "9450  2.172172     0.87369852  1.26787749    1.6769119  0.7560788 0.44960196  \n",
       "9488  2.172172     1.10350205 -3.57632925    2.8392586 -1.2595997 0.20781380  \n",
       "95    1.454305     0.96645995  2.44410667    3.0160988  0.8103536 0.41773695  \n",
       "9554  2.887353     0.46658789 -2.33227957    3.0374489 -0.7678416 0.44258131  \n",
       "9569  2.642169     3.03572537  0.66571964    0.6586805  1.0106867 0.31216641  \n",
       "9575  2.172172     0.32104805 -1.80159092    2.6772028 -0.6729378 0.50098688  \n",
       "9590  1.454305     0.48208665  0.47509559    2.5937402  0.1831701 0.85466457  \n",
       "9632  2.769361     0.89201522 -3.26896957    2.6978864 -1.2116780 0.22563567  \n",
       "9641  2.172172     2.84609538  0.42694451    0.6402604  0.6668295 0.50488107  \n",
       "9673  1.961941     0.12543801 -0.74968772    3.0101457 -0.2490536 0.80331930  \n",
       "9675  2.348969     0.31753142 -1.78427887    3.0606231 -0.5829790 0.55990747  \n",
       "9702  2.642169     0.82133965 -3.15714867    1.9155268 -1.6481882 0.09931405  \n",
       "9712  1.454305     0.30293961 -0.75165695    2.9674659 -0.2532993 0.80003696  \n",
       "9722  1.454305     0.26320025 -1.52254913    3.0740379 -0.4952929 0.62039339  \n",
       "9745  1.454305     0.31171480 -1.76037243    3.0618431 -0.5749388 0.56533269  \n",
       "9779  3.200798     1.98570577 -3.03219692    1.7487484 -1.7339241 0.08293155  \n",
       "9788  1.454305     0.74661833 -0.67303081    1.8414749 -0.3654846 0.71474967  \n",
       "9801  2.348969     0.64438746 -0.35389315    2.1103547 -0.1676937 0.86682427  \n",
       "982   1.454305     0.31436176  1.82099800    3.0663226  0.5938703 0.55259885  \n",
       "9898  4.193877    17.55970969 -0.06894135    0.2463074 -0.2798996 0.77955452  \n",
       "9902  1.454305     0.62636504  0.49731305    1.8873779  0.2634942 0.79216972  \n",
       "9906  2.348969     0.19996624 -1.16387735    3.0844233 -0.3773403 0.70592070  \n",
       "9908  2.642169     1.68945500 -1.30618343    1.1445267 -1.1412433 0.25376868  \n",
       "9928  2.503324     0.50175202 -2.44394509    2.7077446 -0.9025759 0.36675100  \n",
       "993   1.454305     0.14442234 -0.74968776    3.0845751 -0.2430441 0.80797124  \n",
       "9956  2.642169     1.96634136 -1.80068259    1.9307131 -0.9326516 0.35099990  \n",
       "9963  1.454305     0.13493809  0.89908696    3.0845751  0.2914784 0.77068547  \n",
       "9988  2.172172     0.13331083 -0.74968776    3.0845751 -0.2430441 0.80797124  \n",
       "9997  2.642169     1.04355915 -3.50024596    1.5500053 -2.2582154 0.02393223  \n",
       "      padj      \n",
       "10010 0.98450044\n",
       "10011 0.00000000\n",
       "10032 0.00000000\n",
       "10074 0.00000000\n",
       "10110 0.77325628\n",
       "10129 0.00000000\n",
       "10140 0.00000000\n",
       "10178 0.03242527\n",
       "10185 0.00000000\n",
       "10212 0.86922720\n",
       "10213 0.00000000\n",
       "10217 0.00000000\n",
       "10220 0.00000000\n",
       "10245 0.46948480\n",
       "10260 0.75713795\n",
       "10261 0.27903845\n",
       "10272 0.00000000\n",
       "10290 0.86377711\n",
       "10339 0.52466135\n",
       "1034  0.00000000\n",
       "10393 0.88919531\n",
       "10420 0.00000000\n",
       "10441 0.78458622\n",
       "10458 0.87711838\n",
       "1046  0.42227577\n",
       "10460 0.46068187\n",
       "10490 0.65144703\n",
       "10494 0.40817884\n",
       "10516 0.94369500\n",
       "10517 0.42273972\n",
       "⋮     ⋮         \n",
       "9401  0.0000000 \n",
       "9450  0.0000000 \n",
       "9488  0.5993934 \n",
       "95    0.0000000 \n",
       "9554  0.0000000 \n",
       "9569  0.6817271 \n",
       "9575  0.0000000 \n",
       "9590  0.0000000 \n",
       "9632  0.0000000 \n",
       "9641  0.7953407 \n",
       "9673  0.0000000 \n",
       "9675  0.0000000 \n",
       "9702  0.0000000 \n",
       "9712  0.0000000 \n",
       "9722  0.0000000 \n",
       "9745  0.0000000 \n",
       "9779  0.4227397 \n",
       "9788  0.0000000 \n",
       "9801  0.0000000 \n",
       "982   0.0000000 \n",
       "9898  0.9405257 \n",
       "9902  0.0000000 \n",
       "9906  0.0000000 \n",
       "9908  0.6501040 \n",
       "9928  0.0000000 \n",
       "993   0.0000000 \n",
       "9956  0.7122960 \n",
       "9963  0.0000000 \n",
       "9988  0.0000000 \n",
       "9997  0.2598090 "
      ]
     },
     "metadata": {},
     "output_type": "display_data"
    }
   ],
   "source": [
    "df1"
   ]
  },
  {
   "cell_type": "code",
   "execution_count": null,
   "metadata": {},
   "outputs": [],
   "source": []
  }
 ],
 "metadata": {
  "kernelspec": {
   "display_name": "R",
   "language": "R",
   "name": "ir"
  },
  "language_info": {
   "codemirror_mode": "r",
   "file_extension": ".r",
   "mimetype": "text/x-r-source",
   "name": "R",
   "pygments_lexer": "r",
   "version": "4.1.1"
  }
 },
 "nbformat": 4,
 "nbformat_minor": 4
}
