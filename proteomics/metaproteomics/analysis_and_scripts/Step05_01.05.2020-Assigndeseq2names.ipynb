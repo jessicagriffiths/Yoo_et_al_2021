{
 "cells": [
  {
   "cell_type": "code",
   "execution_count": 15,
   "metadata": {},
   "outputs": [],
   "source": [
    "import time\n",
    "import pandas as pd\n",
    "import matplotlib\n",
    "import matplotlib.pyplot as plt\n",
    "import numpy as np\n",
    "import scipy as sp\n",
    "from matplotlib import cm\n",
    "from collections import OrderedDict\n",
    "import matplotlib as mpl\n",
    "import matplotlib.colors as colors\n",
    "import re\n",
    "\n",
    "import bokeh.io\n",
    "import bokeh.models\n",
    "import bokeh.palettes\n",
    "import bokeh.plotting\n",
    "import seaborn as sns\n",
    "\n",
    "pd.set_option('display.max_rows', 100)\n",
    "\n",
    "bokeh.io.output_notebook\n",
    "\n",
    "import scipy.stats as sps"
   ]
  },
  {
   "cell_type": "code",
   "execution_count": 16,
   "metadata": {},
   "outputs": [
    {
     "name": "stdout",
     "output_type": "stream",
     "text": [
      "0.0003151893615722656\n"
     ]
    }
   ],
   "source": [
    "start = time.time()\n",
    "\n",
    "#----------------------------Formatting and Annotating R-output-----------------------------\n",
    "\n",
    "def annotate_R_abridged(cdhit_file, abridged_R_file):\n",
    "    \"\"\"\n",
    "        Input: CDHIT cluster file and abridged R outputfile containing p-adj values\n",
    "        Output: newly annotated dataframe\n",
    "    \"\"\"\n",
    "    with open(cdhit_file, 'r') as f:\n",
    "        file1 = f.readlines()\n",
    "    cluster_representative_dict1 = {}\n",
    "    for line1 in file1:\n",
    "        line2 = line1.split('\\t')\n",
    "        if line1[0] == '>':\n",
    "            temp_clusternum = line2[0].replace('>Cluster ', '').replace('\\n', '')\n",
    "        elif '... *' in line2[1]:\n",
    "            line3 = line2[1].split(' ')\n",
    "            line4 = line3[1].replace('>', '').replace('...', '')\n",
    "            cluster_representative_dict1[temp_clusternum] = line4\n",
    "            temp_clusternum = \"\"\n",
    "    with open(abridged_R_file, 'r') as g:\n",
    "        file2 = g.readlines()\n",
    "    cluster_rep_list = []\n",
    "    for line1 in file2:\n",
    "        line2 = line1.split(',')\n",
    "        if line2[0] in cluster_representative_dict1.keys():\n",
    "            cluster_rep_list.append(cluster_representative_dict1[line2[0]])\n",
    "    temp_dfC1 = pd.read_csv(abridged_R_file) \n",
    "    temp_dfC1['cluster_representative'] = pd.Series(cluster_rep_list, index=temp_dfC1.index)\n",
    "    return temp_dfC1\n",
    "\n",
    "#-------------------------------------------------------------------------------------------\n",
    "\n",
    "end = time.time()\n",
    "print(end-start)"
   ]
  },
  {
   "cell_type": "code",
   "execution_count": 17,
   "metadata": {},
   "outputs": [
    {
     "name": "stdout",
     "output_type": "stream",
     "text": [
      "3.954814910888672\n"
     ]
    }
   ],
   "source": [
    "start = time.time()\n",
    "\n",
    "#---------------Add Protein Labels to R-analysis of Census SLine Data----------------\n",
    "\n",
    "ChatMouse_65 = annotate_R_abridged('CDHIT/cdhitout-mouse-65.clstr', 'Final_analysis-SC-Deseq2/ChatMouse-SC-DESEQ2-65.csv')\n",
    "ChatMouse_65.to_csv('ChatMouse-SC-DESEQ2-65.csv', index=False)\n",
    "\n",
    "ChatMouse_75 = annotate_R_abridged('CDHIT/cdhitout-mouse-75.clstr', 'Final_analysis-SC-Deseq2/ChatMouse-SC-DESEQ2-75.csv')\n",
    "ChatMouse_75.to_csv('ChatMouse-SC-DESEQ2-75.csv', index=False)\n",
    "\n",
    "ChatMouse_85 = annotate_R_abridged('CDHIT/cdhitout-mouse-85.clstr', 'Final_analysis-SC-Deseq2/ChatMouse-SC-DESEQ2-85.csv')\n",
    "ChatMouse_85.to_csv('ChatMouse-SC-DESEQ2-85.csv', index=False)\n",
    "\n",
    "ChatMouse_95 = annotate_R_abridged('CDHIT/cdhitout-mouse-95.clstr', 'Final_analysis-SC-Deseq2/ChatMouse-SC-DESEQ2-95.csv')\n",
    "ChatMouse_95.to_csv('ChatMouse-SC-DESEQ2-95.csv', index=False)\n",
    "\n",
    "ChatMB_65 = annotate_R_abridged('CDHIT/cdhitout-chat-65.clstr', 'Final_analysis-SC-Deseq2/ChatMB-SC-DESEQ2-65.csv')\n",
    "ChatMB_65.to_csv('ChatMB-SC-DESEQ2-65.csv', index=False)\n",
    "\n",
    "ChatMB_75 = annotate_R_abridged('CDHIT/cdhitout-chat-75.clstr', 'Final_analysis-SC-Deseq2/ChatMB-SC-DESEQ2-75.csv')\n",
    "ChatMB_75.to_csv('ChatMB-SC-DESEQ2-75.csv', index=False)\n",
    "\n",
    "ChatMB_85 = annotate_R_abridged('CDHIT/cdhitout-chat-85.clstr', 'Final_analysis-SC-Deseq2/ChatMB-SC-DESEQ2-85.csv')\n",
    "ChatMB_85.to_csv('ChatMB-SC-DESEQ2-85.csv', index=False)\n",
    "\n",
    "ChatMB_95 = annotate_R_abridged('CDHIT/cdhitout-chat-95.clstr', 'Final_analysis-SC-Deseq2/ChatMB-SC-DESEQ2-95.csv')\n",
    "ChatMB_95.to_csv('ChatMB-SC-DESEQ2-95.csv', index=False)\n",
    "\n",
    "#----------\n",
    "\n",
    "THMouse_65 = annotate_R_abridged('CDHIT/cdhitout-mouse-65.clstr', 'Final_analysis-SC-Deseq2/THMouse-SC-DESEQ2-65.csv')\n",
    "THMouse_65.to_csv('THMouse-SC-DESEQ2-65.csv', index=False)\n",
    "\n",
    "THMouse_75 = annotate_R_abridged('CDHIT/cdhitout-mouse-75.clstr', 'Final_analysis-SC-Deseq2/THMouse-SC-DESEQ2-75.csv')\n",
    "THMouse_75.to_csv('THMouse-SC-DESEQ2-75.csv', index=False)\n",
    "\n",
    "THMouse_85 = annotate_R_abridged('CDHIT/cdhitout-mouse-85.clstr', 'Final_analysis-SC-Deseq2/THMouse-SC-DESEQ2-85.csv')\n",
    "THMouse_85.to_csv('THMouse-SC-DESEQ2-85.csv', index=False)\n",
    "\n",
    "THMouse_95 = annotate_R_abridged('CDHIT/cdhitout-mouse-95.clstr', 'Final_analysis-SC-Deseq2/THMouse-SC-DESEQ2-95.csv')\n",
    "THMouse_95.to_csv('THMouse-SC-DESEQ2-95.csv', index=False)\n",
    "\n",
    "THMB_65 = annotate_R_abridged('CDHIT/cdhitout-TH-65.clstr', 'Final_analysis-SC-Deseq2/THMB-SC-DESEQ2-65.csv')\n",
    "THMB_65.to_csv('THMB-SC-DESEQ2-65.csv', index=False)\n",
    "\n",
    "THMB_75 = annotate_R_abridged('CDHIT/cdhitout-TH-75.clstr', 'Final_analysis-SC-Deseq2/THMB-SC-DESEQ2-75.csv')\n",
    "THMB_75.to_csv('THMB-SC-DESEQ2-75.csv', index=False)\n",
    "\n",
    "THMB_85 = annotate_R_abridged('CDHIT/cdhitout-TH-85.clstr', 'Final_analysis-SC-Deseq2/THMB-SC-DESEQ2-85.csv')\n",
    "THMB_85.to_csv('THMB-SC-DESEQ2-85.csv', index=False)\n",
    "\n",
    "THMB_95 = annotate_R_abridged('CDHIT/cdhitout-TH-95.clstr', 'Final_analysis-SC-Deseq2/THMB-SC-DESEQ2-95.csv')\n",
    "THMB_95.to_csv('THMB-SC-DESEQ2-95.csv', index=False)\n",
    "\n",
    "#------------------------------------------------------------------------------------\n",
    "\n",
    "end = time.time()\n",
    "print(end-start)"
   ]
  },
  {
   "cell_type": "code",
   "execution_count": null,
   "metadata": {},
   "outputs": [],
   "source": []
  },
  {
   "cell_type": "code",
   "execution_count": null,
   "metadata": {},
   "outputs": [],
   "source": []
  }
 ],
 "metadata": {
  "kernelspec": {
   "display_name": "Python 3",
   "language": "python",
   "name": "python3"
  },
  "language_info": {
   "codemirror_mode": {
    "name": "ipython",
    "version": 3
   },
   "file_extension": ".py",
   "mimetype": "text/x-python",
   "name": "python",
   "nbconvert_exporter": "python",
   "pygments_lexer": "ipython3",
   "version": "3.7.5"
  }
 },
 "nbformat": 4,
 "nbformat_minor": 4
}
